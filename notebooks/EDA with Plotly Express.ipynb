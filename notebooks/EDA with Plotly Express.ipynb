{
 "cells": [
  {
   "cell_type": "markdown",
   "metadata": {
    "id": "n4VgsC31y1tO"
   },
   "source": [
    "# Plotly Express: a Walkthrough\n",
    "\n",
    "This notebook is the executable version of the example we walk through in our [Medium announcement article](https://medium.com/@plotlygraphs/introducing-plotly-express-808df010143d) introducing [Plotly Express](https://plotly.express): a terse, consistent, high-level wrapper around Plotly.py for rapid data exploration and figure generation.\n",
    "\n",
    "Plotly Express is now part of the main Plotly.py package, so to install it, just follow our [Getting Started guide](https://plot.ly/python/getting-started/) and remember to install the JupyterLab extensions if you're using JupyterLab, otherwise things won't work!"
   ]
  },
  {
   "cell_type": "markdown",
   "metadata": {
    "id": "W6YaRFc3y1tR"
   },
   "source": [
    "Once you import Plotly Express (aka `px`), most plots are made with just one function call that accepts a [tidy Pandas data frame](http://www.jeannicholashould.com/tidy-data-in-python.html), and a simple description of the plot you want to make. For example if you want a simple scatter plot, it’s just `px.scatter(data, x=\"column_name\", y=\"column_name\")`. Here’s an example with the [Gapminder dataset](https://www.gapminder.org/tools/#$state$time$value=2007;;&chart-type=bubbles) – which comes built-in! – showing life expectancy vs GPD per capita by country for 2007:\n"
   ]
  },
  {
   "cell_type": "code",
   "execution_count": 1,
   "metadata": {
    "colab": {
     "base_uri": "https://localhost:8080/"
    },
    "executionInfo": {
     "elapsed": 4129,
     "status": "ok",
     "timestamp": 1662367167154,
     "user": {
      "displayName": "Pedro V",
      "userId": "03029732001753604159"
     },
     "user_tz": -120
    },
    "id": "V6-7w49Ey1tS",
    "outputId": "670b671e-5f94-4c13-8255-ad71dca7f3d0"
   },
   "outputs": [
    {
     "name": "stdout",
     "output_type": "stream",
     "text": [
      "Requirement already satisfied: plotly in /Users/pedrohserrano/opt/anaconda3/lib/python3.9/site-packages (5.6.0)\n",
      "Requirement already satisfied: six in /Users/pedrohserrano/opt/anaconda3/lib/python3.9/site-packages (from plotly) (1.16.0)\n",
      "Requirement already satisfied: tenacity>=6.2.0 in /Users/pedrohserrano/opt/anaconda3/lib/python3.9/site-packages (from plotly) (8.0.1)\n"
     ]
    }
   ],
   "source": [
    "!pip install plotly"
   ]
  },
  {
   "cell_type": "code",
   "execution_count": null,
   "metadata": {
    "colab": {
     "base_uri": "https://localhost:8080/",
     "height": 542
    },
    "executionInfo": {
     "elapsed": 896,
     "status": "ok",
     "timestamp": 1662367168048,
     "user": {
      "displayName": "Pedro V",
      "userId": "03029732001753604159"
     },
     "user_tz": -120
    },
    "id": "MAjK5NEyy1tT",
    "outputId": "9ed6110e-6c6c-47da-bc60-28c7a19dcfc5"
   },
   "outputs": [],
   "source": [
    "import plotly.express as px\n",
    "gapminder = px.data.gapminder()\n",
    "gapminder2007 = gapminder.query(\"year == 2007\")\n",
    "\n",
    "px.scatter(gapminder2007, x=\"gdpPercap\", y=\"lifeExp\")"
   ]
  },
  {
   "cell_type": "markdown",
   "metadata": {
    "id": "kv0Z5Go1y1tU"
   },
   "source": [
    "If you want to break that down by continent, you can color your points with the `color` argument and `px` takes care of the details:"
   ]
  },
  {
   "cell_type": "code",
   "execution_count": null,
   "metadata": {
    "colab": {
     "base_uri": "https://localhost:8080/",
     "height": 0
    },
    "executionInfo": {
     "elapsed": 38,
     "status": "ok",
     "timestamp": 1662367168049,
     "user": {
      "displayName": "Pedro V",
      "userId": "03029732001753604159"
     },
     "user_tz": -120
    },
    "id": "iPViwn-_y1tU",
    "outputId": "d351c1f7-1341-48ff-f46e-28819faccb5f"
   },
   "outputs": [],
   "source": [
    "gapminder2007.describe()"
   ]
  },
  {
   "cell_type": "code",
   "execution_count": null,
   "metadata": {
    "colab": {
     "base_uri": "https://localhost:8080/",
     "height": 542
    },
    "executionInfo": {
     "elapsed": 38,
     "status": "ok",
     "timestamp": 1662367168051,
     "user": {
      "displayName": "Pedro V",
      "userId": "03029732001753604159"
     },
     "user_tz": -120
    },
    "id": "OHhddFn2y1tV",
    "outputId": "8735d4b7-1e43-4f27-f373-867504b14df5"
   },
   "outputs": [],
   "source": [
    "px.scatter(gapminder2007, x=\"gdpPercap\", y=\"lifeExp\", color=\"continent\")"
   ]
  },
  {
   "cell_type": "markdown",
   "metadata": {
    "id": "yzWU1J-by1tV"
   },
   "source": [
    "Each point here is a country, so maybe we want to scale the points by the country population… no problem: there’s an arg for that too!\n"
   ]
  },
  {
   "cell_type": "code",
   "execution_count": null,
   "metadata": {
    "colab": {
     "base_uri": "https://localhost:8080/",
     "height": 542
    },
    "executionInfo": {
     "elapsed": 37,
     "status": "ok",
     "timestamp": 1662367168052,
     "user": {
      "displayName": "Pedro V",
      "userId": "03029732001753604159"
     },
     "user_tz": -120
    },
    "id": "Ro9X4UP6y1tW",
    "outputId": "b540bef9-7a1b-4c9b-fa76-881819ec89b9"
   },
   "outputs": [],
   "source": [
    "px.scatter(gapminder2007, x=\"gdpPercap\", y=\"lifeExp\", color=\"continent\", size=\"pop\", size_max=60)"
   ]
  },
  {
   "cell_type": "markdown",
   "metadata": {
    "id": "RknRIcWIy1tW"
   },
   "source": [
    "Curious about which point is which country? Add a `hover_name` and you can easily identify any point: never again wonder “what *is* that outlier?”... just mouse over the point you're interested in!"
   ]
  },
  {
   "cell_type": "code",
   "execution_count": null,
   "metadata": {
    "colab": {
     "base_uri": "https://localhost:8080/",
     "height": 542
    },
    "executionInfo": {
     "elapsed": 37,
     "status": "ok",
     "timestamp": 1662367168053,
     "user": {
      "displayName": "Pedro V",
      "userId": "03029732001753604159"
     },
     "user_tz": -120
    },
    "id": "-kwNeT2Ly1tX",
    "outputId": "0c62ba1f-2efd-4042-b114-944573efd028"
   },
   "outputs": [],
   "source": [
    "px.scatter(gapminder2007, x=\"gdpPercap\", y=\"lifeExp\", color=\"continent\", size=\"pop\", size_max=60, hover_name=\"country\")"
   ]
  },
  {
   "cell_type": "markdown",
   "metadata": {
    "id": "gnoKaMuIy1tX"
   },
   "source": [
    "You could facet your plots, just as easily as coloring your points with `facet_col=\"continent\"`, and let's make the x-axis logarithmic to see things more clearly."
   ]
  },
  {
   "cell_type": "code",
   "execution_count": null,
   "metadata": {
    "colab": {
     "base_uri": "https://localhost:8080/",
     "height": 542
    },
    "executionInfo": {
     "elapsed": 37,
     "status": "ok",
     "timestamp": 1662367168054,
     "user": {
      "displayName": "Pedro V",
      "userId": "03029732001753604159"
     },
     "user_tz": -120
    },
    "id": "QE1Xpxbky1tY",
    "outputId": "323671d9-462f-4afb-fd2d-3d936a7ba486"
   },
   "outputs": [],
   "source": [
    "px.scatter(gapminder2007, x=\"gdpPercap\", y=\"lifeExp\", color=\"continent\", size=\"pop\", size_max=60,\n",
    "          hover_name=\"country\", facet_col=\"continent\", log_x=True)"
   ]
  },
  {
   "cell_type": "markdown",
   "metadata": {
    "id": "YgsJHtdXy1tY"
   },
   "source": [
    "Maybe you're interested in more than just 2007 and you want to see how this chart evolved over time. You can animate it by setting `animation_frame=\"year\"` and `animation_group=\"country\"` to identify which circles match which ones across frames. In this final version, let's tweak some of the display here, as text like \"gdpPercap\" is kind of ugly even though it's the name of our data frame column. We can provide prettier `labels` that get applied throughout the figure, in legends, axis titles and hovers. We can also provide some manual bounds so the animation looks nice throughout:"
   ]
  },
  {
   "cell_type": "code",
   "execution_count": null,
   "metadata": {
    "colab": {
     "base_uri": "https://localhost:8080/",
     "height": 542
    },
    "executionInfo": {
     "elapsed": 36,
     "status": "ok",
     "timestamp": 1662367168055,
     "user": {
      "displayName": "Pedro V",
      "userId": "03029732001753604159"
     },
     "user_tz": -120
    },
    "id": "VubBfrbxy1tY",
    "outputId": "78d30a6a-911a-48b9-bb82-9e51549b8c2c"
   },
   "outputs": [],
   "source": [
    "px.scatter(gapminder, \n",
    "           x=\"gdpPercap\", \n",
    "           y=\"lifeExp\",\n",
    "           size=\"pop\", size_max=60, \n",
    "           color=\"continent\", hover_name=\"country\",\n",
    "           animation_frame=\"year\", \n",
    "           animation_group=\"country\", log_x=True, range_x=[100,100000], range_y=[25,90],\n",
    "           labels=dict(pop=\"Population\", gdpPercap=\"GDP per Capita\", lifeExp=\"Life Expectancy\"))"
   ]
  },
  {
   "cell_type": "markdown",
   "metadata": {
    "id": "a7E7UWsXy1tZ"
   },
   "source": [
    "A major part of data exploration is understanding the distribution of values in a dataset, and how those distributions relate to each other. Plotly Express includes a number of functions to do just that.\n",
    "Visualize univariate distributions with histograms, box-and-whisker or violin plots:"
   ]
  },
  {
   "cell_type": "code",
   "execution_count": null,
   "metadata": {
    "executionInfo": {
     "elapsed": 34,
     "status": "ok",
     "timestamp": 1662367168056,
     "user": {
      "displayName": "Pedro V",
      "userId": "03029732001753604159"
     },
     "user_tz": -120
    },
    "id": "e6TNKLvty1tZ"
   },
   "outputs": [],
   "source": [
    "tips = px.data.tips()"
   ]
  },
  {
   "cell_type": "code",
   "execution_count": null,
   "metadata": {
    "colab": {
     "base_uri": "https://localhost:8080/",
     "height": 542
    },
    "executionInfo": {
     "elapsed": 33,
     "status": "ok",
     "timestamp": 1662367168056,
     "user": {
      "displayName": "Pedro V",
      "userId": "03029732001753604159"
     },
     "user_tz": -120
    },
    "id": "JaW5y6P_y1tZ",
    "outputId": "7f62337d-8205-4a82-e1a9-b22720435935"
   },
   "outputs": [],
   "source": [
    "px.histogram(tips, x=\"total_bill\", y=\"tip\", histfunc=\"sum\", color=\"smoker\")"
   ]
  },
  {
   "cell_type": "code",
   "execution_count": null,
   "metadata": {
    "colab": {
     "base_uri": "https://localhost:8080/",
     "height": 542
    },
    "executionInfo": {
     "elapsed": 33,
     "status": "ok",
     "timestamp": 1662367168057,
     "user": {
      "displayName": "Pedro V",
      "userId": "03029732001753604159"
     },
     "user_tz": -120
    },
    "id": "iJiUMCl5y1ta",
    "outputId": "875caf57-4f57-4c5c-f5b3-3ce99a3ea5e4"
   },
   "outputs": [],
   "source": [
    "px.box(tips, x=\"total_bill\", y=\"day\", orientation=\"h\", color=\"smoker\", notched=True,\n",
    "       category_orders={\"day\": [\"Thur\", \"Fri\", \"Sat\", \"Sun\"]})"
   ]
  },
  {
   "cell_type": "code",
   "execution_count": null,
   "metadata": {
    "colab": {
     "base_uri": "https://localhost:8080/",
     "height": 542
    },
    "executionInfo": {
     "elapsed": 32,
     "status": "ok",
     "timestamp": 1662367168057,
     "user": {
      "displayName": "Pedro V",
      "userId": "03029732001753604159"
     },
     "user_tz": -120
    },
    "id": "d-PGowFay1ta",
    "outputId": "88e7d646-06bb-4de5-d9f0-61a3191dc439"
   },
   "outputs": [],
   "source": [
    "px.violin(tips, y=\"tip\", x=\"smoker\", color=\"sex\", box=True, points=\"all\")"
   ]
  },
  {
   "cell_type": "markdown",
   "metadata": {
    "id": "Lr21XMNly1ta"
   },
   "source": [
    "You can also visualize bivariate distributions with marginal rugs, histograms, boxes or violins, and you can add trendlines too. px even helpfully adds the line's equation and R² in the hover box for you! It uses `statsmodels` under the hood to do either Ordinary Least Squares (OLS) regression or Locally Weighted Scatterplot Smoothing (LOWESS)."
   ]
  },
  {
   "cell_type": "code",
   "execution_count": null,
   "metadata": {
    "colab": {
     "base_uri": "https://localhost:8080/",
     "height": 542
    },
    "executionInfo": {
     "elapsed": 779,
     "status": "ok",
     "timestamp": 1662367168805,
     "user": {
      "displayName": "Pedro V",
      "userId": "03029732001753604159"
     },
     "user_tz": -120
    },
    "id": "XtCLpDf1y1ta",
    "outputId": "f91a4841-5465-4e97-f322-daad8743401c"
   },
   "outputs": [],
   "source": [
    "px.scatter(tips, x=\"total_bill\", y=\"tip\", color=\"smoker\", trendline=\"ols\", marginal_x=\"violin\", marginal_y=\"box\")"
   ]
  },
  {
   "cell_type": "markdown",
   "metadata": {
    "id": "M43tsq9vy1tb"
   },
   "source": [
    "# Next steps\n",
    "\n",
    "If you want to use Plotly Express yourself, just `pip install plotly` to install it and head on over to our [reference documentation](https://plot.ly/python-api-reference/plotly.express.html) or just copy-paste from the examples above!"
   ]
  }
 ],
 "metadata": {
  "colab": {
   "provenance": []
  },
  "jupytext": {
   "formats": "ipynb,md"
  },
  "kernelspec": {
   "display_name": "Python 3 (ipykernel)",
   "language": "python",
   "name": "python3"
  },
  "language_info": {
   "codemirror_mode": {
    "name": "ipython",
    "version": 3
   },
   "file_extension": ".py",
   "mimetype": "text/x-python",
   "name": "python",
   "nbconvert_exporter": "python",
   "pygments_lexer": "ipython3",
   "version": "3.9.12"
  }
 },
 "nbformat": 4,
 "nbformat_minor": 4
}
