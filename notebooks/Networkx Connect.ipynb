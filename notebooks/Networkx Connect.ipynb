{
 "cells": [
  {
   "cell_type": "markdown",
   "metadata": {
    "slideshow": {
     "slide_type": "slide"
    }
   },
   "source": [
    "# Querying Graph Databases"
   ]
  },
  {
   "cell_type": "markdown",
   "metadata": {
    "slideshow": {
     "slide_type": "subslide"
    }
   },
   "source": [
    "### Data Representation"
   ]
  },
  {
   "cell_type": "markdown",
   "metadata": {
    "slideshow": {
     "slide_type": "subslide"
    }
   },
   "source": [
    "<img src=\"../img/na7.png\" width=\"600\">\n",
    "<img src=\"../img/na8.png\" width=\"600\">"
   ]
  },
  {
   "cell_type": "markdown",
   "metadata": {
    "slideshow": {
     "slide_type": "slide"
    }
   },
   "source": [
    "## Graph Query Language"
   ]
  },
  {
   "cell_type": "markdown",
   "metadata": {
    "slideshow": {
     "slide_type": "fragment"
    }
   },
   "source": [
    "- Retrieving data from a graphDB requires a query language\n",
    "- Currently no single language has been universally adopted in the same\n",
    "way as SQL was for relational databases\n",
    "- Some standardization efforts Gremlin, SPARQL, and Cypher."
   ]
  },
  {
   "cell_type": "markdown",
   "metadata": {
    "slideshow": {
     "slide_type": "subslide"
    }
   },
   "source": [
    "### Cypher (.cql, .cyp, .cypher)\n",
    "<img src=\"../img/na10.png\" width=\"1000\">"
   ]
  },
  {
   "cell_type": "markdown",
   "metadata": {
    "slideshow": {
     "slide_type": "slide"
    }
   },
   "source": [
    "# neo4j.com/sandbox-v2"
   ]
  },
  {
   "cell_type": "markdown",
   "metadata": {
    "slideshow": {
     "slide_type": "subslide"
    }
   },
   "source": [
    "# py2neo\n",
    "\n",
    "`py2neo` is one of Neo4j's Python drivers. It offers a fully-featured interface for interacting with your data in Neo4j.   Install `py2neo` with:  \n",
    "`!pip install py2neo`."
   ]
  },
  {
   "cell_type": "markdown",
   "metadata": {
    "slideshow": {
     "slide_type": "fragment"
    }
   },
   "source": [
    "Connect to Neo4j with the `Graph` class."
   ]
  },
  {
   "cell_type": "code",
   "execution_count": 1,
   "metadata": {
    "slideshow": {
     "slide_type": "fragment"
    }
   },
   "outputs": [],
   "source": [
    "from py2neo import Graph\n",
    "import pandas as pd"
   ]
  },
  {
   "cell_type": "code",
   "execution_count": 3,
   "metadata": {
    "slideshow": {
     "slide_type": "fragment"
    }
   },
   "outputs": [],
   "source": [
    "graph = Graph(host=\"18.234.106.185\",\n",
    "               password=\"november-uncertainties-defeat\",\n",
    "               port=\"37113\",\n",
    "               scheme='http',\n",
    "               user='neo4j')"
   ]
  },
  {
   "cell_type": "code",
   "execution_count": 4,
   "metadata": {
    "slideshow": {
     "slide_type": "subslide"
    }
   },
   "outputs": [
    {
     "data": {
      "text/plain": [
       "<Graph database=<Database uri='http://18.234.106.185:37113' secure=False user_agent='py2neo/4.2.0 urllib3/1.24.1 Python/3.7.3-final-0 (darwin)'> name='data'>"
      ]
     },
     "execution_count": 4,
     "metadata": {},
     "output_type": "execute_result"
    }
   ],
   "source": [
    "graph"
   ]
  },
  {
   "cell_type": "code",
   "execution_count": 5,
   "metadata": {
    "slideshow": {
     "slide_type": "fragment"
    }
   },
   "outputs": [],
   "source": [
    "def query2table(graph, query):\n",
    "    return pd.DataFrame(graph.run(query).data())"
   ]
  },
  {
   "cell_type": "code",
   "execution_count": 6,
   "metadata": {
    "slideshow": {
     "slide_type": "fragment"
    }
   },
   "outputs": [],
   "source": [
    "query_1 = \"\"\"\n",
    "MATCH (c:Character)-->()\n",
    "WITH c, count(*) AS num\n",
    "RETURN min(num) AS min, max(num) AS max, avg(num) AS avg_characters, stdev(num) AS stdev\n",
    "\"\"\""
   ]
  },
  {
   "cell_type": "code",
   "execution_count": 7,
   "metadata": {
    "slideshow": {
     "slide_type": "fragment"
    }
   },
   "outputs": [
    {
     "data": {
      "text/html": [
       "<div>\n",
       "<style scoped>\n",
       "    .dataframe tbody tr th:only-of-type {\n",
       "        vertical-align: middle;\n",
       "    }\n",
       "\n",
       "    .dataframe tbody tr th {\n",
       "        vertical-align: top;\n",
       "    }\n",
       "\n",
       "    .dataframe thead th {\n",
       "        text-align: right;\n",
       "    }\n",
       "</style>\n",
       "<table border=\"1\" class=\"dataframe\">\n",
       "  <thead>\n",
       "    <tr style=\"text-align: right;\">\n",
       "      <th></th>\n",
       "      <th>avg_characters</th>\n",
       "      <th>max</th>\n",
       "      <th>min</th>\n",
       "      <th>stdev</th>\n",
       "    </tr>\n",
       "  </thead>\n",
       "  <tbody>\n",
       "    <tr>\n",
       "      <th>0</th>\n",
       "      <td>6.578856</td>\n",
       "      <td>148</td>\n",
       "      <td>1</td>\n",
       "      <td>14.160456</td>\n",
       "    </tr>\n",
       "  </tbody>\n",
       "</table>\n",
       "</div>"
      ],
      "text/plain": [
       "   avg_characters  max  min      stdev\n",
       "0        6.578856  148    1  14.160456"
      ]
     },
     "execution_count": 7,
     "metadata": {},
     "output_type": "execute_result"
    }
   ],
   "source": [
    "query2table(graph, query_1)"
   ]
  },
  {
   "cell_type": "code",
   "execution_count": 8,
   "metadata": {
    "slideshow": {
     "slide_type": "subslide"
    }
   },
   "outputs": [],
   "source": [
    "query_2 = \"\"\"\n",
    "MATCH (c:Character)-[r]->(s:Character)\n",
    "WHERE r.weight > 20\n",
    "RETURN c.name AS source, s.name AS target\n",
    "\"\"\""
   ]
  },
  {
   "cell_type": "code",
   "execution_count": 9,
   "metadata": {
    "slideshow": {
     "slide_type": "fragment"
    }
   },
   "outputs": [
    {
     "data": {
      "text/html": [
       "<div>\n",
       "<style scoped>\n",
       "    .dataframe tbody tr th:only-of-type {\n",
       "        vertical-align: middle;\n",
       "    }\n",
       "\n",
       "    .dataframe tbody tr th {\n",
       "        vertical-align: top;\n",
       "    }\n",
       "\n",
       "    .dataframe thead th {\n",
       "        text-align: right;\n",
       "    }\n",
       "</style>\n",
       "<table border=\"1\" class=\"dataframe\">\n",
       "  <thead>\n",
       "    <tr style=\"text-align: right;\">\n",
       "      <th></th>\n",
       "      <th>source</th>\n",
       "      <th>target</th>\n",
       "    </tr>\n",
       "  </thead>\n",
       "  <tbody>\n",
       "    <tr>\n",
       "      <th>0</th>\n",
       "      <td>Aemon-Targaryen-(Maester-Aemon)</td>\n",
       "      <td>Jon-Snow</td>\n",
       "    </tr>\n",
       "    <tr>\n",
       "      <th>1</th>\n",
       "      <td>Aemon-Targaryen-(Maester-Aemon)</td>\n",
       "      <td>Samwell-Tarly</td>\n",
       "    </tr>\n",
       "    <tr>\n",
       "      <th>2</th>\n",
       "      <td>Aemon-Targaryen-(Maester-Aemon)</td>\n",
       "      <td>Samwell-Tarly</td>\n",
       "    </tr>\n",
       "    <tr>\n",
       "      <th>3</th>\n",
       "      <td>Aemon-Targaryen-(Maester-Aemon)</td>\n",
       "      <td>Jon-Snow</td>\n",
       "    </tr>\n",
       "    <tr>\n",
       "      <th>4</th>\n",
       "      <td>Aemon-Targaryen-(Maester-Aemon)</td>\n",
       "      <td>Jon-Snow</td>\n",
       "    </tr>\n",
       "  </tbody>\n",
       "</table>\n",
       "</div>"
      ],
      "text/plain": [
       "                            source         target\n",
       "0  Aemon-Targaryen-(Maester-Aemon)       Jon-Snow\n",
       "1  Aemon-Targaryen-(Maester-Aemon)  Samwell-Tarly\n",
       "2  Aemon-Targaryen-(Maester-Aemon)  Samwell-Tarly\n",
       "3  Aemon-Targaryen-(Maester-Aemon)       Jon-Snow\n",
       "4  Aemon-Targaryen-(Maester-Aemon)       Jon-Snow"
      ]
     },
     "execution_count": 9,
     "metadata": {},
     "output_type": "execute_result"
    }
   ],
   "source": [
    "query2table(graph, query_2).head()"
   ]
  },
  {
   "cell_type": "code",
   "execution_count": 10,
   "metadata": {
    "slideshow": {
     "slide_type": "subslide"
    }
   },
   "outputs": [],
   "source": [
    "query_3 = \"\"\"\n",
    "MATCH (c:Character)-[r]->()\n",
    "WITH r.book as book, c, count(*) AS num\n",
    "RETURN book, min(num) AS min, max(num) AS max, avg(num) AS avg_characters, stdev(num) AS stdev\n",
    "ORDER BY book\n",
    "\n",
    "\"\"\""
   ]
  },
  {
   "cell_type": "code",
   "execution_count": 11,
   "metadata": {
    "slideshow": {
     "slide_type": "fragment"
    }
   },
   "outputs": [
    {
     "data": {
      "text/html": [
       "<div>\n",
       "<style scoped>\n",
       "    .dataframe tbody tr th:only-of-type {\n",
       "        vertical-align: middle;\n",
       "    }\n",
       "\n",
       "    .dataframe tbody tr th {\n",
       "        vertical-align: top;\n",
       "    }\n",
       "\n",
       "    .dataframe thead th {\n",
       "        text-align: right;\n",
       "    }\n",
       "</style>\n",
       "<table border=\"1\" class=\"dataframe\">\n",
       "  <thead>\n",
       "    <tr style=\"text-align: right;\">\n",
       "      <th></th>\n",
       "      <th>avg_characters</th>\n",
       "      <th>book</th>\n",
       "      <th>max</th>\n",
       "      <th>min</th>\n",
       "      <th>stdev</th>\n",
       "    </tr>\n",
       "  </thead>\n",
       "  <tbody>\n",
       "    <tr>\n",
       "      <th>0</th>\n",
       "      <td>4.920863</td>\n",
       "      <td>1</td>\n",
       "      <td>51</td>\n",
       "      <td>1</td>\n",
       "      <td>7.096707</td>\n",
       "    </tr>\n",
       "    <tr>\n",
       "      <th>1</th>\n",
       "      <td>4.015544</td>\n",
       "      <td>2</td>\n",
       "      <td>37</td>\n",
       "      <td>1</td>\n",
       "      <td>5.360423</td>\n",
       "    </tr>\n",
       "    <tr>\n",
       "      <th>2</th>\n",
       "      <td>4.289362</td>\n",
       "      <td>3</td>\n",
       "      <td>36</td>\n",
       "      <td>1</td>\n",
       "      <td>5.335866</td>\n",
       "    </tr>\n",
       "    <tr>\n",
       "      <th>3</th>\n",
       "      <td>3.691667</td>\n",
       "      <td>45</td>\n",
       "      <td>57</td>\n",
       "      <td>1</td>\n",
       "      <td>5.636326</td>\n",
       "    </tr>\n",
       "  </tbody>\n",
       "</table>\n",
       "</div>"
      ],
      "text/plain": [
       "   avg_characters  book  max  min     stdev\n",
       "0        4.920863     1   51    1  7.096707\n",
       "1        4.015544     2   37    1  5.360423\n",
       "2        4.289362     3   36    1  5.335866\n",
       "3        3.691667    45   57    1  5.636326"
      ]
     },
     "execution_count": 11,
     "metadata": {},
     "output_type": "execute_result"
    }
   ],
   "source": [
    "query2table(graph, query_3).head()"
   ]
  },
  {
   "cell_type": "code",
   "execution_count": 12,
   "metadata": {
    "slideshow": {
     "slide_type": "subslide"
    }
   },
   "outputs": [],
   "source": [
    "query_4 = \"\"\"\n",
    "MATCH (c:Character)-[]-()\n",
    "RETURN c.name AS character, count(*) AS degree ORDER BY degree DESC LIMIT 50\n",
    "\"\"\""
   ]
  },
  {
   "cell_type": "code",
   "execution_count": 13,
   "metadata": {
    "slideshow": {
     "slide_type": "fragment"
    }
   },
   "outputs": [
    {
     "data": {
      "text/html": [
       "<div>\n",
       "<style scoped>\n",
       "    .dataframe tbody tr th:only-of-type {\n",
       "        vertical-align: middle;\n",
       "    }\n",
       "\n",
       "    .dataframe tbody tr th {\n",
       "        vertical-align: top;\n",
       "    }\n",
       "\n",
       "    .dataframe thead th {\n",
       "        text-align: right;\n",
       "    }\n",
       "</style>\n",
       "<table border=\"1\" class=\"dataframe\">\n",
       "  <thead>\n",
       "    <tr style=\"text-align: right;\">\n",
       "      <th></th>\n",
       "      <th>character</th>\n",
       "      <th>degree</th>\n",
       "    </tr>\n",
       "  </thead>\n",
       "  <tbody>\n",
       "    <tr>\n",
       "      <th>0</th>\n",
       "      <td>Tyrion-Lannister</td>\n",
       "      <td>210</td>\n",
       "    </tr>\n",
       "    <tr>\n",
       "      <th>1</th>\n",
       "      <td>Jon-Snow</td>\n",
       "      <td>182</td>\n",
       "    </tr>\n",
       "    <tr>\n",
       "      <th>2</th>\n",
       "      <td>Cersei-Lannister</td>\n",
       "      <td>177</td>\n",
       "    </tr>\n",
       "    <tr>\n",
       "      <th>3</th>\n",
       "      <td>Jaime-Lannister</td>\n",
       "      <td>162</td>\n",
       "    </tr>\n",
       "    <tr>\n",
       "      <th>4</th>\n",
       "      <td>Joffrey-Baratheon</td>\n",
       "      <td>140</td>\n",
       "    </tr>\n",
       "  </tbody>\n",
       "</table>\n",
       "</div>"
      ],
      "text/plain": [
       "           character  degree\n",
       "0   Tyrion-Lannister     210\n",
       "1           Jon-Snow     182\n",
       "2   Cersei-Lannister     177\n",
       "3    Jaime-Lannister     162\n",
       "4  Joffrey-Baratheon     140"
      ]
     },
     "execution_count": 13,
     "metadata": {},
     "output_type": "execute_result"
    }
   ],
   "source": [
    "query2table(graph, query_4).head()"
   ]
  },
  {
   "cell_type": "markdown",
   "metadata": {
    "slideshow": {
     "slide_type": "slide"
    }
   },
   "source": [
    "## jgraph"
   ]
  },
  {
   "cell_type": "code",
   "execution_count": 14,
   "metadata": {
    "slideshow": {
     "slide_type": "fragment"
    }
   },
   "outputs": [],
   "source": [
    "import jgraph as jg"
   ]
  },
  {
   "cell_type": "code",
   "execution_count": 15,
   "metadata": {
    "slideshow": {
     "slide_type": "fragment"
    }
   },
   "outputs": [],
   "source": [
    "def query2tuples(graph, query):\n",
    "    return [tuple(x) for x in graph.run(query)]"
   ]
  },
  {
   "cell_type": "code",
   "execution_count": 16,
   "metadata": {
    "slideshow": {
     "slide_type": "subslide"
    }
   },
   "outputs": [],
   "source": [
    "query =\"\"\"MATCH (n)-[INTERACTS1]->(m) RETURN n.name, m.name LIMIT 50\"\"\""
   ]
  },
  {
   "cell_type": "code",
   "execution_count": 17,
   "metadata": {
    "slideshow": {
     "slide_type": "fragment"
    }
   },
   "outputs": [],
   "source": [
    "query_tuples = query2tuples(graph, query)"
   ]
  },
  {
   "cell_type": "code",
   "execution_count": 18,
   "metadata": {
    "slideshow": {
     "slide_type": "subslide"
    }
   },
   "outputs": [
    {
     "data": {
      "text/html": [
       "<div id=\"graph-329e4cea-3437-466d-bec0-f817707b8c3e\"></div>\n",
       "           <script type=\"text/javascript\">\n",
       "           require.config({baseUrl: '/',\n",
       "                             paths: {jgraph: ['nbextensions/jgraph.min', 'https://rawgit.com/patrickfuller/jgraph/master/js/build/jgraph.min']}});\n",
       "           require(['jgraph'], function () {\n",
       "               var $d = $('#graph-329e4cea-3437-466d-bec0-f817707b8c3e');\n",
       "               $d.width(800); $d.height(600);\n",
       "               $d.jgraph = jQuery.extend({}, jgraph);\n",
       "               $d.jgraph.create($d, {nodeSize: 2.000000,\n",
       "                                     edgeSize: 0.250000,\n",
       "                                     defaultNodeColor: '0x383294',\n",
       "                                     defaultEdgeColor: '0xaaaaaa',\n",
       "                                     shader: 'lambert',\n",
       "                                     z: 200,\n",
       "                                     runOptimization: true,\n",
       "                                     directed: false,\n",
       "                                     showSave: false});\n",
       "               $d.jgraph.draw({\n",
       "    \"edges\": [\n",
       "        { \"source\": \"Aegon-V-Targaryen\", \"target\": \"Aemon-Targaryen-(Maester-Aemon)\" },\n",
       "        { \"source\": \"Aegon-V-Targaryen\", \"target\": \"Aemon-Targaryen-(Maester-Aemon)\" },\n",
       "        { \"source\": \"Aemon-Targaryen-(Maester-Aemon)\", \"target\": \"Alliser-Thorne\" },\n",
       "        { \"source\": \"Aemon-Targaryen-(Maester-Aemon)\", \"target\": \"Alliser-Thorne\" },\n",
       "        { \"source\": \"Aerys-II-Targaryen\", \"target\": \"Arthur-Dayne\" },\n",
       "        { \"source\": \"Amory-Lorch\", \"target\": \"Arya-Stark\" },\n",
       "        { \"source\": \"Amabel\", \"target\": \"Arya-Stark\" },\n",
       "        { \"source\": \"Aenys-Frey\", \"target\": \"Arya-Stark\" },\n",
       "        { \"source\": \"Anguy\", \"target\": \"Arya-Stark\" },\n",
       "        { \"source\": \"Areo-Hotah\", \"target\": \"Arys-Oakheart\" },\n",
       "        { \"source\": \"Arianne-Martell\", \"target\": \"Arys-Oakheart\" },\n",
       "        { \"source\": \"Aeron-Greyjoy\", \"target\": \"Balon-Greyjoy\" },\n",
       "        { \"source\": \"Asha-Greyjoy\", \"target\": \"Balon-Greyjoy\" },\n",
       "        { \"source\": \"Baelor-Blacktyde\", \"target\": \"Balon-Greyjoy\" },\n",
       "        { \"source\": \"Asha-Greyjoy\", \"target\": \"Balon-Greyjoy\" },\n",
       "        { \"source\": \"Areo-Hotah\", \"target\": \"Balon-Swann\" },\n",
       "        { \"source\": \"Arianne-Martell\", \"target\": \"Balon-Swann\" },\n",
       "        { \"source\": \"Aggo\", \"target\": \"Barristan-Selmy\" },\n",
       "        { \"source\": \"Aerys-II-Targaryen\", \"target\": \"Barristan-Selmy\" },\n",
       "        { \"source\": \"Arya-Stark\", \"target\": \"Benjen-Stark\" },\n",
       "        { \"source\": \"Arya-Stark\", \"target\": \"Beric-Dondarrion\" },\n",
       "        { \"source\": \"Anguy\", \"target\": \"Beric-Dondarrion\" },\n",
       "        { \"source\": \"Arya-Stark\", \"target\": \"Beric-Dondarrion\" },\n",
       "        { \"source\": \"Balon-Swann\", \"target\": \"Boros-Blount\" },\n",
       "        { \"source\": \"Barristan-Selmy\", \"target\": \"Boros-Blount\" },\n",
       "        { \"source\": \"Alliser-Thorne\", \"target\": \"Bowen-Marsh\" },\n",
       "        { \"source\": \"Aemon-Targaryen-(Maester-Aemon)\", \"target\": \"Bowen-Marsh\" },\n",
       "        { \"source\": \"Arya-Stark\", \"target\": \"Bran-Stark\" },\n",
       "        { \"source\": \"Benjen-Stark\", \"target\": \"Bran-Stark\" },\n",
       "        { \"source\": \"Beth-Cassel\", \"target\": \"Bran-Stark\" },\n",
       "        { \"source\": \"Alebelly\", \"target\": \"Bran-Stark\" },\n",
       "        { \"source\": \"Arya-Stark\", \"target\": \"Bran-Stark\" },\n",
       "        { \"source\": \"Arya-Stark\", \"target\": \"Bran-Stark\" },\n",
       "        { \"source\": \"Benjen-Stark\", \"target\": \"Bran-Stark\" },\n",
       "        { \"source\": \"Arya-Stark\", \"target\": \"Bran-Stark\" },\n",
       "        { \"source\": \"Aerys-II-Targaryen\", \"target\": \"Brandon-Stark\" },\n",
       "        { \"source\": \"Balman-Byrch\", \"target\": \"Bronn\" },\n",
       "        { \"source\": \"Alayaya\", \"target\": \"Bronn\" },\n",
       "        { \"source\": \"Addam-Marbrand\", \"target\": \"Brynden-Tully\" },\n",
       "        { \"source\": \"Arya-Stark\", \"target\": \"Brynden-Tully\" },\n",
       "        { \"source\": \"Arya-Stark\", \"target\": \"Catelyn-Stark\" },\n",
       "        { \"source\": \"Bran-Stark\", \"target\": \"Catelyn-Stark\" },\n",
       "        { \"source\": \"Brynden-Tully\", \"target\": \"Catelyn-Stark\" },\n",
       "        { \"source\": \"Bronn\", \"target\": \"Catelyn-Stark\" },\n",
       "        { \"source\": \"Brynden-Tully\", \"target\": \"Catelyn-Stark\" },\n",
       "        { \"source\": \"Balon-Greyjoy\", \"target\": \"Catelyn-Stark\" },\n",
       "        { \"source\": \"Brienne-of-Tarth\", \"target\": \"Catelyn-Stark\" },\n",
       "        { \"source\": \"Bran-Stark\", \"target\": \"Catelyn-Stark\" },\n",
       "        { \"source\": \"Brenett\", \"target\": \"Catelyn-Stark\" },\n",
       "        { \"source\": \"Brienne-of-Tarth\", \"target\": \"Catelyn-Stark\" }\n",
       "    ],\n",
       "    \"nodes\": {\n",
       "        \"Addam-Marbrand\": { \"location\": [ -2.0, -2.0, -2.0 ] },\n",
       "        \"Aegon-V-Targaryen\": { \"location\": [ 2.0, 2.0, 2.0 ] },\n",
       "        \"Aemon-Targaryen-(Maester-Aemon)\": { \"location\": [ 2.0, 2.0, 2.0 ] },\n",
       "        \"Aenys-Frey\": { \"location\": [ 2.0, 2.0, 2.0 ] },\n",
       "        \"Aeron-Greyjoy\": { \"location\": [ 2.0, 2.0, 2.0 ] },\n",
       "        \"Aerys-II-Targaryen\": { \"location\": [ 2.0, 2.0, 2.0 ] },\n",
       "        \"Aggo\": { \"location\": [ -2.0, -2.0, -2.0 ] },\n",
       "        \"Alayaya\": { \"location\": [ 2.0, 2.0, 2.0 ] },\n",
       "        \"Alebelly\": { \"location\": [ 2.0, 2.0, 2.0 ] },\n",
       "        \"Alliser-Thorne\": { \"location\": [ -2.0, -2.0, -2.0 ] },\n",
       "        \"Amabel\": { \"location\": [ 2.0, 2.0, 2.0 ] },\n",
       "        \"Amory-Lorch\": { \"location\": [ -2.0, -2.0, -2.0 ] },\n",
       "        \"Anguy\": { \"location\": [ 2.0, 2.0, 2.0 ] },\n",
       "        \"Areo-Hotah\": { \"location\": [ -2.0, -2.0, -2.0 ] },\n",
       "        \"Arianne-Martell\": { \"location\": [ 0.48159014546372403, 1.337607013983863, 0.20242229423407465 ] },\n",
       "        \"Arthur-Dayne\": { \"location\": [ -2.0, -2.0, -2.0 ] },\n",
       "        \"Arya-Stark\": { \"location\": [ 2.0, 2.0, 2.0 ] },\n",
       "        \"Arys-Oakheart\": { \"location\": [ -2.0, -2.0, -2.0 ] },\n",
       "        \"Asha-Greyjoy\": { \"location\": [ -2.0, -2.0, -2.0 ] },\n",
       "        \"Baelor-Blacktyde\": { \"location\": [ 2.0, 2.0, 2.0 ] },\n",
       "        \"Balman-Byrch\": { \"location\": [ -2.0, -2.0, -2.0 ] },\n",
       "        \"Balon-Greyjoy\": { \"location\": [ 2.0, 2.0, 2.0 ] },\n",
       "        \"Balon-Swann\": { \"location\": [ 2.0, 2.0, 2.0 ] },\n",
       "        \"Barristan-Selmy\": { \"location\": [ -2.0, -2.0, -2.0 ] },\n",
       "        \"Benjen-Stark\": { \"location\": [ -2.0, -2.0, -2.0 ] },\n",
       "        \"Beric-Dondarrion\": { \"location\": [ -2.0, -2.0, -2.0 ] },\n",
       "        \"Beth-Cassel\": { \"location\": [ -2.0, -2.0, -2.0 ] },\n",
       "        \"Boros-Blount\": { \"location\": [ -2.0, -2.0, -2.0 ] },\n",
       "        \"Bowen-Marsh\": { \"location\": [ 2.0, 2.0, 2.0 ] },\n",
       "        \"Bran-Stark\": { \"location\": [ -0.1464516915758627, -0.8396509855725235, -1.0920907841569016 ] },\n",
       "        \"Brandon-Stark\": { \"location\": [ -2.0, -2.0, -2.0 ] },\n",
       "        \"Brenett\": { \"location\": [ 1.2768438468666212, -0.2550606445993436, 2.0 ] },\n",
       "        \"Brienne-of-Tarth\": { \"location\": [ -2.0, -2.0, -2.0 ] },\n",
       "        \"Bronn\": { \"location\": [ -2.0, -2.0, -2.0 ] },\n",
       "        \"Brynden-Tully\": { \"location\": [ 2.0, 2.0, 2.0 ] },\n",
       "        \"Catelyn-Stark\": { \"location\": [ 2.0, 2.0, 2.0 ] }\n",
       "    }\n",
       "});\n",
       "\n",
       "               $d.resizable({\n",
       "                   aspectRatio: 800 / 600,\n",
       "                   resize: function (evt, ui) {\n",
       "                       $d.jgraph.renderer.setSize(ui.size.width,\n",
       "                                                  ui.size.height);\n",
       "                   }\n",
       "               });\n",
       "           });\n",
       "           </script>"
      ],
      "text/plain": [
       "<IPython.core.display.HTML object>"
      ]
     },
     "metadata": {},
     "output_type": "display_data"
    }
   ],
   "source": [
    "jg.draw(query_tuples, directed=False, shader=\"lambert\",\n",
    "        default_node_color=0x383294, z=200, size=(800, 600))"
   ]
  },
  {
   "cell_type": "code",
   "execution_count": 19,
   "metadata": {
    "slideshow": {
     "slide_type": "subslide"
    }
   },
   "outputs": [],
   "source": [
    "generated = jg.generate(query_tuples)"
   ]
  },
  {
   "cell_type": "code",
   "execution_count": 20,
   "metadata": {
    "slideshow": {
     "slide_type": "fragment"
    }
   },
   "outputs": [],
   "source": [
    "colors = ['Arianne-Martell','Aegon-V-Targaryen','Catelyn-Stark','Arya-Stark']"
   ]
  },
  {
   "cell_type": "code",
   "execution_count": 21,
   "metadata": {
    "slideshow": {
     "slide_type": "fragment"
    }
   },
   "outputs": [],
   "source": [
    "for k,v in generated['nodes'].items():\n",
    "    if k in colors:\n",
    "        v.update({'color': 0xffaaaa})\n",
    "    else:\n",
    "        v.update({'color': 0x2222ff})"
   ]
  },
  {
   "cell_type": "code",
   "execution_count": 22,
   "metadata": {
    "slideshow": {
     "slide_type": "subslide"
    }
   },
   "outputs": [
    {
     "data": {
      "text/html": [
       "<div id=\"graph-bcd2146f-adb8-46ba-a741-0af9d75a7dc9\"></div>\n",
       "           <script type=\"text/javascript\">\n",
       "           require.config({baseUrl: '/',\n",
       "                             paths: {jgraph: ['nbextensions/jgraph.min', 'https://rawgit.com/patrickfuller/jgraph/master/js/build/jgraph.min']}});\n",
       "           require(['jgraph'], function () {\n",
       "               var $d = $('#graph-bcd2146f-adb8-46ba-a741-0af9d75a7dc9');\n",
       "               $d.width(800); $d.height(600);\n",
       "               $d.jgraph = jQuery.extend({}, jgraph);\n",
       "               $d.jgraph.create($d, {nodeSize: 2.000000,\n",
       "                                     edgeSize: 0.250000,\n",
       "                                     defaultNodeColor: '0x383294',\n",
       "                                     defaultEdgeColor: '0xaaaaaa',\n",
       "                                     shader: 'lambert',\n",
       "                                     z: 200,\n",
       "                                     runOptimization: true,\n",
       "                                     directed: false,\n",
       "                                     showSave: false});\n",
       "               $d.jgraph.draw({\n",
       "    \"edges\": [\n",
       "        { \"source\": \"Aegon-V-Targaryen\", \"target\": \"Aemon-Targaryen-(Maester-Aemon)\" },\n",
       "        { \"source\": \"Aegon-V-Targaryen\", \"target\": \"Aemon-Targaryen-(Maester-Aemon)\" },\n",
       "        { \"source\": \"Aemon-Targaryen-(Maester-Aemon)\", \"target\": \"Alliser-Thorne\" },\n",
       "        { \"source\": \"Aemon-Targaryen-(Maester-Aemon)\", \"target\": \"Alliser-Thorne\" },\n",
       "        { \"source\": \"Aerys-II-Targaryen\", \"target\": \"Arthur-Dayne\" },\n",
       "        { \"source\": \"Amory-Lorch\", \"target\": \"Arya-Stark\" },\n",
       "        { \"source\": \"Amabel\", \"target\": \"Arya-Stark\" },\n",
       "        { \"source\": \"Aenys-Frey\", \"target\": \"Arya-Stark\" },\n",
       "        { \"source\": \"Anguy\", \"target\": \"Arya-Stark\" },\n",
       "        { \"source\": \"Areo-Hotah\", \"target\": \"Arys-Oakheart\" },\n",
       "        { \"source\": \"Arianne-Martell\", \"target\": \"Arys-Oakheart\" },\n",
       "        { \"source\": \"Aeron-Greyjoy\", \"target\": \"Balon-Greyjoy\" },\n",
       "        { \"source\": \"Asha-Greyjoy\", \"target\": \"Balon-Greyjoy\" },\n",
       "        { \"source\": \"Baelor-Blacktyde\", \"target\": \"Balon-Greyjoy\" },\n",
       "        { \"source\": \"Asha-Greyjoy\", \"target\": \"Balon-Greyjoy\" },\n",
       "        { \"source\": \"Areo-Hotah\", \"target\": \"Balon-Swann\" },\n",
       "        { \"source\": \"Arianne-Martell\", \"target\": \"Balon-Swann\" },\n",
       "        { \"source\": \"Aggo\", \"target\": \"Barristan-Selmy\" },\n",
       "        { \"source\": \"Aerys-II-Targaryen\", \"target\": \"Barristan-Selmy\" },\n",
       "        { \"source\": \"Arya-Stark\", \"target\": \"Benjen-Stark\" },\n",
       "        { \"source\": \"Arya-Stark\", \"target\": \"Beric-Dondarrion\" },\n",
       "        { \"source\": \"Anguy\", \"target\": \"Beric-Dondarrion\" },\n",
       "        { \"source\": \"Arya-Stark\", \"target\": \"Beric-Dondarrion\" },\n",
       "        { \"source\": \"Balon-Swann\", \"target\": \"Boros-Blount\" },\n",
       "        { \"source\": \"Barristan-Selmy\", \"target\": \"Boros-Blount\" },\n",
       "        { \"source\": \"Alliser-Thorne\", \"target\": \"Bowen-Marsh\" },\n",
       "        { \"source\": \"Aemon-Targaryen-(Maester-Aemon)\", \"target\": \"Bowen-Marsh\" },\n",
       "        { \"source\": \"Arya-Stark\", \"target\": \"Bran-Stark\" },\n",
       "        { \"source\": \"Benjen-Stark\", \"target\": \"Bran-Stark\" },\n",
       "        { \"source\": \"Beth-Cassel\", \"target\": \"Bran-Stark\" },\n",
       "        { \"source\": \"Alebelly\", \"target\": \"Bran-Stark\" },\n",
       "        { \"source\": \"Arya-Stark\", \"target\": \"Bran-Stark\" },\n",
       "        { \"source\": \"Arya-Stark\", \"target\": \"Bran-Stark\" },\n",
       "        { \"source\": \"Benjen-Stark\", \"target\": \"Bran-Stark\" },\n",
       "        { \"source\": \"Arya-Stark\", \"target\": \"Bran-Stark\" },\n",
       "        { \"source\": \"Aerys-II-Targaryen\", \"target\": \"Brandon-Stark\" },\n",
       "        { \"source\": \"Balman-Byrch\", \"target\": \"Bronn\" },\n",
       "        { \"source\": \"Alayaya\", \"target\": \"Bronn\" },\n",
       "        { \"source\": \"Addam-Marbrand\", \"target\": \"Brynden-Tully\" },\n",
       "        { \"source\": \"Arya-Stark\", \"target\": \"Brynden-Tully\" },\n",
       "        { \"source\": \"Arya-Stark\", \"target\": \"Catelyn-Stark\" },\n",
       "        { \"source\": \"Bran-Stark\", \"target\": \"Catelyn-Stark\" },\n",
       "        { \"source\": \"Brynden-Tully\", \"target\": \"Catelyn-Stark\" },\n",
       "        { \"source\": \"Bronn\", \"target\": \"Catelyn-Stark\" },\n",
       "        { \"source\": \"Brynden-Tully\", \"target\": \"Catelyn-Stark\" },\n",
       "        { \"source\": \"Balon-Greyjoy\", \"target\": \"Catelyn-Stark\" },\n",
       "        { \"source\": \"Brienne-of-Tarth\", \"target\": \"Catelyn-Stark\" },\n",
       "        { \"source\": \"Bran-Stark\", \"target\": \"Catelyn-Stark\" },\n",
       "        { \"source\": \"Brenett\", \"target\": \"Catelyn-Stark\" },\n",
       "        { \"source\": \"Brienne-of-Tarth\", \"target\": \"Catelyn-Stark\" }\n",
       "    ],\n",
       "    \"nodes\": {\n",
       "        \"Addam-Marbrand\": { \"color\": \"0x2222ff\", \"location\": [ -12.045261447455761, -11.490956283145577, 27.74102503312946 ] },\n",
       "        \"Aegon-V-Targaryen\": { \"color\": \"0xffaaaa\", \"location\": [ 56.48019750815156, -3.539773183999232, -4.666739812007145 ] },\n",
       "        \"Aemon-Targaryen-(Maester-Aemon)\": { \"color\": \"0x2222ff\", \"location\": [ 55.55292008405515, 2.9067368255835655, -5.983089088112812 ] },\n",
       "        \"Aenys-Frey\": { \"color\": \"0x2222ff\", \"location\": [ -6.282259585768538, 15.479140700540169, 31.142545338697946 ] },\n",
       "        \"Aeron-Greyjoy\": { \"color\": \"0x2222ff\", \"location\": [ 11.458721321678489, 1.5214926197572112, 7.683811602310369 ] },\n",
       "        \"Aerys-II-Targaryen\": { \"color\": \"0x2222ff\", \"location\": [ -4.065863921022951, 8.781300139637096, -42.578702156381254 ] },\n",
       "        \"Aggo\": { \"color\": \"0x2222ff\", \"location\": [ 8.96030045888751, 4.994281711827644, -42.139296853796814 ] },\n",
       "        \"Alayaya\": { \"color\": \"0x2222ff\", \"location\": [ -26.855982379518736, -8.124728444784363, -1.4079093756274546 ] },\n",
       "        \"Alebelly\": { \"color\": \"0x2222ff\", \"location\": [ -20.90938436305406, 18.264178750912087, 17.89120027355876 ] },\n",
       "        \"Alliser-Thorne\": { \"color\": \"0x2222ff\", \"location\": [ 54.10406742742444, 7.667207179325031, -9.93408714783426 ] },\n",
       "        \"Amabel\": { \"color\": \"0x2222ff\", \"location\": [ -14.662995409389143, 17.18288767716551, 34.79162841002023 ] },\n",
       "        \"Amory-Lorch\": { \"color\": \"0x2222ff\", \"location\": [ -15.384056747056283, 2.5440540518262917, 37.859140985224286 ] },\n",
       "        \"Anguy\": { \"color\": \"0x2222ff\", \"location\": [ -8.801263027685097, 9.26925765144845, 38.21757148379477 ] },\n",
       "        \"Areo-Hotah\": { \"color\": \"0x2222ff\", \"location\": [ 6.784312301632134, -28.791738356451788, -35.5510443949164 ] },\n",
       "        \"Arianne-Martell\": { \"color\": \"0xffaaaa\", \"location\": [ 13.337480128917122, -27.173525499643024, -35.90432933355173 ] },\n",
       "        \"Arthur-Dayne\": { \"color\": \"0x2222ff\", \"location\": [ -11.66465471555624, 11.298708230792318, -44.974520739625014 ] },\n",
       "        \"Arya-Stark\": { \"color\": \"0xffaaaa\", \"location\": [ -13.48140095686505, 7.968786999075204, 28.596037742669793 ] },\n",
       "        \"Arys-Oakheart\": { \"color\": \"0x2222ff\", \"location\": [ 11.561247894739, -33.88212303640824, -33.20431526509182 ] },\n",
       "        \"Asha-Greyjoy\": { \"color\": \"0x2222ff\", \"location\": [ 8.07186838373739, -8.690689242467972, 10.21028075454268 ] },\n",
       "        \"Baelor-Blacktyde\": { \"color\": \"0x2222ff\", \"location\": [ 13.072189540422217, -5.605369889640509, 9.542097532835024 ] },\n",
       "        \"Balman-Byrch\": { \"color\": \"0x2222ff\", \"location\": [ -23.90983908857184, -14.19657392377759, 0.8946880609964171 ] },\n",
       "        \"Balon-Greyjoy\": { \"color\": \"0x2222ff\", \"location\": [ 3.3445396676963295, -2.5361556975224633, 11.31671830702304 ] },\n",
       "        \"Balon-Swann\": { \"color\": \"0x2222ff\", \"location\": [ 7.9923393403859775, -20.438867883017046, -37.765457218331484 ] },\n",
       "        \"Barristan-Selmy\": { \"color\": \"0x2222ff\", \"location\": [ 2.3254505890423256, 0.36574405285666484, -41.4550477879954 ] },\n",
       "        \"Benjen-Stark\": { \"color\": \"0x2222ff\", \"location\": [ -20.90366649899895, 11.388794419855506, 26.989827619639637 ] },\n",
       "        \"Beric-Dondarrion\": { \"color\": \"0x2222ff\", \"location\": [ -14.699476977497474, 9.578509610828315, 36.51718596656354 ] },\n",
       "        \"Beth-Cassel\": { \"color\": \"0x2222ff\", \"location\": [ -27.18798446355336, 12.150794940628863, 19.5860492579903 ] },\n",
       "        \"Boros-Blount\": { \"color\": \"0x2222ff\", \"location\": [ 5.148018836959095, -10.150425322030944, -39.77422383892089 ] },\n",
       "        \"Bowen-Marsh\": { \"color\": \"0x2222ff\", \"location\": [ 55.385682239670224, 9.935214719523382, -4.017107291851047 ] },\n",
       "        \"Bran-Stark\": { \"color\": \"0x2222ff\", \"location\": [ -17.120793445095693, 8.910280714093174, 21.6276032573901 ] },\n",
       "        \"Brandon-Stark\": { \"color\": \"0x2222ff\", \"location\": [ -4.970564267851358, 17.09221102410624, -41.45045995140226 ] },\n",
       "        \"Brenett\": { \"color\": \"0x2222ff\", \"location\": [ -10.979279206331762, 6.541464028025047, 7.068747472618229 ] },\n",
       "        \"Brienne-of-Tarth\": { \"color\": \"0x2222ff\", \"location\": [ -9.835823091780956, -1.9644517773954993, 9.50910056909457 ] },\n",
       "        \"Bronn\": { \"color\": \"0x2222ff\", \"location\": [ -19.975099470540584, -6.249557462912775, 5.963397345234035 ] },\n",
       "        \"Brynden-Tully\": { \"color\": \"0x2222ff\", \"location\": [ -12.087055877520418, -1.864303743117523, 23.8799870788187 ] },\n",
       "        \"Catelyn-Stark\": { \"color\": \"0xffaaaa\", \"location\": [ -11.527075840158076, 1.5718843309671717, 15.954163729780182 ] }\n",
       "    }\n",
       "});\n",
       "\n",
       "               $d.resizable({\n",
       "                   aspectRatio: 800 / 600,\n",
       "                   resize: function (evt, ui) {\n",
       "                       $d.jgraph.renderer.setSize(ui.size.width,\n",
       "                                                  ui.size.height);\n",
       "                   }\n",
       "               });\n",
       "           });\n",
       "           </script>"
      ],
      "text/plain": [
       "<IPython.core.display.HTML object>"
      ]
     },
     "metadata": {},
     "output_type": "display_data"
    }
   ],
   "source": [
    "jg.draw(generated, directed=False, \n",
    "        shader=\"lambert\", default_node_color=0x383294, z=200, size=(800, 600))"
   ]
  },
  {
   "cell_type": "markdown",
   "metadata": {
    "slideshow": {
     "slide_type": "slide"
    }
   },
   "source": [
    "### Integration"
   ]
  },
  {
   "cell_type": "code",
   "execution_count": 23,
   "metadata": {
    "slideshow": {
     "slide_type": "fragment"
    }
   },
   "outputs": [],
   "source": [
    "import networkx as nx\n",
    "import matplotlib.pyplot as plt"
   ]
  },
  {
   "cell_type": "code",
   "execution_count": 24,
   "metadata": {
    "slideshow": {
     "slide_type": "subslide"
    }
   },
   "outputs": [],
   "source": [
    "g = nx.Graph()\n",
    "g.add_edges_from(query_tuples)"
   ]
  },
  {
   "cell_type": "code",
   "execution_count": 25,
   "metadata": {
    "slideshow": {
     "slide_type": "fragment"
    }
   },
   "outputs": [],
   "source": [
    "def measure2table(measure):\n",
    "    table = pd.DataFrame.from_dict(measure, orient='index').reset_index()\n",
    "    table.columns = ['nodes','score']\n",
    "    return table.sort_values('score', ascending=False)"
   ]
  },
  {
   "cell_type": "code",
   "execution_count": 26,
   "metadata": {
    "slideshow": {
     "slide_type": "subslide"
    }
   },
   "outputs": [],
   "source": [
    "dc = nx.degree_centrality(g)"
   ]
  },
  {
   "cell_type": "code",
   "execution_count": 27,
   "metadata": {
    "slideshow": {
     "slide_type": "fragment"
    }
   },
   "outputs": [],
   "source": [
    "centrality = measure2table(dc)"
   ]
  },
  {
   "cell_type": "code",
   "execution_count": 28,
   "metadata": {
    "slideshow": {
     "slide_type": "fragment"
    }
   },
   "outputs": [
    {
     "data": {
      "text/html": [
       "<div>\n",
       "<style scoped>\n",
       "    .dataframe tbody tr th:only-of-type {\n",
       "        vertical-align: middle;\n",
       "    }\n",
       "\n",
       "    .dataframe tbody tr th {\n",
       "        vertical-align: top;\n",
       "    }\n",
       "\n",
       "    .dataframe thead th {\n",
       "        text-align: right;\n",
       "    }\n",
       "</style>\n",
       "<table border=\"1\" class=\"dataframe\">\n",
       "  <thead>\n",
       "    <tr style=\"text-align: right;\">\n",
       "      <th></th>\n",
       "      <th>nodes</th>\n",
       "      <th>score</th>\n",
       "    </tr>\n",
       "  </thead>\n",
       "  <tbody>\n",
       "    <tr>\n",
       "      <th>6</th>\n",
       "      <td>Arya-Stark</td>\n",
       "      <td>0.257143</td>\n",
       "    </tr>\n",
       "    <tr>\n",
       "      <th>33</th>\n",
       "      <td>Catelyn-Stark</td>\n",
       "      <td>0.200000</td>\n",
       "    </tr>\n",
       "    <tr>\n",
       "      <th>24</th>\n",
       "      <td>Bran-Stark</td>\n",
       "      <td>0.142857</td>\n",
       "    </tr>\n",
       "    <tr>\n",
       "      <th>14</th>\n",
       "      <td>Balon-Greyjoy</td>\n",
       "      <td>0.114286</td>\n",
       "    </tr>\n",
       "    <tr>\n",
       "      <th>19</th>\n",
       "      <td>Barristan-Selmy</td>\n",
       "      <td>0.085714</td>\n",
       "    </tr>\n",
       "  </tbody>\n",
       "</table>\n",
       "</div>"
      ],
      "text/plain": [
       "              nodes     score\n",
       "6        Arya-Stark  0.257143\n",
       "33    Catelyn-Stark  0.200000\n",
       "24       Bran-Stark  0.142857\n",
       "14    Balon-Greyjoy  0.114286\n",
       "19  Barristan-Selmy  0.085714"
      ]
     },
     "execution_count": 28,
     "metadata": {},
     "output_type": "execute_result"
    }
   ],
   "source": [
    "centrality.head()"
   ]
  }
 ],
 "metadata": {
  "celltoolbar": "Slideshow",
  "kernelspec": {
   "display_name": "Python 3 (ipykernel)",
   "language": "python",
   "name": "python3"
  },
  "language_info": {
   "codemirror_mode": {
    "name": "ipython",
    "version": 3
   },
   "file_extension": ".py",
   "mimetype": "text/x-python",
   "name": "python",
   "nbconvert_exporter": "python",
   "pygments_lexer": "ipython3",
   "version": "3.9.12"
  }
 },
 "nbformat": 4,
 "nbformat_minor": 4
}
