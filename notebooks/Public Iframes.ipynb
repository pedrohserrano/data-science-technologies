{
 "cells": [
  {
   "cell_type": "markdown",
   "id": "6746de20-d093-4a16-860d-b9720a48907d",
   "metadata": {
    "slideshow": {
     "slide_type": "slide"
    }
   },
   "source": [
    "#### Diplomado en Ciencia de Datos\n",
    "Módulo 2: Business Intelligence  \n",
    "## Tema 4: Consideraciones Éticas\n",
    "\n",
    "*Notebook by [Pedro V Hernandez Serrano](https://github.com/pedrohserrano)*"
   ]
  },
  {
   "cell_type": "markdown",
   "id": "71f6c9b7-0d73-47a7-a665-f8699f86e329",
   "metadata": {},
   "source": [
    "---\n",
    "![](../img/header.jpg)"
   ]
  },
  {
   "cell_type": "markdown",
   "id": "00d5c027-0cda-4d2b-9ed2-9cde545746ae",
   "metadata": {
    "tags": []
   },
   "source": [
    "# Consideraciones éticas en el uso de Algorítmos de Similitud\n",
    "\n",
    "Los algoritmos de similitud miden cuán parecidos son dos objetos en función de características específicas, como en las distancias Euclidiana, Manhattan o la Similitud Coseno. Sin embargo, **es importante considerar el contexto y las implicaciones éticas al definir \"similitud\"**. La interpretación de similitud puede ser problemática cuando se asume que características seleccionadas (como ingresos o nivel educativo) son suficientes para capturar la esencia de los datos. En aplicaciones como contratación o análisis de crédito, esta suposición puede llevar a decisiones injustas o discriminatorias.\n",
    "\n",
    "La relevancia contextual también es clave: **lo que define similitud en un contexto (como investigación médica) puede no ser adecuado en otro (como marketing), y no considerar estas diferencias puede llevar a conclusiones erróneas**. Finalmente, el impacto en la toma de decisiones es crítico. Los algoritmos de similitud influyen en decisiones importantes y deben evitar causar daño a grupos o individuos. Asumir que dos objetos similares en un espacio matemático son iguales en la vida real puede tener graves consecuencias si no se toma en cuenta el contexto.\n",
    "\n",
    "Al utilizar estos algoritmos, es fundamental reflexionar sobre el impacto de las decisiones basadas en ellos para garantizar que no refuercen desigualdades ni causen daños involuntarios.\n"
   ]
  },
  {
   "cell_type": "markdown",
   "id": "c003aa50-75b6-4d68-a02c-f826f0bfaca8",
   "metadata": {
    "tags": []
   },
   "source": [
    "**Original blog implementing the most popular similarity algorithms**  \n",
    "\n",
    "✅ [dataaspirant.com](https://dataaspirant.com/five-most-popular-similarity-measures-implementation-in-python/)"
   ]
  },
  {
   "cell_type": "markdown",
   "id": "c69d20a1-a8c6-4f4f-a828-5b9611491795",
   "metadata": {},
   "source": [
    "![](https://i0.wp.com/dataaspirant.com/wp-content/uploads/2015/04/cover_post_final.png?w=1000&ssl=1)"
   ]
  },
  {
   "cell_type": "markdown",
   "id": "0a057702-ca20-4036-ba45-54f541933c3b",
   "metadata": {},
   "source": [
    "# Looker Studio"
   ]
  },
  {
   "cell_type": "markdown",
   "id": "e4840679-bc70-4605-953c-280df982c7ee",
   "metadata": {},
   "source": [
    "# Test 1\n",
    "\n",
    "<iframe width=\"600\" height=\"450\" src=\"https://lookerstudio.google.com/embed/reporting/9116d42d-a11a-4c20-97e0-c311e213b5ff/page/mrW6D\" frameborder=\"0\" style=\"border:0\" allowfullscreen sandbox=\"allow-storage-access-by-user-activation allow-scripts allow-same-origin allow-popups allow-popups-to-escape-sandbox\"></iframe>"
   ]
  },
  {
   "cell_type": "markdown",
   "id": "21d6494a-6544-40fc-92ab-3ad26c378b72",
   "metadata": {},
   "source": [
    "# Test 2\n",
    "\n",
    "<iframe width=\"600\" height=\"450\" src=\"https://lookerstudio.google.com/embed/reporting/c8f1788c-21c5-45ee-97ae-bcb2efa38942/page/vSzfD\" frameborder=\"0\" style=\"border:0\" allowfullscreen sandbox=\"allow-storage-access-by-user-activation allow-scripts allow-same-origin allow-popups allow-popups-to-escape-sandbox\"></iframe>"
   ]
  },
  {
   "cell_type": "markdown",
   "id": "5b649ec0-83e8-45a5-8015-a0aaa4c98e90",
   "metadata": {},
   "source": [
    "# Test 3"
   ]
  },
  {
   "cell_type": "code",
   "execution_count": 2,
   "id": "8aa1c74d-7fc4-45a9-8400-ea7f4409212b",
   "metadata": {
    "tags": []
   },
   "outputs": [
    {
     "data": {
      "text/html": [
       "\n",
       "        <iframe\n",
       "            width=\"600\"\n",
       "            height=\"450\"\n",
       "            src=\"https://lookerstudio.google.com/embed/reporting/9116d42d-a11a-4c20-97e0-c311e213b5ff/page/mrW6D\"\n",
       "            frameborder=\"0\"\n",
       "            allowfullscreen\n",
       "            \n",
       "        ></iframe>\n",
       "        "
      ],
      "text/plain": [
       "<IPython.lib.display.IFrame at 0x10e292250>"
      ]
     },
     "execution_count": 2,
     "metadata": {},
     "output_type": "execute_result"
    }
   ],
   "source": [
    "from IPython.display import IFrame\n",
    "IFrame(src=\"https://lookerstudio.google.com/embed/reporting/9116d42d-a11a-4c20-97e0-c311e213b5ff/page/mrW6D\", width=600, height=450)\n"
   ]
  },
  {
   "cell_type": "code",
   "execution_count": 3,
   "id": "9c4da1df-833e-48d7-be73-2da7f8a8bef3",
   "metadata": {
    "tags": []
   },
   "outputs": [
    {
     "data": {
      "text/html": [
       "\n",
       "        <iframe\n",
       "            width=\"600\"\n",
       "            height=\"450\"\n",
       "            src=\"https://lookerstudio.google.com/embed/reporting/c8f1788c-21c5-45ee-97ae-bcb2efa38942/page/vSzfD\"\n",
       "            frameborder=\"0\"\n",
       "            allowfullscreen\n",
       "            \n",
       "        ></iframe>\n",
       "        "
      ],
      "text/plain": [
       "<IPython.lib.display.IFrame at 0x10e2c9550>"
      ]
     },
     "execution_count": 3,
     "metadata": {},
     "output_type": "execute_result"
    }
   ],
   "source": [
    "from IPython.display import IFrame\n",
    "IFrame(src=\"https://lookerstudio.google.com/embed/reporting/c8f1788c-21c5-45ee-97ae-bcb2efa38942/page/vSzfD\", width=600, height=450)\n"
   ]
  },
  {
   "cell_type": "markdown",
   "id": "0fe9da70-42d9-4f73-8f37-3cbfc803512c",
   "metadata": {
    "tags": []
   },
   "source": [
    "---\n",
    "# EJERCICIO 1\n",
    "\n",
    "- Desarrolla una funcion en Python que calcule la [distancia euclidiana](https://www.google.com/search?sca_esv=08fa89593227d7c4&sca_upv=1&sxsrf=ADLYWILxL5ZB2RJ2Ur94L62oXEBk5CorNg:1725814856550&q=euclidean+distance+formula&source=lnms&fbs=AEQNm0Aa4sjWe7Rqy32pFwRj0UkWd8nbOJfsBGGB5IQQO6L3J_86uWOeqwdnV0yaSF-x2joQcoZ-0Q2Udkt2zEybT7HdNV1kobqvEwEVRYBCltlBtd67W1w89UVGf7QOAkvJWcD0qzhOT-WizJ4nyd1QOGdS_33AboApQh8NDOYXDdgzT_HrFjEfW4zkALzuIfB9KacfX-PQ&sa=X&ved=2ahUKEwiMteOr6bOIAxVX9rsIHW25HdMQ0pQJegQIDRAB&biw=1920&bih=974&dpr=1)\n",
    "- Prueba la función con los siguientes vectores:  \n",
    " `v1 = [0,1,2,5,6]`  \n",
    " `v2 = [0,2,3,5,7]`  \n",
    "- El resultado debe ser aprox `1.73`"
   ]
  },
  {
   "cell_type": "code",
   "execution_count": null,
   "id": "6ab60aef-4c0c-40c2-a54c-acbbd7fff2f3",
   "metadata": {
    "slideshow": {
     "slide_type": "subslide"
    },
    "tags": []
   },
   "outputs": [],
   "source": [
    "# def euclidean_distance(self, x, y):\n",
    "#    ____\n",
    "#    ____\n",
    "# return"
   ]
  },
  {
   "cell_type": "markdown",
   "id": "95b787db-0c79-404d-bd2c-e2a4f9ebf65c",
   "metadata": {
    "tags": []
   },
   "source": [
    "---\n",
    "# EJERCICIO 2\n",
    "\n",
    "- Desarrolla una funcion en Python que calcule la [distancia manhattan](https://www.google.com/search?q=manhattan+distance+formula&sca_esv=08fa89593227d7c4&sca_upv=1&biw=1920&bih=974&ei=V9jdZtmAEoiwi-gP-9nf-AI&oq=euclidean+distance+formula&gs_lp=Egxnd3Mtd2l6LXNlcnAiGmV1Y2xpZGVhbiBkaXN0YW5jZSBmb3JtdWxhKgIIADIKEAAYsAMY1gQYRzIKEAAYsAMY1gQYRzIKEAAYsAMY1gQYRzIKEAAYsAMY1gQYRzIKEAAYsAMY1gQYRzIKEAAYsAMY1gQYRzIKEAAYsAMY1gQYRzIKEAAYsAMY1gQYRzINEAAYgAQYsAMYQxiKBTINEAAYgAQYsAMYQxiKBUiLElAAWABwAngBkAEAmAEAoAEAqgEAuAEDyAEAmAICoAIQmAMAiAYBkAYKkgcBMqAHAA&sclient=gws-wiz-serp)\n",
    "- Prueba la función con los siguientes vectores:  \n",
    " `v1 = [0,1,2,5,6]`  \n",
    " `v2 = [0,2,3,5,7]`  \n",
    "- El resultado debe ser `3`"
   ]
  },
  {
   "cell_type": "code",
   "execution_count": null,
   "id": "be069a86-c57e-4645-84bf-a62d097843af",
   "metadata": {
    "slideshow": {
     "slide_type": "subslide"
    },
    "tags": []
   },
   "outputs": [],
   "source": [
    "# def manhattan_distance(self, x, y):\n",
    "#    ____\n",
    "#    ____\n",
    "# return"
   ]
  },
  {
   "cell_type": "markdown",
   "id": "06c971d7-29cb-472d-a0f2-cd696de4cbd3",
   "metadata": {},
   "source": [
    "---\n",
    "# EJERCICIO 3 (Opcional)\n",
    "\n",
    "- Desarrolla una funcion en Python que calcule la [distancia coseno](https://en.wikipedia.org/wiki/Cosine_similarity)\n",
    "- Prueba la función con los siguientes vectores:  \n",
    " `v1 = [0,1,2,5,6]`  \n",
    " `v2 = [0,2,3,5,7]`  \n",
    "- El resultado debe ser `0.99`"
   ]
  },
  {
   "cell_type": "markdown",
   "id": "ab6abe64-05cc-4888-a0da-5912284421f4",
   "metadata": {},
   "source": [
    "## Constructing a Similarity Network from a Dataset"
   ]
  },
  {
   "cell_type": "markdown",
   "id": "c3f46078-e9f5-4819-bc1a-1a2512feb597",
   "metadata": {},
   "source": [
    "The idea is to compute one similarity alorithm N*N times across the dataset, then take the top M similar records and constructa network"
   ]
  },
  {
   "cell_type": "code",
   "execution_count": null,
   "id": "c586de43-c77d-4ccb-bd0b-1387244501ac",
   "metadata": {
    "tags": []
   },
   "outputs": [],
   "source": [
    "import pandas as pd\n",
    "\n",
    "dataset = pd.read_csv(\"../data/gapminder_data_world_health.csv\")\n",
    "dataset.head(5)"
   ]
  },
  {
   "cell_type": "markdown",
   "id": "48dfd4f6-35ef-463c-b50c-68cde6694515",
   "metadata": {},
   "source": [
    "---\n",
    "# EJERCICIO 4\n",
    "\n",
    "Con los datos de `gapminder_data_world_health.csv` utiliza el siguiente subset de la tabla como se muestra a continuación (es un query de el año 2007 en el que se tiene la esperanza de vida y la población indexada por país)"
   ]
  },
  {
   "cell_type": "code",
   "execution_count": null,
   "id": "1466fb47-75cc-44eb-880f-cab87172599e",
   "metadata": {
    "tags": []
   },
   "outputs": [],
   "source": [
    "df = dataset[dataset['year'] == 2007].set_index('country')\n",
    "df = df[['lifeExp', 'pop']]\n",
    "df.head(10)"
   ]
  },
  {
   "cell_type": "markdown",
   "id": "7be52fdd-4ceb-4167-b5d9-b3595b80119c",
   "metadata": {},
   "source": [
    "- **Utiliza el método Min-Max** para normalizar los vectores de Esperanza de vida y de Población, una vez que apliquemos las funciones de similitud es mejor tener los vectores en las misma escala: [Ejemplo aquí](https://www.geeksforgeeks.org/data-normalization-with-pandas/)"
   ]
  },
  {
   "cell_type": "code",
   "execution_count": 1,
   "id": "219df90b-4913-42d9-96ee-761f543bed78",
   "metadata": {
    "tags": []
   },
   "outputs": [],
   "source": [
    "\n",
    "# apply normalization\n",
    "\n"
   ]
  },
  {
   "cell_type": "markdown",
   "id": "3f428dd4-5cff-4f6d-9f4c-fbc79bd19261",
   "metadata": {},
   "source": [
    "---\n",
    "# EJERCICIO 5\n",
    "\n",
    "**Crea un un nuevo dataset con los 3 paises más cercanos a cada país**, es decir un **dataset de \n",
    "distancias**, el resultado que se busca es como se ve en la imagen. Utilizarás el subset normalizado (ejercicio 4) para ello y una de las funciones que creaste (manhattan, euclideana o coseno)\n",
    "\n",
    "![](../img/distancias.png)\n",
    "\n",
    "**Cómo crear el dataset de distancias?**\n",
    "- Por cada país, necesitas calcular la distancia entre él y todos los demás países en el DataFrame. Evitando comparar cada país consigo mismo.\n",
    "- Cada iteración corresponde a cada país comparado, el país al que se le calculó la distancia, y la distancia entre ambos. (hint: una lista de tuplas o diccionarios puede ser útil aquí)\n",
    "- Después de hacer todas las comparaciones, convierte los resultados en un DataFrame con tres columnas: `nodeA`, `nodeB`, `distance`.\n",
    "- Para cada país (nodeA), agrupa las distancias calculadas y ordénalas de menor a mayor. Se quiere unicamente los tres países más cercanos a cada país (distancias más pequeñas para cada país)\n",
    "- No olvides revisar los resultados una vez que tengas la tabla final con los 3 países más cercanos para cada país"
   ]
  },
  {
   "cell_type": "code",
   "execution_count": null,
   "id": "ca3cb727-0f31-4838-91ab-2118238744eb",
   "metadata": {
    "tags": []
   },
   "outputs": [],
   "source": [
    "\n",
    "## for loop in all countries applying 1 distance function\n",
    "\n",
    "\n",
    "## dataframe _____\n",
    "\n",
    "\n",
    "## top 3 distances ____\n"
   ]
  },
  {
   "cell_type": "markdown",
   "id": "29045c2c-fa13-4dd2-b1fe-36425ba8ed5f",
   "metadata": {},
   "source": [
    "---\n",
    "# EJERCICIO 6\n",
    "\n",
    "Reproduce el siguiente script.   \n",
    "El script utiliza la libreria `networkx` y `plotly` para visualizar una gráfica de red (network plot) visualizando la distancia (similitud) entre los paises basado en esperanza de vida y población.  \n",
    "\n",
    "**Nota:** Si el dataframe del ejercicio anterior no es correcto, la visualización no va a funcionar.\n",
    "\n",
    "**Responde lo siguiente:**\n",
    "- Cuales son los países más similares a México?\n",
    "- Explica cuales serían las consideraciones éticas al decir que México es similar a esos países en el contexto de las variables `lifeExp` y `pop`, dando contexto de el año seleccionado y del significado de la funcion de similitud utilizada"
   ]
  },
  {
   "cell_type": "code",
   "execution_count": null,
   "id": "130f8a5b-2662-4421-a2c7-e5252daeb234",
   "metadata": {
    "tags": []
   },
   "outputs": [],
   "source": [
    "import networkx as nx\n",
    "\n",
    "#Empty graph object\n",
    "g = nx.Graph()\n",
    "\n",
    "# Adding all nodes\n",
    "g.add_nodes_from(list(df_network.nodeA.unique()))\n",
    "\n",
    "# Adding all edges\n",
    "edges_list = [(row[1][0],row[1][1],row[1][2]) for row in df_network.iterrows()]\n",
    "g.add_weighted_edges_from(edges_list)"
   ]
  },
  {
   "cell_type": "code",
   "execution_count": null,
   "id": "b656ac48-9df3-4989-b303-1ddc99707d49",
   "metadata": {
    "tags": []
   },
   "outputs": [],
   "source": [
    "import plotly.graph_objects as go\n",
    "\n",
    "pos = nx.spring_layout(g, dim=2, iterations=10, weight='weight', scale=2)\n",
    "\n",
    "# Create a DataFrame for nodes\n",
    "node_x = []\n",
    "node_y = []\n",
    "for node in g.nodes():\n",
    "    x, y = pos[node]\n",
    "    node_x.append(x)\n",
    "    node_y.append(y)\n",
    "\n",
    "# Create a DataFrame for edges\n",
    "edge_x = []\n",
    "edge_y = []\n",
    "for edge in g.edges():\n",
    "    x0, y0 = pos[edge[0]]\n",
    "    x1, y1 = pos[edge[1]]\n",
    "    edge_x.append(x0)\n",
    "    edge_x.append(x1)\n",
    "    edge_x.append(None)  # For a break between edges\n",
    "    edge_y.append(y0)\n",
    "    edge_y.append(y1)\n",
    "    edge_y.append(None)  # For a break between edges\n",
    "\n",
    "# Create the plot\n",
    "fig = go.Figure()\n",
    "\n",
    "# Add edges to the plot\n",
    "fig.add_trace(go.Scatter(x=edge_x, y=edge_y,\n",
    "                         line=dict(width=0.5, color='gray'),\n",
    "                         hoverinfo='none',\n",
    "                         mode='lines'))\n",
    "\n",
    "# Add nodes to the plot\n",
    "fig.add_trace(go.Scatter(x=node_x, y=node_y,\n",
    "                         mode='markers+text',  # Show both markers and labels\n",
    "                         marker=dict(size=10, color='#9500ff'),\n",
    "                         text=[str(node) for node in g.nodes()],  # Add node labels\n",
    "                         textposition='top center',\n",
    "                         hoverinfo='text'))\n",
    "\n",
    "# Update layout for better aesthetics and set figure size\n",
    "fig.update_layout(\n",
    "    showlegend=False,\n",
    "    xaxis=dict(showgrid=False, zeroline=False),\n",
    "    yaxis=dict(showgrid=False, zeroline=False),\n",
    "    plot_bgcolor='white',\n",
    "    width=1200,  # Set the figure width\n",
    "    height=1500   # Set the figure height\n",
    ")\n",
    "\n",
    "# Display the plot\n",
    "fig.show()"
   ]
  },
  {
   "cell_type": "markdown",
   "id": "98f8676a-e0b6-4721-bd82-336ae1b276a4",
   "metadata": {},
   "source": [
    "La gráfica debe quedar como se ve en la imagen.   \n",
    "![](../img/countries_similarities.png)"
   ]
  },
  {
   "cell_type": "markdown",
   "id": "3d4de1c4-219e-42d1-8679-f70bce01b0d9",
   "metadata": {},
   "source": [
    "## 🎉🎉 Congrats!!  \n",
    "\n",
    "## You've finished the notebook"
   ]
  }
 ],
 "metadata": {
  "kernelspec": {
   "display_name": "Python 3 (ipykernel)",
   "language": "python",
   "name": "python3"
  },
  "language_info": {
   "codemirror_mode": {
    "name": "ipython",
    "version": 3
   },
   "file_extension": ".py",
   "mimetype": "text/x-python",
   "name": "python",
   "nbconvert_exporter": "python",
   "pygments_lexer": "ipython3",
   "version": "3.11.5"
  }
 },
 "nbformat": 4,
 "nbformat_minor": 5
}
