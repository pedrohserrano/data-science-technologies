{
 "cells": [
  {
   "cell_type": "markdown",
   "metadata": {
    "id": "SufDWmh-HIF9"
   },
   "source": [
    "#### PGGM Data Science Bootcamp 2020\n",
    "*Notebook by [Pedro V Hernandez Serrano](https://github.com/pedrohserrano)*\n",
    "\n",
    "*License: [Attribution 4.0 International (CC BY 4.0)](https://creativecommons.org/licenses/by/4.0/)*  \n",
    "\n",
    "---"
   ]
  },
  {
   "cell_type": "markdown",
   "metadata": {
    "id": "k8gJWHeePhXf"
   },
   "source": [
    "## 1. Introduction to Jupyter Notebooks\n",
    "\n",
    "This is a Jupyter notebook using Google Colaboratory (Colab). Colab is a well-known notebook in the browser and cloud environment which allows one to interactively add narrative and code using python (or many other languages). So naturally, if you are an experienced programmer or data science enthusiast, you will be comfortable using the notebook.\n",
    " \n",
    "**Note:** This notebook is designed for educational purposes and is not intended to create an exploratory data analysis."
   ]
  },
  {
   "cell_type": "markdown",
   "metadata": {
    "id": "rYoP6JliHIGC"
   },
   "source": [
    "![](https://github.com/MaastrichtU-IDS/jupyter-workshop/blob/master/images/jupyter.png?raw=1)\n",
    "\n",
    "Image: © 2020 DataCamp Inc."
   ]
  },
  {
   "cell_type": "markdown",
   "metadata": {
    "id": "JCPDGaUDx9Bz"
   },
   "source": [
    "The Jupyter Notebook is a potent tool for interactively developing and presenting data science projects, documentation, statistical analysis, and generating diverse graphics. This section will walk you through what a notebook is, why the Jupyter project is important for science and its benefits."
   ]
  },
  {
   "cell_type": "markdown",
   "metadata": {
    "id": "H8b43ev-HIGD"
   },
   "source": [
    "### 1.1 Background"
   ]
  },
  {
   "cell_type": "markdown",
   "metadata": {
    "id": "J8gCCizqyGHV"
   },
   "source": [
    "#### **What is a Notebook?**\n",
    "\n",
    "A notebook integrates code and output into a single document that combines visualizations, narrative text, mathematical equations, and other rich media. In other words, it is a single document where you can run code, display the output, add explanations, formulas, and charts, and make your research more transparent, reliable, repeatable and shareable.\n",
    "\n",
    "Using Notebooks is now a significant part of the data science workflow at companies and research institutions across the globe."
   ]
  },
  {
   "cell_type": "markdown",
   "metadata": {
    "id": "1IFRkFrIHIGD"
   },
   "source": [
    "#### **What is Jupyter?**\n",
    "\n",
    "Jupyter notebook, formerly known as IPython (or Interactive Python), is a flexible and powerful open-source research tool that can help you keep a narrative of your coding process. Jupyter is an acronym of the three core languages it was designed for: **JU**lia, **PYT**hon, and **R**. Project Jupyter supports interactive data science and scientific computing across over 40 programming languages.\n",
    "\n",
    "<img src=\"https://github.com/MaastrichtU-IDS/jupyter-workshop/blob/master/images/Jupyter_logo.PNG?raw=1\" style=\"width: 800px;\"/>\n",
    "<center><font size=\"2\">https://jupyter.org/</font></center>"
   ]
  },
  {
   "cell_type": "markdown",
   "metadata": {
    "id": "krkPSPxaHIGE"
   },
   "source": [
    "**KEY POINTS**:\n",
    "\n",
    "- Jupyter is open source\n",
    "- Jupyter is reproducible friendly\n",
    "- Jupyter is NOT python\n",
    "- Jupyter is NOT only for programming"
   ]
  },
  {
   "cell_type": "markdown",
   "metadata": {
    "id": "_nO7YYafHIGE"
   },
   "source": [
    "#### **Jupyter as Coding Diary**\n",
    "\n",
    "You can think of the notebook as a lab or field diary that keeps a detailed record of your steps as you develop statistical analysis. As with a field notebook, it is important to develop good note-taking habits. It is crucial to gain a set of skills, tools, and best practices you can implement in your work to enhance reproducibility, making modifications, collaboration, and publishing easier.\n",
    "\n",
    "<img src=\"https://github.com/MaastrichtU-IDS/jupyter-workshop/blob/master/images/Field-Code_Notes.png?raw=1\" style=\"width: 800px;\"/>"
   ]
  },
  {
   "cell_type": "markdown",
   "metadata": {
    "id": "aru2qXQBHIGH"
   },
   "source": [
    "#### **Who are the users**\n",
    "\n",
    "The Jupyter Notebook is a living online notebook that facilitates collaboration. It's a community-developed tool with 9.3K GitHub stars and 3.9K GitHub forks. Companies are adopting it for R&D units.\n",
    "\n",
    "Scientists, journalists, and researchers can use it to open up their data, share the stories behind their computations, and enable future collaboration and innovation.\n",
    "\n",
    "<img src=\"https://github.com/MaastrichtU-IDS/jupyter-workshop/blob/master/images/users.png?raw=1\" style=\"width: 1000px;\"/>\n",
    "Image: https://github.com/jupyter/surveys/tree/master/surveys/2015-12-notebook-ux"
   ]
  },
  {
   "cell_type": "markdown",
   "metadata": {
    "id": "gaDaTK4ZHIGH"
   },
   "source": [
    "### 1.2 Advantages\n",
    "\n",
    "Apart from the rich legacy that Jupyter notebooks come from and the richer ecosystem that it provides, for example."
   ]
  },
  {
   "cell_type": "markdown",
   "metadata": {
    "id": "aGuYj4KVHIGI"
   },
   "source": [
    "#### **Interactive, Exploratory, Reproducible**\n",
    "- Interactive, browser-based computing environment\n",
    "- Exploratory data science, ML, visualization, analysis, stats \n",
    "- Reproducible document format:\n",
    "    + Code\n",
    "    + Narrative text (markdown)\n",
    "    + Equations (LaTeX)\n",
    "    + Images, visualizations\n",
    "- Over 50 programming languages\n",
    "   + Everything is open-source (BSD license)"
   ]
  },
  {
   "cell_type": "markdown",
   "metadata": {
    "id": "LVlreE-8HIGK"
   },
   "source": [
    "#### **Jupyter notebook for reproducibility**"
   ]
  },
  {
   "cell_type": "markdown",
   "metadata": {
    "id": "YatwxZcEHIGL"
   },
   "source": [
    "**Jupyter notebooks can facilitate the reusability and transparency of research and development**\n",
    "\n"
   ]
  },
  {
   "cell_type": "markdown",
   "metadata": {
    "id": "Nuaydm51HIGL"
   },
   "source": [
    "\n",
    "![](https://46gyn61z4i0t1u1pnq2bbk2e-wpengine.netdna-ssl.com/wp-content/uploads/2018/07/reproducibility-small.jpg)"
   ]
  },
  {
   "cell_type": "markdown",
   "metadata": {
    "id": "mEGgeZ2MHIGM"
   },
   "source": [
    "**Global scientific output doubles every nine years, it is necessary to rethink the way we publish**\n",
    "<img src=\"https://github.com/MaastrichtU-IDS/jupyter-workshop/blob/master/images/plot-nature.png?raw=1\" style=\"width: 800px;\"/>\n",
    "***Bornmann & Mutz, https://arxiv.org/abs/1402.4578, Nature News Blog, May 2014***"
   ]
  },
  {
   "cell_type": "markdown",
   "metadata": {
    "id": "lX8VlihtcW-Z"
   },
   "source": [
    "**The scientific paper is obsolete**  \n",
    "<img src=\"https://pocket-syndicated-images.s3.amazonaws.com/5e581fc088a17.jpg\" style=\"width: 800px;\"/>\n",
    "***James Somers, https://www.theatlantic.com/science/archive/2018/04/the-scientific-paper-is-obsolete/556676/, Nature News Blog, Apr 2018***"
   ]
  },
  {
   "cell_type": "markdown",
   "metadata": {
    "id": "qWPOx06QHIGM"
   },
   "source": [
    "**Global scientific output doubles every nine years, it is necessary to rethink the way we publish**  \n",
    "<img src=\"https://github.com/MaastrichtU-IDS/jupyter-workshop/blob/master/images/reproducible-paper.png?raw=1\" style=\"width: 800px;\"/>"
   ]
  },
  {
   "cell_type": "markdown",
   "metadata": {
    "id": "IZMpFzStgv5o"
   },
   "source": [
    "**Will Jupyter notebooks eventually replace scientific papers?**\n",
    "<img src=\"https://media.nature.com/w1172/magazine-assets/d41586-018-07196-1/d41586-018-07196-1_16227518.jpg\" style=\"width: 800px;\"/>\n",
    "***Jeffrey M. Perkel,https://www.nature.com/articles/d41586-018-07196-1, Nature News Blog, Oct 2018***"
   ]
  },
  {
   "cell_type": "markdown",
   "metadata": {
    "id": "iZtfAZx1cupO"
   },
   "source": [
    "### 1.3 Usages\n",
    "- `Notebooks` for presentations\n",
    "- `Notebooks` to allocate resources on a website  \n",
    "- `Notebooks` for data journalism\n",
    "- `Notebooks` to create interactive books  "
   ]
  },
  {
   "cell_type": "markdown",
   "metadata": {
    "id": "bDMAOMQ-aQCh"
   },
   "source": [
    "## 2.Data Science with Python\n",
    "Guido van rossum | Monty python\n",
    "- | - \n",
    "![](https://gvanrossum.github.io/images/guido-portrait-dan-stroud.jpg) | ![](https://upload.wikimedia.org/wikipedia/en/c/cd/Monty_Python%27s_Flying_Circus_Title_Card.png)\n",
    "\n"
   ]
  },
  {
   "cell_type": "markdown",
   "metadata": {
    "id": "YLn9GmZna4mC"
   },
   "source": [
    "The history of Python starts with ABC.\n",
    "\n",
    "- ABC is a general-purpose programming language and programming environment, which had been developed in the Netherlands, Amsterdam, at the CWI (Centrum Wiskunde & Informatica).\n",
    "\n",
    "- The most significant achievement of ABC was to influence the design of Python. He emphasizes the DRY (Don't Repeat Yourself) principle and readability.\n",
    "\n",
    "- Python was conceptualized in the late 1980s. Guido van Rossum worked that time in a project at the CWI called Amoeba, a distributed operating system.\n",
    "\n",
    "- Python was designed as a simple scripting language that possessed some of ABC's better properties, but without its problems.\n",
    "\n",
    "-  So, what about the name \"Python\": Most people think about snakes, but the name has something to do with excellent British humour. A show called Monty Python's Flying Circus was the culprit."
   ]
  },
  {
   "cell_type": "markdown",
   "metadata": {
    "id": "wa8v0Co_5DRE"
   },
   "source": [
    "#### Hi, Python\n",
    "\n",
    "Python was named for the British comedy troupe [Monty Python](https://docs.python.org/2/faq/general.html#:~:text=Why%20is%20it%20called%20Python%3F,-%C2%B6&text=When%20he%20began%20implementing%20Python,to%20call%20the%20language%20Python.).\n",
    "\n",
    "Then press the ```►``` button (Ctrl + Enter) to see the results of our program."
   ]
  },
  {
   "cell_type": "code",
   "execution_count": null,
   "metadata": {
    "id": "aPQlYkjp5O_x"
   },
   "outputs": [],
   "source": [
    "from IPython.display import YouTubeVideo\n",
    "YouTubeVideo('zLih-WQwBSc')"
   ]
  },
  {
   "cell_type": "markdown",
   "metadata": {
    "id": "nbeKmCkTbEI6"
   },
   "source": [
    "### Tutorials for Learning Python\n",
    "\n",
    "- [Institute of Data Science, quick intro to Python tutorial](https://colab.research.google.com/github/carlosug/IDS-RDM-202004-Python-Basics/blob/master/hi_python.ipynb) is excellent for beginner levels.\n",
    "    \n",
    "- [Codecademy](https://www.codecademy.com/tracks/python) is great for beginner levels.\n",
    "- There is also the [Official Beginners Guide](https://wiki.python.org/moin/BeginnersGuide).\n",
    "- [Learn Python the Hard Way](https://learnpythonthehardway.org/book/) is a great tutorial for a more in-depth overview.\n",
    "    > \"It isn't particularly hard, although note that the currently available version is in Python2.\",\n",
    "- [Whirlwind Tour of Python](https://github.com/jakevdp/WhirlwindTourOfPython) is a free collection of Jupyter notebooks that takes you through Python. \n",
    "\n",
    "### Python Practice\n",
    "    \n",
    " - [Python Challenge](http://www.pythonchallenge.com/) is a good place for (sometimes infuriating) programming challenges.\n",
    " - [Leet Code](https://leetcode.com/) is a place for more intense technical coding questions and challenges (geared toward industry interviews)."
   ]
  },
  {
   "cell_type": "markdown",
   "metadata": {},
   "source": [
    "### Getting Un-Stuck\n",
    "At some point, you will get stuck. It happens. The internet is your friend.\n",
    "    \n",
    "If you get an error or aren't sure how to proceed, use {your favourite search engine} with specific search terms relating to what you are trying to do. Sometimes this means searching for the error that you got.\n",
    "   \n",
    "You are likely to find responses on [StackOverflow](https://stackoverflow.com), a forum for programming questions and a good place to find answers."
   ]
  },
  {
   "cell_type": "markdown",
   "metadata": {},
   "source": [
    "### Python2 vs Python3\n",
    "    \n",
    "Python3 was a break from Python2 because some more significant changes broke [backwards compatibility](https://en.wikipedia.org/wiki/Backward_compatibility).\n",
    "  \n",
    "Python2 is still popular and often used, partly because it takes a while with major new releases for everything to be available and to get things updated. Now though, Python3 has pretty much everything available and is the future of Python.\n",
    "\n",
    "In practice, Python 2 & 3 are very similar - learning one will be most relevant for knowing the other, and code can usually be compatible between both with minimal changes.\n",
    "\n",
    "This programme will use Python3, the currently developed version of Python. Specifically, 3.7 is the most recent version."
   ]
  },
  {
   "cell_type": "markdown",
   "metadata": {
    "colab_type": "text",
    "id": "mLAKcxW-58aw",
    "slideshow": {
     "slide_type": "subslide"
    }
   },
   "source": [
    "### Packages\n",
    "\n",
    "Packages are basically just collections of code. The anaconda distribution comes with all the core packages you will need for this class. \n",
    "  \n",
    "For getting other packages, anaconda comes with\n",
    "    <a href=\"https://conda.io/docs/using/pkgs.html\" class=\"alert-link\">conda</a>\n",
    "    a package manager, with support for downloading and installing other packages."
   ]
  },
  {
   "cell_type": "markdown",
   "metadata": {
    "id": "kkDg5xtvHIGO"
   },
   "source": [
    "## 3. Google Colaboratory\n",
    "\n",
    "Colaboratory is a free Jupyer notebook environment that requires no setup and runs entirely in the cloud.\n",
    "\n",
    "This 3-minutes video gives an overview of the key features of Colaboratory.\n"
   ]
  },
  {
   "cell_type": "code",
   "execution_count": null,
   "metadata": {
    "id": "mrOSXdkxABYk"
   },
   "outputs": [],
   "source": [
    "from IPython.display import YouTubeVideo\n",
    "YouTubeVideo('inN8seMm7UI')"
   ]
  },
  {
   "cell_type": "markdown",
   "metadata": {
    "id": "uYAwhd9wrUiZ"
   },
   "source": [
    "#### 3.1 What is Colab?\n",
    "\n",
    "Colaboratory, or 'Colab' for short, allows you to write and execute Python in your browser, with \n",
    "- Zero configuration required\n",
    "- Free access to a cloud computing environment\n",
    "- Easy sharing"
   ]
  },
  {
   "cell_type": "markdown",
   "metadata": {
    "id": "fW1o5FEAoUcr"
   },
   "source": [
    "#### 3.2 Overview of Colab features\n",
    "\n",
    "The notebook you are reading is not a static web page but an interactive environment called a **Colab notebook** that lets you write an execute cells.\n"
   ]
  },
  {
   "cell_type": "markdown",
   "metadata": {
    "id": "ZsmI8QhuHIGP"
   },
   "source": [
    "**User interface elements**\n",
    "\n",
    "- Menu bar\n",
    "- Left sidebar\n",
    "- Main work area\n",
    "- Creating and saving files"
   ]
  },
  {
   "cell_type": "markdown",
   "metadata": {
    "id": "aR5ssYVZHIGP"
   },
   "source": [
    "**User interface operations**\n",
    "\n",
    "- Insert & delete cells\n",
    "- Change cell type (& know different cell types)\n",
    "- Run a single cell from taskbar & keyboard shortcut (shift + Enter)\n",
    "- Run multiples cells, all cells\n",
    "- Re-order cells\n",
    "- Split & merge cells\n",
    "- Stop a cell \n",
    "- Expand and Collapse cells\n",
    "- Drag and Drop cells within the Notebook\n",
    "- Themes"
   ]
  },
  {
   "cell_type": "markdown",
   "metadata": {
    "id": "aJVUHQGEHIGa"
   },
   "source": [
    "To select a cell, click on it. The selected cell will be surrounded by a box with the left hand side highlighted.\n",
    "\n",
    "Additionally select adjacent cells using `SHIFT-UP ARROW` or `SHIFT-DOWN ARROW`."
   ]
  },
  {
   "cell_type": "markdown",
   "metadata": {
    "id": "RMVOT3VdrBMe"
   },
   "source": [
    "##### Cells\n",
    "A notebook is a list of **cells**. Cells contain either explanatory **text** or executable **code** and its output.\n"
   ]
  },
  {
   "cell_type": "markdown",
   "metadata": {
    "id": "mLHyNqzFrEHH"
   },
   "source": [
    "\n",
    "###### Code cells\n",
    "\n",
    "Here are a list of shortcuts you may want to use it:\n",
    "\n",
    "* Click the **Play icon** in the left gutter of the cell;\n",
    "* Type **Cmd/Ctrl+Enter** to run the cell in place;\n",
    "* Type **Shift+Enter** to run the cell and move focus to the next cell (adding one if none exists); or\n",
    "* Type **Alt+Enter** to run the cell and insert a new code cell immediately below it."
   ]
  },
  {
   "cell_type": "markdown",
   "metadata": {
    "id": "1V59u1h0qrlM"
   },
   "source": [
    "###### *Automatic code cell running*\n",
    "\n",
    "Go into the next cell and click on the arrow on the left side of the code window:"
   ]
  },
  {
   "cell_type": "code",
   "execution_count": null,
   "metadata": {
    "id": "ZqDt911hqOBH"
   },
   "outputs": [],
   "source": [
    "# PRESS ME!!\n",
    "a = 20\n",
    "a"
   ]
  },
  {
   "cell_type": "markdown",
   "metadata": {
    "id": "rRS6KnK2qArQ"
   },
   "source": [
    "###### *Entering code cell*\n",
    "\n",
    "You will now enter a trivial Python code in the code window and execute it.\n",
    "\n",
    "Copy-paste the following two `Python statements` in the code window:\n",
    "\n",
    "```python\n",
    "import time\n",
    "print(time.ctime())\n",
    "```\n",
    "\n",
    "![image.png](data:image/png;base64,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)"
   ]
  },
  {
   "cell_type": "markdown",
   "metadata": {
    "id": "jX95_jgUsPfs"
   },
   "source": [
    "After a while, you should see the output nderneath the code window, as shown \n",
    "here:\n",
    "\n",
    "`Mon Jun 17 07:07:07 2020`"
   ]
  },
  {
   "cell_type": "markdown",
   "metadata": {
    "id": "ZttMxHK0sj29"
   },
   "source": [
    "You can also clear the output anytime by clicking the icon on the left side of the output displayed:\n",
    "\n",
    "![image.png](data:image/png;base64,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)"
   ]
  },
  {
   "cell_type": "markdown",
   "metadata": {
    "id": "28_brA13tVSR"
   },
   "source": [
    "######*Adding and moving code cells*\n",
    "\n",
    "To add more code to your notebook, select the following *menu* options:\n",
    "\n",
    "> *Insert > Code Cell*\n",
    "\n",
    "Alternatively, just over the mouse at the bottom center of the Code cell. When the **+ CODE** and **+ TEXT** buttons appear, click on the **+ CODE** to add a new cell. This is shown in the screenshot below:\n",
    "\n",
    "![image.png](data:image/png;base64,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)"
   ]
  },
  {
   "cell_type": "markdown",
   "metadata": {
    "id": "OWwg6BDnTt30"
   },
   "source": [
    "You can move a cell by selecting it and clicking **Cell Up** or **Cell Down** in the top toolbar. "
   ]
  },
  {
   "cell_type": "markdown",
   "metadata": {
    "id": "YTD0ffytv3PT"
   },
   "source": [
    "###### *Cell outputs*\n",
    "\n",
    "A new code cell will be added underneath the current cell. Add the following two statements in the newly created window:\n",
    "\n",
    "```python\n",
    "b = 20\n",
    "\n",
    "c = a + b\n",
    "\n",
    "c\n",
    "```"
   ]
  },
  {
   "cell_type": "markdown",
   "metadata": {
    "id": "XWnr2I0UHIGb"
   },
   "source": [
    "If the last line of code produces an output, the output will be embedded in the notebook below the code cell:"
   ]
  },
  {
   "cell_type": "code",
   "execution_count": null,
   "metadata": {
    "collapsed": false,
    "id": "w8PqL1WtHIGb",
    "jupyter": {
     "outputs_hidden": false
    }
   },
   "outputs": [],
   "source": [
    "b = 20\n",
    "\n",
    "c = a+b\n",
    "\n",
    "c"
   ]
  },
  {
   "cell_type": "markdown",
   "metadata": {
    "id": "ZIlCpWoPHIGq"
   },
   "source": [
    "###### *Clearing Cell Outputs*\n",
    "\n",
    "Clear the output in the ```X``` icon as despicted in the figure below:\n",
    "\n",
    "![image.png](data:image/png;base64,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)"
   ]
  },
  {
   "cell_type": "markdown",
   "metadata": {
    "id": "T4iRLEvnqk1S"
   },
   "source": [
    "*Text cells*\n",
    "\n",
    "Google Colab also support the task of documenting your code. Google Colab offers rich Markdown functionalities. \n",
    "\n",
    "The preview function lets you see a live preview of your Markdown code and makes things faster to document. However, do note that Colab doesn’t offer a spell-checker, which you can live without. Take a look at the Markdown preview in action in the figure below:"
   ]
  },
  {
   "cell_type": "markdown",
   "metadata": {
    "id": "LHsEinDbyIwt"
   },
   "source": [
    "![image.png](data:image/png;base64,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)"
   ]
  },
  {
   "cell_type": "markdown",
   "metadata": {
    "id": "3230GTOYx5dK"
   },
   "source": [
    "\n",
    "This is a **text cell**. You can **double-click** to edit this cell. (you should see two boxes as shown in the image below:\n",
    "\n"
   ]
  },
  {
   "cell_type": "markdown",
   "metadata": {
    "id": "ZPLSNculyis9"
   },
   "source": [
    "Text Cells are formatted using **markdown** - a simple markup language. Let us now see you how to add text cels to your notebook and add to it some text containing several outputs."
   ]
  },
  {
   "cell_type": "markdown",
   "metadata": {
    "id": "s-GcnCFnz0mO"
   },
   "source": [
    "###### *Markdown cell formats*\n",
    "\n",
    "Let us look into few examples of markup language syntax to demostrate its capabilities.\n",
    "\n",
    "\n",
    "To see the markdown source, **double-click** a text cell, showing both the markdown source (left) and the rendered version (right). Above the markdown source there is a toolbar to assist editing.\n",
    "\n",
    "\n",
    "Type in the following text in the Text cell:"
   ]
  },
  {
   "cell_type": "markdown",
   "metadata": {
    "id": "ZdTuStwP0cNZ"
   },
   "source": [
    "This is **bold**.\n",
    "This is *italic*.\n",
    "This is ~strikethrough~."
   ]
  },
  {
   "cell_type": "markdown",
   "metadata": {
    "id": "PaE9kKTZHIGr"
   },
   "source": [
    "Markdown cells can contain formatted headings\n",
    "\n",
    "Prefix a line of text in a markdown cell by one or more # signs, *followed by a space*, to specify the level of the heading required.\n",
    "\n",
    "````\n",
    "# Heading 1\n",
    "## Heading 2\n",
    "...\n",
    "###### Heading 6\n",
    "````"
   ]
  },
  {
   "cell_type": "markdown",
   "metadata": {
    "id": "OIDUxweYHIGs"
   },
   "source": [
    "###### *Markdown cells can contain lists*\n",
    "Create an unnumbered list by prefixing each list item with a -, followed by a space, with each list item on a separate line:\n",
    "- list item 1\n",
    "- list item 2\n",
    "\n",
    "Create a number list by prefixing each list item with a number, followed by a ., followed by a space, with each list item on a separate line:\n",
    "1. numbered item 1\n",
    "2. numbered item 2\n",
    "\n",
    "Add sublists by indenting sublisted items with a space:\n",
    "- list item\n",
    " - sublist item"
   ]
  },
  {
   "cell_type": "markdown",
   "metadata": {
    "id": "EZHprNDiHIGt"
   },
   "source": [
    "###### *Markdown cells can include Latex Expressions*\n",
    "\n",
    "You can also add math to text cells using [LaTeX](http://www.latex-project.org/)\n",
    "\n",
    "$\\LaTeX$ equations are surrounded by `$`. For example, `$y = 0.1 x$` renders as the following inline equation: $y = 0.1 x$. Double the `$` to set the contents off on its own centered line.\n",
    "Or for example `$\\sqrt{3x-1}+(1+x)^2$` becomes $\\sqrt{3x-1}+(1+x)^2.$"
   ]
  },
  {
   "cell_type": "markdown",
   "metadata": {
    "id": "IRRMxO1SHIGt"
   },
   "source": [
    "###### *Creating tables with Markdown*\n",
    "\n",
    ">```\n",
    "First column name | Second column name\n",
    "--- | ---\n",
    "Row 1, Col 1 | Row 1, Col 2\n",
    "Row 2, Col 1 | Row 2, Col 2\n",
    "```\n",
    "\n",
    "becomes:\n",
    "\n",
    ">First column name | Second column name\n",
    ">--- | ---\n",
    ">Row 1, Col 1 | Row 1, Col 2\n",
    ">Row 2, Col 1 | Row 2, Col 2\n"
   ]
  },
  {
   "cell_type": "markdown",
   "metadata": {
    "id": "drXN3PI-t6oQ",
    "tags": []
   },
   "source": [
    "### 3.3 Working with Python\n",
    "\n",
    "Colab is built on top of [Jupyter Notebook](https://jupyter.org/). Below are some examples of convenience functions in python provided. In this section, we strongly recommend you to click on the press ► button and try to figure out what every python code example attempts to do."
   ]
  },
  {
   "cell_type": "markdown",
   "metadata": {
    "colab_type": "text",
    "id": "UeW9owvXAb4j",
    "slideshow": {
     "slide_type": "fragment"
    }
   },
   "source": [
    "Many of the things I used to use a calculator for, I now use Python for:"
   ]
  },
  {
   "cell_type": "code",
   "execution_count": 121,
   "metadata": {
    "colab": {},
    "colab_type": "code",
    "id": "CGaW6eDGAb4o",
    "outputId": "39f85b47-7dad-4f99-d243-3a471fbd3b26",
    "slideshow": {
     "slide_type": "fragment"
    }
   },
   "outputs": [
    {
     "data": {
      "text/plain": [
       "4"
      ]
     },
     "execution_count": 121,
     "metadata": {},
     "output_type": "execute_result"
    }
   ],
   "source": [
    "2+2"
   ]
  },
  {
   "cell_type": "code",
   "execution_count": 122,
   "metadata": {
    "colab": {},
    "colab_type": "code",
    "id": "EkLieN03Ab5C",
    "outputId": "540abe03-a186-42fa-e1c7-36700e00f842",
    "slideshow": {
     "slide_type": "fragment"
    }
   },
   "outputs": [
    {
     "data": {
      "text/plain": [
       "5.0"
      ]
     },
     "execution_count": 122,
     "metadata": {},
     "output_type": "execute_result"
    }
   ],
   "source": [
    "(50-5*6)/4"
   ]
  },
  {
   "cell_type": "markdown",
   "metadata": {
    "colab_type": "text",
    "id": "TwzIYfqxAb5Q",
    "slideshow": {
     "slide_type": "subslide"
    }
   },
   "source": [
    "There are some gotchas compared to using a normal calculator."
   ]
  },
  {
   "cell_type": "code",
   "execution_count": 123,
   "metadata": {
    "colab": {},
    "colab_type": "code",
    "id": "n6ywrBdkAb5V",
    "outputId": "a8cca7ea-fb47-4c07-bf56-96adca46fac1",
    "slideshow": {
     "slide_type": "fragment"
    }
   },
   "outputs": [
    {
     "data": {
      "text/plain": [
       "2.3333333333333335"
      ]
     },
     "execution_count": 123,
     "metadata": {},
     "output_type": "execute_result"
    }
   ],
   "source": [
    "7/3"
   ]
  },
  {
   "cell_type": "markdown",
   "metadata": {
    "colab_type": "text",
    "id": "TvxY4yfbAb5p",
    "slideshow": {
     "slide_type": "subslide"
    }
   },
   "source": [
    "Python integer division, like C or Fortran integer division, truncates the remainder and returns an integer. At least it does in version 2. In version 3, Python returns a floating point number. You can get a sneak preview of this feature in Python 2 by importing the module from the future features:\n",
    "\n",
    "    from __future__ import division"
   ]
  },
  {
   "cell_type": "markdown",
   "metadata": {
    "colab_type": "text",
    "id": "_tDkkfN3Ab5t",
    "slideshow": {
     "slide_type": "fragment"
    }
   },
   "source": [
    "Alternatively, you can convert one of the integers to a floating point number, in which case the division function returns another floating point number."
   ]
  },
  {
   "cell_type": "code",
   "execution_count": 124,
   "metadata": {
    "colab": {},
    "colab_type": "code",
    "id": "OFMXk4AHAb5v",
    "outputId": "81764bce-7b76-441a-f1dd-a8a99cbebbda",
    "slideshow": {
     "slide_type": "fragment"
    }
   },
   "outputs": [
    {
     "data": {
      "text/plain": [
       "2.3333333333333335"
      ]
     },
     "execution_count": 124,
     "metadata": {},
     "output_type": "execute_result"
    }
   ],
   "source": [
    "7/3.0"
   ]
  },
  {
   "cell_type": "code",
   "execution_count": 125,
   "metadata": {
    "colab": {},
    "colab_type": "code",
    "id": "p2Hj-e6lAb56",
    "outputId": "492fe5ae-2ada-4b2f-cace-5a00216714b4",
    "slideshow": {
     "slide_type": "fragment"
    }
   },
   "outputs": [
    {
     "data": {
      "text/plain": [
       "2.3333333333333335"
      ]
     },
     "execution_count": 125,
     "metadata": {},
     "output_type": "execute_result"
    }
   ],
   "source": [
    "7/float(3)"
   ]
  },
  {
   "cell_type": "markdown",
   "metadata": {
    "colab_type": "text",
    "id": "hEB9A8VuAb6J",
    "slideshow": {
     "slide_type": "subslide"
    }
   },
   "source": [
    "In the last few lines, we have sped by a lot of things that we should stop for a moment and explore a little more fully. We've seen, however briefly, two different data types: **integers**, also known as *whole numbers* to the non-programming world, and **floating point numbers**, also known (incorrectly) as *decimal numbers* to the rest of the world.\n",
    "\n",
    "We've also seen the first instance of an **import** statement. Python has a huge number of libraries included with the distribution. To keep things simple, most of these variables and functions are not accessible from a normal Python interactive session. Instead, you have to import the name. For example, there is a **math** module containing many useful functions. To access, say, the square root function, you can either first\n",
    "\n",
    "    from math import sqrt\n",
    "\n",
    "and then"
   ]
  },
  {
   "cell_type": "code",
   "execution_count": 126,
   "metadata": {
    "colab": {},
    "colab_type": "code",
    "id": "2GMO8Lg8Ab6M",
    "outputId": "91ae931f-261d-4b66-e6c9-38b75bae3b9d",
    "slideshow": {
     "slide_type": "subslide"
    }
   },
   "outputs": [
    {
     "data": {
      "text/plain": [
       "9.0"
      ]
     },
     "execution_count": 126,
     "metadata": {},
     "output_type": "execute_result"
    }
   ],
   "source": [
    "from math import sqrt\n",
    "sqrt(81)"
   ]
  },
  {
   "cell_type": "code",
   "execution_count": 127,
   "metadata": {},
   "outputs": [],
   "source": [
    "#dir(sqrt)"
   ]
  },
  {
   "cell_type": "markdown",
   "metadata": {
    "colab_type": "text",
    "id": "coOXtvMiAb6d",
    "slideshow": {
     "slide_type": "fragment"
    }
   },
   "source": [
    "or you can simply import the math library itself"
   ]
  },
  {
   "cell_type": "code",
   "execution_count": 128,
   "metadata": {
    "colab": {},
    "colab_type": "code",
    "id": "0fHhJ-LtAb6k",
    "outputId": "634120b6-f1bc-4550-f209-42972d4f2893",
    "slideshow": {
     "slide_type": "fragment"
    }
   },
   "outputs": [],
   "source": [
    "import math as mt"
   ]
  },
  {
   "cell_type": "code",
   "execution_count": 129,
   "metadata": {},
   "outputs": [
    {
     "data": {
      "text/plain": [
       "9.0"
      ]
     },
     "execution_count": 129,
     "metadata": {},
     "output_type": "execute_result"
    }
   ],
   "source": [
    "mt.sqrt(81)"
   ]
  },
  {
   "cell_type": "markdown",
   "metadata": {
    "colab_type": "text",
    "id": "OSMKXuhKAb60",
    "slideshow": {
     "slide_type": "fragment"
    }
   },
   "source": [
    "You can define variables using the equals (=) sign:"
   ]
  },
  {
   "cell_type": "code",
   "execution_count": 130,
   "metadata": {
    "colab": {},
    "colab_type": "code",
    "id": "KY6kd6WtAb65",
    "outputId": "053123e5-71a5-47c8-b5fc-447388b4e41e",
    "slideshow": {
     "slide_type": "subslide"
    }
   },
   "outputs": [],
   "source": [
    "width = 20\n",
    "length = 30\n",
    "area = length*width"
   ]
  },
  {
   "cell_type": "code",
   "execution_count": 131,
   "metadata": {},
   "outputs": [
    {
     "name": "stdout",
     "output_type": "stream",
     "text": [
      "600\n"
     ]
    }
   ],
   "source": [
    "print(area)"
   ]
  },
  {
   "cell_type": "markdown",
   "metadata": {
    "colab_type": "text",
    "id": "GrYyGiJwAb7J",
    "slideshow": {
     "slide_type": "subslide"
    }
   },
   "source": [
    "If you try to access a variable that you haven't yet defined, you get an error:"
   ]
  },
  {
   "cell_type": "code",
   "execution_count": 132,
   "metadata": {
    "colab": {},
    "colab_type": "code",
    "id": "rJXknWO-Ab7N",
    "outputId": "b69a8429-e08e-40f0-dee1-007edbaa26e1",
    "slideshow": {
     "slide_type": "fragment"
    }
   },
   "outputs": [],
   "source": [
    "#volume"
   ]
  },
  {
   "cell_type": "code",
   "execution_count": 133,
   "metadata": {
    "colab": {},
    "colab_type": "code",
    "id": "ErwQvKqVAb7o",
    "slideshow": {
     "slide_type": "subslide"
    }
   },
   "outputs": [
    {
     "data": {
      "text/plain": [
       "6000"
      ]
     },
     "execution_count": 133,
     "metadata": {},
     "output_type": "execute_result"
    }
   ],
   "source": [
    "depth = 10\n",
    "volume = area*depth\n",
    "volume"
   ]
  },
  {
   "cell_type": "code",
   "execution_count": 134,
   "metadata": {},
   "outputs": [],
   "source": [
    "# #MyVariableIsThis\n",
    "# #my_variables_is_this\n",
    "# from_ \n",
    "# _while\n",
    "# _def"
   ]
  },
  {
   "cell_type": "markdown",
   "metadata": {
    "colab_type": "text",
    "id": "l29uj5JEAb7z",
    "slideshow": {
     "slide_type": "subslide"
    }
   },
   "source": [
    "You can name a variable *almost* anything you want. It needs to start with an alphabetical character or \"\\_\", can contain alphanumeric charcters plus underscores (\"\\_\"). Certain words, however, are reserved for the language:\n",
    "\n",
    "    and, as, assert, break, class, continue, def, del, elif, else, except, \n",
    "    exec, finally, for, from, global, if, import, in, is, lambda, not, or,\n",
    "    pass, print, raise, return, try, while, with, yield\n",
    "\n",
    "Trying to define a variable using one of these will result in a syntax error:"
   ]
  },
  {
   "cell_type": "code",
   "execution_count": 135,
   "metadata": {
    "colab": {},
    "colab_type": "code",
    "id": "7lFfDla3Ab72",
    "outputId": "7452a9cb-189d-40b6-c6cc-631911f82130",
    "slideshow": {
     "slide_type": "fragment"
    }
   },
   "outputs": [],
   "source": [
    "#return = 0"
   ]
  },
  {
   "cell_type": "markdown",
   "metadata": {
    "colab_type": "text",
    "id": "WxMo5ZIpAb9K",
    "slideshow": {
     "slide_type": "skip"
    }
   },
   "source": [
    "The [Python Tutorial](http://docs.python.org/2/tutorial/introduction.html#using-python-as-a-calculator) has more on using Python as an interactive shell. The [IPython tutorial](http://ipython.org/ipython-doc/dev/interactive/tutorial.html) makes a nice complement to this, since IPython has a much more sophisticated iteractive shell."
   ]
  },
  {
   "cell_type": "markdown",
   "metadata": {
    "colab_type": "text",
    "id": "kulUahTLAb9L",
    "slideshow": {
     "slide_type": "slide"
    }
   },
   "source": [
    "### Strings\n",
    "Strings are lists of printable characters, and can be defined using either single quotes"
   ]
  },
  {
   "cell_type": "code",
   "execution_count": 1,
   "metadata": {
    "colab": {},
    "colab_type": "code",
    "id": "Huiims_YAb9N",
    "outputId": "7a8cbb3c-5f06-4323-bce5-66fe9e6bb947",
    "slideshow": {
     "slide_type": "subslide"
    }
   },
   "outputs": [
    {
     "data": {
      "text/plain": [
       "'Hello, Stamicabon!'"
      ]
     },
     "execution_count": 1,
     "metadata": {},
     "output_type": "execute_result"
    }
   ],
   "source": [
    "'Hello, Stamicabon!'"
   ]
  },
  {
   "cell_type": "markdown",
   "metadata": {
    "colab_type": "text",
    "id": "mRHhfDDwAb9S",
    "slideshow": {
     "slide_type": "fragment"
    }
   },
   "source": [
    "or double quotes"
   ]
  },
  {
   "cell_type": "code",
   "execution_count": 2,
   "metadata": {
    "colab": {},
    "colab_type": "code",
    "id": "kp8ZeljaAb9T",
    "outputId": "05bdb5af-d21b-439d-a548-ea11a28cae33",
    "slideshow": {
     "slide_type": "fragment"
    }
   },
   "outputs": [
    {
     "data": {
      "text/plain": [
       "'Hello, Stamicabon!'"
      ]
     },
     "execution_count": 2,
     "metadata": {},
     "output_type": "execute_result"
    }
   ],
   "source": [
    "\"Hello, Stamicabon!\""
   ]
  },
  {
   "cell_type": "markdown",
   "metadata": {
    "colab_type": "text",
    "id": "LPzF8gYSAb9Y",
    "slideshow": {
     "slide_type": "fragment"
    }
   },
   "source": [
    "But not both at the same time, unless you want one of the symbols to be part of the string."
   ]
  },
  {
   "cell_type": "code",
   "execution_count": 138,
   "metadata": {
    "colab": {},
    "colab_type": "code",
    "id": "7MSFeRxfAb9a",
    "outputId": "3990467c-2f4b-402e-8424-69bdaab25382",
    "slideshow": {
     "slide_type": "fragment"
    }
   },
   "outputs": [
    {
     "data": {
      "text/plain": [
       "\"He's a Data Scientist\""
      ]
     },
     "execution_count": 138,
     "metadata": {},
     "output_type": "execute_result"
    }
   ],
   "source": [
    "\"He's a Data Scientist\""
   ]
  },
  {
   "cell_type": "code",
   "execution_count": 139,
   "metadata": {
    "colab": {},
    "colab_type": "code",
    "id": "v4nmD3wHAb9j",
    "outputId": "29c2e1d3-a1cc-4e31-98be-fad9956c8324",
    "slideshow": {
     "slide_type": "subslide"
    }
   },
   "outputs": [
    {
     "data": {
      "text/plain": [
       "'She asked, \"How are you today?\"'"
      ]
     },
     "execution_count": 139,
     "metadata": {},
     "output_type": "execute_result"
    }
   ],
   "source": [
    "'She asked, \"How are you today?\"'"
   ]
  },
  {
   "cell_type": "markdown",
   "metadata": {
    "colab_type": "text",
    "id": "Z_Uw1mYwAb9p",
    "slideshow": {
     "slide_type": "fragment"
    }
   },
   "source": [
    "Just like the other two data objects we're familiar with (ints and floats), you can assign a string to a variable"
   ]
  },
  {
   "cell_type": "code",
   "execution_count": 3,
   "metadata": {
    "colab": {},
    "colab_type": "code",
    "id": "2SiuAI-FAb9q",
    "slideshow": {
     "slide_type": "fragment"
    }
   },
   "outputs": [],
   "source": [
    "greeting = \"Hello, Stamicabon!\""
   ]
  },
  {
   "cell_type": "code",
   "execution_count": 4,
   "metadata": {},
   "outputs": [
    {
     "name": "stdout",
     "output_type": "stream",
     "text": [
      "Hello, Stamicabon!\n"
     ]
    }
   ],
   "source": [
    "print(greeting)"
   ]
  },
  {
   "cell_type": "markdown",
   "metadata": {
    "colab_type": "text",
    "id": "lSwbMY9bAb91",
    "slideshow": {
     "slide_type": "subslide"
    }
   },
   "source": [
    "The **print** statement is often used for printing character strings:"
   ]
  },
  {
   "cell_type": "code",
   "execution_count": 5,
   "metadata": {
    "colab": {},
    "colab_type": "code",
    "id": "XGHHqXDjAb94",
    "outputId": "30f6b067-50bf-4600-ef12-7bbd2d694b1c",
    "slideshow": {
     "slide_type": "fragment"
    }
   },
   "outputs": [
    {
     "name": "stdout",
     "output_type": "stream",
     "text": [
      "Hello, Stamicabon!\n"
     ]
    }
   ],
   "source": [
    "print (greeting)"
   ]
  },
  {
   "cell_type": "markdown",
   "metadata": {
    "colab_type": "text",
    "id": "ZcYHD_MIAb-B",
    "slideshow": {
     "slide_type": "fragment"
    }
   },
   "source": [
    "But it can also print data types other than strings:"
   ]
  },
  {
   "cell_type": "code",
   "execution_count": 143,
   "metadata": {
    "slideshow": {
     "slide_type": "fragment"
    }
   },
   "outputs": [],
   "source": [
    "area = 60"
   ]
  },
  {
   "cell_type": "code",
   "execution_count": 144,
   "metadata": {
    "colab": {},
    "colab_type": "code",
    "id": "y6wDWu7JAb-D",
    "outputId": "d948e850-409c-47fb-9422-726c918fc443",
    "scrolled": true,
    "slideshow": {
     "slide_type": "fragment"
    }
   },
   "outputs": [
    {
     "name": "stdout",
     "output_type": "stream",
     "text": [
      "The area is  60 6000 10 20\n"
     ]
    }
   ],
   "source": [
    "print (\"The area is \",area, volume, 10, 5*4)"
   ]
  },
  {
   "cell_type": "markdown",
   "metadata": {
    "slideshow": {
     "slide_type": "subslide"
    }
   },
   "source": [
    "Also possible with the format method"
   ]
  },
  {
   "cell_type": "code",
   "execution_count": 145,
   "metadata": {
    "slideshow": {
     "slide_type": "fragment"
    }
   },
   "outputs": [
    {
     "name": "stdout",
     "output_type": "stream",
     "text": [
      "The area is 60 and volume is 6000\n"
     ]
    }
   ],
   "source": [
    "print (\"The area is {} and volume is {}\".format(area, volume))"
   ]
  },
  {
   "cell_type": "markdown",
   "metadata": {
    "colab_type": "text",
    "id": "GwpU8t5cAb-H",
    "slideshow": {
     "slide_type": "subslide"
    }
   },
   "source": [
    "In the above snipped, the number 600 (stored in the variable \"area\") is converted into a string before being printed out."
   ]
  },
  {
   "cell_type": "markdown",
   "metadata": {
    "colab_type": "text",
    "id": "ZToDsyxEAb-W",
    "slideshow": {
     "slide_type": "subslide"
    }
   },
   "source": [
    "You can use + to concatenate multiple strings in a single statement:"
   ]
  },
  {
   "cell_type": "code",
   "execution_count": 146,
   "metadata": {
    "colab": {},
    "colab_type": "code",
    "id": "aJ9qYjheAb-X",
    "outputId": "d6d0632e-6c64-4b6e-e7c1-f486c9ef7898",
    "slideshow": {
     "slide_type": "fragment"
    }
   },
   "outputs": [
    {
     "name": "stdout",
     "output_type": "stream",
     "text": [
      "This is a longer statement.6000\n"
     ]
    }
   ],
   "source": [
    "print (\"This \" + \"is \" + \"a \" + \"longer \" + \"statement.\"+ str(volume))"
   ]
  },
  {
   "cell_type": "code",
   "execution_count": null,
   "metadata": {},
   "outputs": [],
   "source": []
  },
  {
   "cell_type": "markdown",
   "metadata": {
    "colab_type": "text",
    "id": "S0m9ab-CAb-b",
    "slideshow": {
     "slide_type": "fragment"
    }
   },
   "source": [
    "If you have a lot of words to concatenate together, there are other, more efficient ways to do this. But this is fine for linking a few strings together."
   ]
  },
  {
   "cell_type": "code",
   "execution_count": 6,
   "metadata": {
    "slideshow": {
     "slide_type": "subslide"
    }
   },
   "outputs": [
    {
     "data": {
      "text/plain": [
       "'Stamicarbon is world leader in design, licensing and development of urea plants for the fertilizer industry'"
      ]
     },
     "execution_count": 6,
     "metadata": {},
     "output_type": "execute_result"
    }
   ],
   "source": [
    "text1 = \"Stamicarbon is world leader in design, licensing and development of urea plants for the fertilizer industry\"\n",
    "text1"
   ]
  },
  {
   "cell_type": "code",
   "execution_count": 7,
   "metadata": {
    "slideshow": {
     "slide_type": "fragment"
    }
   },
   "outputs": [
    {
     "data": {
      "text/plain": [
       "107"
      ]
     },
     "execution_count": 7,
     "metadata": {},
     "output_type": "execute_result"
    }
   ],
   "source": [
    "len(text1) # The length of text1"
   ]
  },
  {
   "cell_type": "code",
   "execution_count": 8,
   "metadata": {},
   "outputs": [
    {
     "data": {
      "text/plain": [
       "'Stamicarbon is world leader in design, licensing and development of urea plants for the fertilizer industry'"
      ]
     },
     "execution_count": 8,
     "metadata": {},
     "output_type": "execute_result"
    }
   ],
   "source": [
    "text1"
   ]
  },
  {
   "cell_type": "code",
   "execution_count": 150,
   "metadata": {
    "slideshow": {
     "slide_type": "fragment"
    }
   },
   "outputs": [],
   "source": [
    "text2 = text1.split(' ') # Return a list of the words in text2, separating by ' '."
   ]
  },
  {
   "cell_type": "code",
   "execution_count": 151,
   "metadata": {},
   "outputs": [],
   "source": [
    "#text2"
   ]
  },
  {
   "cell_type": "code",
   "execution_count": null,
   "metadata": {},
   "outputs": [],
   "source": []
  },
  {
   "cell_type": "code",
   "execution_count": 152,
   "metadata": {
    "slideshow": {
     "slide_type": "fragment"
    }
   },
   "outputs": [
    {
     "data": {
      "text/plain": [
       "20"
      ]
     },
     "execution_count": 152,
     "metadata": {},
     "output_type": "execute_result"
    }
   ],
   "source": [
    "len(text2)"
   ]
  },
  {
   "cell_type": "code",
   "execution_count": 153,
   "metadata": {
    "slideshow": {
     "slide_type": "fragment"
    }
   },
   "outputs": [
    {
     "data": {
      "text/plain": [
       "7"
      ]
     },
     "execution_count": 153,
     "metadata": {},
     "output_type": "execute_result"
    }
   ],
   "source": [
    "len(text2[1])"
   ]
  },
  {
   "cell_type": "markdown",
   "metadata": {
    "slideshow": {
     "slide_type": "subslide"
    }
   },
   "source": [
    "List comprehension allows us to find specific words:"
   ]
  },
  {
   "cell_type": "code",
   "execution_count": 154,
   "metadata": {
    "slideshow": {
     "slide_type": "fragment"
    }
   },
   "outputs": [],
   "source": [
    "#[w for w in text2 if len(w) > 3] # Words that are greater than 3 letters long in text2"
   ]
  },
  {
   "cell_type": "code",
   "execution_count": 155,
   "metadata": {},
   "outputs": [],
   "source": [
    "# alist = []\n",
    "# for w in text2:\n",
    "#     if len(w) > 3:\n",
    "#         alist.append(w)\n",
    "#     else:\n",
    "#         pass\n",
    "# alist"
   ]
  },
  {
   "cell_type": "code",
   "execution_count": 156,
   "metadata": {
    "slideshow": {
     "slide_type": "fragment"
    }
   },
   "outputs": [
    {
     "data": {
      "text/plain": [
       "['The']"
      ]
     },
     "execution_count": 156,
     "metadata": {},
     "output_type": "execute_result"
    }
   ],
   "source": [
    "[w for w in text2 if w.istitle()] # Capitalized words in text2"
   ]
  },
  {
   "cell_type": "code",
   "execution_count": 157,
   "metadata": {
    "slideshow": {
     "slide_type": "fragment"
    }
   },
   "outputs": [
    {
     "data": {
      "text/plain": [
       "['is', 'business']"
      ]
     },
     "execution_count": 157,
     "metadata": {},
     "output_type": "execute_result"
    }
   ],
   "source": [
    "[w for w in text2 if w.endswith('s')] # Words in text2 that end in 's'"
   ]
  },
  {
   "cell_type": "markdown",
   "metadata": {
    "slideshow": {
     "slide_type": "subslide"
    }
   },
   "source": [
    "We can find unique words using `set()`."
   ]
  },
  {
   "cell_type": "code",
   "execution_count": 158,
   "metadata": {
    "slideshow": {
     "slide_type": "fragment"
    }
   },
   "outputs": [],
   "source": [
    "text3 = 'The annual Report for 2022 showing annual results'\n",
    "text4 = text3.split(' ')"
   ]
  },
  {
   "cell_type": "code",
   "execution_count": 159,
   "metadata": {
    "slideshow": {
     "slide_type": "fragment"
    }
   },
   "outputs": [
    {
     "data": {
      "text/plain": [
       "8"
      ]
     },
     "execution_count": 159,
     "metadata": {},
     "output_type": "execute_result"
    }
   ],
   "source": [
    "len(text4)"
   ]
  },
  {
   "cell_type": "code",
   "execution_count": 160,
   "metadata": {
    "slideshow": {
     "slide_type": "fragment"
    }
   },
   "outputs": [
    {
     "data": {
      "text/plain": [
       "7"
      ]
     },
     "execution_count": 160,
     "metadata": {},
     "output_type": "execute_result"
    }
   ],
   "source": [
    "len(set(text4))"
   ]
  },
  {
   "cell_type": "code",
   "execution_count": 161,
   "metadata": {
    "slideshow": {
     "slide_type": "fragment"
    }
   },
   "outputs": [
    {
     "data": {
      "text/plain": [
       "{'2019', 'Report', 'The', 'annual', 'for', 'results', 'showing'}"
      ]
     },
     "execution_count": 161,
     "metadata": {},
     "output_type": "execute_result"
    }
   ],
   "source": [
    "set(text4)"
   ]
  },
  {
   "cell_type": "code",
   "execution_count": 162,
   "metadata": {
    "slideshow": {
     "slide_type": "fragment"
    }
   },
   "outputs": [
    {
     "data": {
      "text/plain": [
       "7"
      ]
     },
     "execution_count": 162,
     "metadata": {},
     "output_type": "execute_result"
    }
   ],
   "source": [
    "len(set([w.lower() for w in text4])) # .lower converts the string to lowercase."
   ]
  },
  {
   "cell_type": "code",
   "execution_count": 163,
   "metadata": {
    "slideshow": {
     "slide_type": "fragment"
    }
   },
   "outputs": [
    {
     "data": {
      "text/plain": [
       "{'2019', 'annual', 'for', 'report', 'results', 'showing', 'the'}"
      ]
     },
     "execution_count": 163,
     "metadata": {},
     "output_type": "execute_result"
    }
   ],
   "source": [
    "set([w.lower() for w in text4])"
   ]
  },
  {
   "cell_type": "markdown",
   "metadata": {
    "colab_type": "text",
    "id": "yMQu5I9tAb-b",
    "slideshow": {
     "slide_type": "slide"
    }
   },
   "source": [
    "### Lists\n",
    "Very often in a programming language, one wants to keep a group of similar items together. Python does this using a data type called **lists**."
   ]
  },
  {
   "cell_type": "code",
   "execution_count": 164,
   "metadata": {
    "colab": {},
    "colab_type": "code",
    "id": "pzg8302wAb-d",
    "slideshow": {
     "slide_type": "subslide"
    }
   },
   "outputs": [],
   "source": [
    "days_of_the_week = [\"Sunday\",\"Monday\",\"Tuesday\",\"Wednesday\",\"Thursday\",\"Friday\",\"Saturday\"]"
   ]
  },
  {
   "cell_type": "code",
   "execution_count": 165,
   "metadata": {},
   "outputs": [
    {
     "data": {
      "text/plain": [
       "list"
      ]
     },
     "execution_count": 165,
     "metadata": {},
     "output_type": "execute_result"
    }
   ],
   "source": [
    "type(days_of_the_week)"
   ]
  },
  {
   "cell_type": "code",
   "execution_count": 166,
   "metadata": {},
   "outputs": [
    {
     "data": {
      "text/plain": [
       "[0, 1, 2]"
      ]
     },
     "execution_count": 166,
     "metadata": {},
     "output_type": "execute_result"
    }
   ],
   "source": [
    "list(range(3))"
   ]
  },
  {
   "cell_type": "markdown",
   "metadata": {
    "colab_type": "text",
    "id": "dI9XtQmKAb-f",
    "slideshow": {
     "slide_type": "subslide"
    }
   },
   "source": [
    "You can access members of the list using the **index** of that item:"
   ]
  },
  {
   "cell_type": "code",
   "execution_count": 167,
   "metadata": {
    "colab": {},
    "colab_type": "code",
    "id": "wGoMBXo5Ab-h",
    "outputId": "7b4bc91f-d994-4028-d61b-6861f41af59c",
    "slideshow": {
     "slide_type": "fragment"
    }
   },
   "outputs": [
    {
     "data": {
      "text/plain": [
       "'e'"
      ]
     },
     "execution_count": 167,
     "metadata": {},
     "output_type": "execute_result"
    }
   ],
   "source": [
    "days_of_the_week[2][2]"
   ]
  },
  {
   "cell_type": "markdown",
   "metadata": {
    "colab_type": "text",
    "id": "Eri-ct7dAb-p",
    "slideshow": {
     "slide_type": "subslide"
    }
   },
   "source": [
    "Python lists, like C, but unlike Fortran, use 0 as the index of the first element of a list. Thus, in this example, the 0 element is \"Sunday\", 1 is \"Monday\", and so on. If you need to access the *n*th element from the end of the list, you can use a negative index. For example, the -1 element of a list is the last element:"
   ]
  },
  {
   "cell_type": "code",
   "execution_count": 168,
   "metadata": {
    "colab": {},
    "colab_type": "code",
    "id": "z43N5fr0Ab-q",
    "outputId": "6765c075-25f7-4df5-aae3-ebe1b30934bc",
    "slideshow": {
     "slide_type": "fragment"
    }
   },
   "outputs": [
    {
     "name": "stdout",
     "output_type": "stream",
     "text": [
      "True\n"
     ]
    }
   ],
   "source": [
    "print(days_of_the_week[-2] == days_of_the_week[5])"
   ]
  },
  {
   "cell_type": "markdown",
   "metadata": {
    "colab_type": "text",
    "id": "ddUWA0M6Ab-y",
    "slideshow": {
     "slide_type": "subslide"
    }
   },
   "source": [
    "You can add additional items to the list using the .append() command:"
   ]
  },
  {
   "cell_type": "code",
   "execution_count": 169,
   "metadata": {
    "colab": {},
    "colab_type": "code",
    "id": "idqtd2BvAb-0",
    "outputId": "863b8152-109e-4a04-fa32-e31d64a131b0",
    "slideshow": {
     "slide_type": "fragment"
    }
   },
   "outputs": [
    {
     "name": "stdout",
     "output_type": "stream",
     "text": [
      "['Fortran', 'C', 'C++', 'Python']\n"
     ]
    }
   ],
   "source": [
    "languages = [\"Fortran\",\"C\",\"C++\"]\n",
    "languages.append(\"Python\")\n",
    "print (languages)"
   ]
  },
  {
   "cell_type": "code",
   "execution_count": 170,
   "metadata": {},
   "outputs": [],
   "source": [
    "#languages.remove('Python')"
   ]
  },
  {
   "cell_type": "code",
   "execution_count": 171,
   "metadata": {},
   "outputs": [
    {
     "data": {
      "text/plain": [
       "['Fortran', 'C', 'C++', 'Python']"
      ]
     },
     "execution_count": 171,
     "metadata": {},
     "output_type": "execute_result"
    }
   ],
   "source": [
    "languages"
   ]
  },
  {
   "cell_type": "code",
   "execution_count": 172,
   "metadata": {},
   "outputs": [],
   "source": [
    "del languages[-1]"
   ]
  },
  {
   "cell_type": "code",
   "execution_count": 173,
   "metadata": {},
   "outputs": [
    {
     "data": {
      "text/plain": [
       "['Fortran', 'C', 'C++']"
      ]
     },
     "execution_count": 173,
     "metadata": {},
     "output_type": "execute_result"
    }
   ],
   "source": [
    "languages"
   ]
  },
  {
   "cell_type": "markdown",
   "metadata": {
    "colab_type": "text",
    "id": "2Lv4FI26Ab-3",
    "slideshow": {
     "slide_type": "subslide"
    }
   },
   "source": [
    "The **range()** command is a convenient way to make sequential lists of numbers:"
   ]
  },
  {
   "cell_type": "code",
   "execution_count": 174,
   "metadata": {
    "colab": {},
    "colab_type": "code",
    "id": "fyMOAO2qAb-5",
    "outputId": "4ea654e3-4a3e-4799-fca2-e2b8068b9b4c",
    "slideshow": {
     "slide_type": "fragment"
    }
   },
   "outputs": [
    {
     "data": {
      "text/plain": [
       "range(0, 10)"
      ]
     },
     "execution_count": 174,
     "metadata": {},
     "output_type": "execute_result"
    }
   ],
   "source": [
    "range(10)"
   ]
  },
  {
   "cell_type": "markdown",
   "metadata": {
    "colab_type": "text",
    "id": "7NyvFawCAb_A",
    "slideshow": {
     "slide_type": "subslide"
    }
   },
   "source": [
    "Note that range(n) starts at 0 and gives the sequential list of integers less than n. If you want to start at a different number, use range(start,stop)"
   ]
  },
  {
   "cell_type": "code",
   "execution_count": 175,
   "metadata": {
    "colab": {},
    "colab_type": "code",
    "id": "47LT5hnEAb_E",
    "outputId": "fc859aea-0f1e-4d3a-e592-24a5a15062f8",
    "slideshow": {
     "slide_type": "fragment"
    }
   },
   "outputs": [
    {
     "data": {
      "text/plain": [
       "[2, 3, 4, 5, 6, 7]"
      ]
     },
     "execution_count": 175,
     "metadata": {},
     "output_type": "execute_result"
    }
   ],
   "source": [
    "list(range(2,8))"
   ]
  },
  {
   "cell_type": "markdown",
   "metadata": {
    "colab_type": "text",
    "id": "TboCVFBgAb_I",
    "slideshow": {
     "slide_type": "subslide"
    }
   },
   "source": [
    "The lists created above with range have a *step* of 1 between elements. You can also give a fixed step size via a third command:"
   ]
  },
  {
   "cell_type": "code",
   "execution_count": 176,
   "metadata": {
    "colab": {},
    "colab_type": "code",
    "id": "tf8UZoyqAb_J",
    "outputId": "96c3b6bb-e2e7-43d1-d338-8cfe73bc0933",
    "slideshow": {
     "slide_type": "fragment"
    }
   },
   "outputs": [
    {
     "data": {
      "text/plain": [
       "range(0, 20, 2)"
      ]
     },
     "execution_count": 176,
     "metadata": {},
     "output_type": "execute_result"
    }
   ],
   "source": [
    "evens = range(0,20,2)\n",
    "evens"
   ]
  },
  {
   "cell_type": "code",
   "execution_count": 177,
   "metadata": {
    "colab": {},
    "colab_type": "code",
    "id": "41HEHBJfAb_N",
    "outputId": "413cbbf3-832b-4841-fd7f-a9be4998bf91",
    "slideshow": {
     "slide_type": "fragment"
    }
   },
   "outputs": [
    {
     "data": {
      "text/plain": [
       "range"
      ]
     },
     "execution_count": 177,
     "metadata": {},
     "output_type": "execute_result"
    }
   ],
   "source": [
    "type(evens)#[3]"
   ]
  },
  {
   "cell_type": "markdown",
   "metadata": {
    "colab_type": "text",
    "id": "YbK6hGlkAb_T",
    "slideshow": {
     "slide_type": "subslide"
    }
   },
   "source": [
    "Lists do not have to hold the same data type. For example,"
   ]
  },
  {
   "cell_type": "code",
   "execution_count": 178,
   "metadata": {
    "colab": {},
    "colab_type": "code",
    "id": "Xicvkk-5Ab_U",
    "outputId": "ca2a0b0e-c82f-4f9f-dea2-f32bb309c5e2",
    "scrolled": true,
    "slideshow": {
     "slide_type": "fragment"
    }
   },
   "outputs": [
    {
     "data": {
      "text/plain": [
       "['Today',\n",
       " 7,\n",
       " 99.3,\n",
       " '',\n",
       " range(0, 20, 2),\n",
       " ['Sunday',\n",
       "  'Monday',\n",
       "  'Tuesday',\n",
       "  'Wednesday',\n",
       "  'Thursday',\n",
       "  'Friday',\n",
       "  'Saturday']]"
      ]
     },
     "execution_count": 178,
     "metadata": {},
     "output_type": "execute_result"
    }
   ],
   "source": [
    "[\"Today\",7,99.3,\"\", evens, days_of_the_week]"
   ]
  },
  {
   "cell_type": "markdown",
   "metadata": {
    "colab_type": "text",
    "id": "OiDYjVgLAb_f",
    "slideshow": {
     "slide_type": "subslide"
    }
   },
   "source": [
    "However, it's good (but not essential) to use lists for similar objects that are somehow logically connected. If you want to group different data types together into a composite data object, it's best to use **tuples**, which we will learn about below.\n",
    "\n",
    "You can find out how long a list is using the **len()** command:"
   ]
  },
  {
   "cell_type": "code",
   "execution_count": 179,
   "metadata": {
    "colab": {},
    "colab_type": "code",
    "id": "vCCveO2YAb_g",
    "outputId": "c959cdee-9cc9-47f7-ae49-beb4b5a926ec",
    "slideshow": {
     "slide_type": "fragment"
    }
   },
   "outputs": [
    {
     "name": "stdout",
     "output_type": "stream",
     "text": [
      "Help on built-in function len in module builtins:\n",
      "\n",
      "len(obj, /)\n",
      "    Return the number of items in a container.\n",
      "\n"
     ]
    }
   ],
   "source": [
    "help(len)"
   ]
  },
  {
   "cell_type": "code",
   "execution_count": 180,
   "metadata": {
    "colab": {},
    "colab_type": "code",
    "id": "5LRIpOt2Ab_q",
    "outputId": "c33285b5-f85c-4430-de94-f70b47b1f957",
    "slideshow": {
     "slide_type": "fragment"
    }
   },
   "outputs": [
    {
     "data": {
      "text/plain": [
       "10"
      ]
     },
     "execution_count": 180,
     "metadata": {},
     "output_type": "execute_result"
    }
   ],
   "source": [
    "len(evens)"
   ]
  },
  {
   "cell_type": "markdown",
   "metadata": {
    "colab_type": "text",
    "id": "Nlekb7LAAb_t",
    "slideshow": {
     "slide_type": "slide"
    }
   },
   "source": [
    "### Iteration, Indentation, and Blocks\n",
    "One of the most useful things you can do with lists is to *iterate* through them, i.e. to go through each element one at a time. To do this in Python, we use the **for** statement:"
   ]
  },
  {
   "cell_type": "code",
   "execution_count": 181,
   "metadata": {
    "colab": {},
    "colab_type": "code",
    "id": "YPF9ceOVAb_u",
    "outputId": "e12f58e5-aea5-4795-ee96-96640e35e632",
    "slideshow": {
     "slide_type": "subslide"
    }
   },
   "outputs": [
    {
     "name": "stdout",
     "output_type": "stream",
     "text": [
      "Sunday\n",
      "Monday\n",
      "Tuesday\n",
      "Wednesday\n",
      "Thursday\n",
      "Friday\n",
      "Saturday\n"
     ]
    }
   ],
   "source": [
    "for day in days_of_the_week:\n",
    "    print (day)"
   ]
  },
  {
   "cell_type": "markdown",
   "metadata": {
    "colab_type": "text",
    "id": "J5o00lxFAb_x",
    "slideshow": {
     "slide_type": "subslide"
    }
   },
   "source": [
    "This code snippet goes through each element of the list called **days_of_the_week** and assigns it to the variable **day**. It then executes everything in the indented block (in this case only one line of code, the print statement) using those variable assignments. When the program has gone through every element of the list, it exists the block.\n",
    "\n",
    "(Almost) every programming language defines blocks of code in some way. In Fortran, one uses END statements (ENDDO, ENDIF, etc.) to define code blocks. In C, C++, and Perl, one uses curly braces {} to define these blocks.\n",
    "\n",
    "Python uses a colon (\":\"), followed by indentation level to define code blocks. Everything at a higher level of indentation is taken to be in the same block. In the above example the block was only a single line, but we could have had longer blocks as well:"
   ]
  },
  {
   "cell_type": "code",
   "execution_count": 182,
   "metadata": {
    "colab": {},
    "colab_type": "code",
    "id": "63Z8gc_oAb_y",
    "outputId": "da38ade7-ac47-41da-802b-c88294052efd",
    "slideshow": {
     "slide_type": "subslide"
    }
   },
   "outputs": [
    {
     "name": "stdout",
     "output_type": "stream",
     "text": [
      "Today is Tuesday\n",
      "Today is Wednesday\n"
     ]
    }
   ],
   "source": [
    "for day in days_of_the_week[2:4]:\n",
    "    statement = \"Today is \" + day\n",
    "    print (statement)"
   ]
  },
  {
   "cell_type": "markdown",
   "metadata": {
    "colab_type": "text",
    "id": "0B-ll4MZAb_2",
    "slideshow": {
     "slide_type": "subslide"
    }
   },
   "source": [
    "The **range()** command is particularly useful with the **for** statement to execute loops of a specified length:"
   ]
  },
  {
   "cell_type": "code",
   "execution_count": 183,
   "metadata": {
    "colab": {},
    "colab_type": "code",
    "id": "KDNbtbQQAb_2",
    "outputId": "5da0adce-7a7d-4de7-a8e7-01a49c13807f",
    "slideshow": {
     "slide_type": "fragment"
    }
   },
   "outputs": [
    {
     "name": "stdout",
     "output_type": "stream",
     "text": [
      "The square of  0  is  0\n",
      "The square of  1  is  1\n",
      "The square of  2  is  4\n",
      "The square of  3  is  9\n",
      "The square of  4  is  16\n",
      "The square of  5  is  25\n",
      "The square of  6  is  36\n",
      "The square of  7  is  49\n",
      "The square of  8  is  64\n",
      "The square of  9  is  81\n",
      "The square of  10  is  100\n",
      "The square of  11  is  121\n",
      "The square of  12  is  144\n",
      "The square of  13  is  169\n",
      "The square of  14  is  196\n",
      "The square of  15  is  225\n",
      "The square of  16  is  256\n",
      "The square of  17  is  289\n",
      "The square of  18  is  324\n",
      "The square of  19  is  361\n",
      "something else\n"
     ]
    }
   ],
   "source": [
    "for i in range(20):\n",
    "    print (\"The square of \",i,\" is \",i*i)\n",
    "    #print(\"this\")\n",
    "\n",
    "print(\"something else\")"
   ]
  },
  {
   "cell_type": "markdown",
   "metadata": {
    "colab_type": "text",
    "id": "uZxYEgYMAb_6",
    "slideshow": {
     "slide_type": "slide"
    }
   },
   "source": [
    "### Slicing\n",
    "Lists and strings have something in common that you might not suspect: they can both be treated as sequences. You already know that you can iterate through the elements of a list. You can also iterate through the letters in a string:"
   ]
  },
  {
   "cell_type": "code",
   "execution_count": 184,
   "metadata": {
    "colab": {},
    "colab_type": "code",
    "id": "gDchx1arAb_7",
    "outputId": "28c73d37-b30f-433e-8ee8-b122b83ee708",
    "slideshow": {
     "slide_type": "subslide"
    }
   },
   "outputs": [
    {
     "name": "stdout",
     "output_type": "stream",
     "text": [
      "S\n",
      "u\n",
      "n\n",
      "d\n",
      "a\n",
      "y\n"
     ]
    }
   ],
   "source": [
    "for letter in \"Sunday\":\n",
    "    print (letter)"
   ]
  },
  {
   "cell_type": "markdown",
   "metadata": {
    "colab_type": "text",
    "id": "J13QjHYSAcAC",
    "slideshow": {
     "slide_type": "subslide"
    }
   },
   "source": [
    "This is only occasionally useful. Slightly more useful is the *slicing* operation, which you can also use on any sequence. We already know that we can use *indexing* to get the first element of a list:"
   ]
  },
  {
   "cell_type": "code",
   "execution_count": 185,
   "metadata": {
    "colab": {},
    "colab_type": "code",
    "id": "shJ1sFPxAcAE",
    "outputId": "70a59843-3368-4cf7-d27e-381164c83f36",
    "slideshow": {
     "slide_type": "fragment"
    }
   },
   "outputs": [
    {
     "data": {
      "text/plain": [
       "'Sunday'"
      ]
     },
     "execution_count": 185,
     "metadata": {},
     "output_type": "execute_result"
    }
   ],
   "source": [
    "days_of_the_week[0]"
   ]
  },
  {
   "cell_type": "markdown",
   "metadata": {
    "colab_type": "text",
    "id": "4JqEh6byAcAG",
    "slideshow": {
     "slide_type": "subslide"
    }
   },
   "source": [
    "If we want the list containing the first two elements of a list, we can do this via"
   ]
  },
  {
   "cell_type": "code",
   "execution_count": 186,
   "metadata": {
    "colab": {},
    "colab_type": "code",
    "id": "XiWYqquAAcAH",
    "outputId": "e17ceb0b-4c8b-4071-d073-61ffe2849be7",
    "slideshow": {
     "slide_type": "fragment"
    }
   },
   "outputs": [
    {
     "data": {
      "text/plain": [
       "['Sunday', 'Monday']"
      ]
     },
     "execution_count": 186,
     "metadata": {},
     "output_type": "execute_result"
    }
   ],
   "source": [
    "days_of_the_week[0:2]"
   ]
  },
  {
   "cell_type": "markdown",
   "metadata": {
    "colab_type": "text",
    "id": "OGuUFwjAAcAJ",
    "slideshow": {
     "slide_type": "subslide"
    }
   },
   "source": [
    "or simply"
   ]
  },
  {
   "cell_type": "code",
   "execution_count": 187,
   "metadata": {
    "colab": {},
    "colab_type": "code",
    "id": "SNwxirc0AcAK",
    "outputId": "eb1feadc-051e-424f-9545-2ddc3dcc9ee9",
    "slideshow": {
     "slide_type": "fragment"
    }
   },
   "outputs": [
    {
     "data": {
      "text/plain": [
       "['Sunday', 'Monday']"
      ]
     },
     "execution_count": 187,
     "metadata": {},
     "output_type": "execute_result"
    }
   ],
   "source": [
    "days_of_the_week[:2]"
   ]
  },
  {
   "cell_type": "markdown",
   "metadata": {
    "colab_type": "text",
    "id": "D2KxY9-DAcAQ",
    "slideshow": {
     "slide_type": "subslide"
    }
   },
   "source": [
    "If we want the last items of the list, we can do this with negative slicing:"
   ]
  },
  {
   "cell_type": "code",
   "execution_count": 188,
   "metadata": {
    "colab": {},
    "colab_type": "code",
    "id": "z75JNh7OAcAQ",
    "outputId": "b254306d-b618-489e-b0a6-41f807dea014",
    "slideshow": {
     "slide_type": "fragment"
    }
   },
   "outputs": [
    {
     "data": {
      "text/plain": [
       "['Friday', 'Saturday']"
      ]
     },
     "execution_count": 188,
     "metadata": {},
     "output_type": "execute_result"
    }
   ],
   "source": [
    "days_of_the_week[-2:]"
   ]
  },
  {
   "cell_type": "markdown",
   "metadata": {
    "colab_type": "text",
    "id": "KfEcmorYAcAT",
    "slideshow": {
     "slide_type": "subslide"
    }
   },
   "source": [
    "which is somewhat logically consistent with negative indices accessing the last elements of the list.\n",
    "\n",
    "You can do:"
   ]
  },
  {
   "cell_type": "code",
   "execution_count": 189,
   "metadata": {
    "colab": {},
    "colab_type": "code",
    "id": "N9YRvUAuAcAV",
    "outputId": "082724b8-3306-40ef-c0d2-354fa7c3eb95",
    "slideshow": {
     "slide_type": "fragment"
    }
   },
   "outputs": [
    {
     "name": "stdout",
     "output_type": "stream",
     "text": [
      "['Monday', 'Tuesday', 'Wednesday', 'Thursday', 'Friday']\n"
     ]
    }
   ],
   "source": [
    "workdays = days_of_the_week[1:6]\n",
    "print (workdays)"
   ]
  },
  {
   "cell_type": "markdown",
   "metadata": {
    "colab_type": "text",
    "id": "JjKcewlmAcAZ",
    "slideshow": {
     "slide_type": "subslide"
    }
   },
   "source": [
    "Since strings are sequences, you can also do this to them:"
   ]
  },
  {
   "cell_type": "code",
   "execution_count": 190,
   "metadata": {
    "colab": {},
    "colab_type": "code",
    "id": "PzFm_n0HAcAZ",
    "outputId": "e979b70a-caa2-4f83-ba73-81a0ec0e5bbd",
    "slideshow": {
     "slide_type": "fragment"
    }
   },
   "outputs": [
    {
     "name": "stdout",
     "output_type": "stream",
     "text": [
      "Mon\n"
     ]
    }
   ],
   "source": [
    "day = \"Monday\"\n",
    "abbreviation = day[:3]\n",
    "print (abbreviation)"
   ]
  },
  {
   "cell_type": "markdown",
   "metadata": {
    "colab_type": "text",
    "id": "mnV7qSkxAcAd",
    "slideshow": {
     "slide_type": "subslide"
    }
   },
   "source": [
    "If we really want to get fancy, we can pass a third element into the slice, which specifies a step length (just like a third argument to the **range()** function specifies the step):"
   ]
  },
  {
   "cell_type": "code",
   "execution_count": 191,
   "metadata": {
    "colab": {},
    "colab_type": "code",
    "id": "ZZQIIxLdAcAd",
    "outputId": "3c3e1f00-96f5-47c3-d5a1-d966381132e6",
    "slideshow": {
     "slide_type": "fragment"
    }
   },
   "outputs": [
    {
     "data": {
      "text/plain": [
       "range(2, 40, 2)"
      ]
     },
     "execution_count": 191,
     "metadata": {},
     "output_type": "execute_result"
    }
   ],
   "source": [
    "numbers = range(0,40)\n",
    "evens = numbers[2::2]\n",
    "evens"
   ]
  },
  {
   "cell_type": "markdown",
   "metadata": {
    "colab_type": "text",
    "id": "WAhfUbkkAcAg",
    "slideshow": {
     "slide_type": "fragment"
    }
   },
   "source": [
    "Note that in this example I was even able to omit the second argument, so that the slice started at 2, went to the end of the list, and took every second element, to generate the list of even numbers less that 40."
   ]
  },
  {
   "cell_type": "markdown",
   "metadata": {
    "colab_type": "text",
    "id": "VKpiADh4AcAg",
    "slideshow": {
     "slide_type": "slide"
    }
   },
   "source": [
    "## Booleans and Truth Testing\n",
    "We have now learned a few data types. We have integers and floating point numbers, strings, and lists to contain them. We have also learned about lists, a container that can hold any data type. We have learned to print things out, and to iterate over items in lists. We will now learn about **boolean** variables that can be either True or False.\n",
    "\n",
    "We invariably need some concept of *conditions* in programming to control branching behavior, to allow a program to react differently to different situations. If it's Monday, I'll go to work, but if it's Sunday, I'll sleep in. To do this in Python, we use a combination of **boolean** variables, which evaluate to either True or False, and **if** statements, that control branching based on boolean values."
   ]
  },
  {
   "cell_type": "code",
   "execution_count": 192,
   "metadata": {
    "colab": {},
    "colab_type": "code",
    "id": "1XAQ_CVtAcAi",
    "outputId": "b8fe7e4e-eab7-418c-a102-22fb0d1794d3",
    "slideshow": {
     "slide_type": "subslide"
    }
   },
   "outputs": [
    {
     "name": "stdout",
     "output_type": "stream",
     "text": [
      "Go to work\n"
     ]
    }
   ],
   "source": [
    "if day == \"Sunday\":\n",
    "    print (\"Sleep in\")\n",
    "else:\n",
    "        print (\"Go to work\")"
   ]
  },
  {
   "cell_type": "markdown",
   "metadata": {
    "colab_type": "text",
    "id": "OhxKjsWDAcAk",
    "slideshow": {
     "slide_type": "subslide"
    }
   },
   "source": [
    "(Quick quiz: why did the snippet print \"Go to work\" here? What is the variable \"day\" set to?)\n",
    "\n",
    "Let's take the snippet apart to see what happened. First, note the statement"
   ]
  },
  {
   "cell_type": "code",
   "execution_count": 193,
   "metadata": {
    "colab": {},
    "colab_type": "code",
    "id": "H1btM3oLAcAl",
    "outputId": "0463dd5b-90d0-4e71-f5a5-fbe3ef75287f",
    "slideshow": {
     "slide_type": "fragment"
    }
   },
   "outputs": [
    {
     "data": {
      "text/plain": [
       "False"
      ]
     },
     "execution_count": 193,
     "metadata": {},
     "output_type": "execute_result"
    }
   ],
   "source": [
    "day == \"Sunday\""
   ]
  },
  {
   "cell_type": "code",
   "execution_count": 194,
   "metadata": {},
   "outputs": [
    {
     "data": {
      "text/plain": [
       "'Monday'"
      ]
     },
     "execution_count": 194,
     "metadata": {},
     "output_type": "execute_result"
    }
   ],
   "source": [
    "day"
   ]
  },
  {
   "cell_type": "markdown",
   "metadata": {
    "colab_type": "text",
    "id": "bVb7IKy1AcAo",
    "slideshow": {
     "slide_type": "fragment"
    }
   },
   "source": [
    "If we evaluate it by itself, as we just did, we see that it returns a boolean value, False. The \"==\" operator performs *equality testing*. If the two items are equal, it returns True, otherwise it returns False. In this case, it is comparing two variables, the string \"Sunday\", and whatever is stored in the variable \"day\", which, in this case, is the other string \"Saturday\". Since the two strings are not equal to each other, the truth test has the false value."
   ]
  },
  {
   "cell_type": "markdown",
   "metadata": {
    "colab_type": "text",
    "id": "j8UIRCgsAcAo",
    "slideshow": {
     "slide_type": "subslide"
    }
   },
   "source": [
    "The if statement that contains the truth test is followed by a code block (a colon followed by an indented block of code). If the boolean is true, it executes the code in that block. Since it is false in the above example, we don't see that code executed.\n",
    "\n",
    "The first block of code is followed by an **else** statement, which is executed if nothing else in the above if statement is true. Since the value was false, this code is executed, which is why we see \"Go to work\".\n",
    "\n",
    "You can compare any data types in Python:"
   ]
  },
  {
   "cell_type": "code",
   "execution_count": 195,
   "metadata": {
    "colab": {},
    "colab_type": "code",
    "id": "dres-FvIAcAp",
    "outputId": "1d3dbd90-d799-4a7f-9203-a925abbe19dd",
    "slideshow": {
     "slide_type": "fragment"
    }
   },
   "outputs": [
    {
     "data": {
      "text/plain": [
       "False"
      ]
     },
     "execution_count": 195,
     "metadata": {},
     "output_type": "execute_result"
    }
   ],
   "source": [
    "1 == 2"
   ]
  },
  {
   "cell_type": "code",
   "execution_count": 196,
   "metadata": {
    "colab": {},
    "colab_type": "code",
    "id": "xatbKpJaAcAu",
    "outputId": "b47e1901-caa5-49f5-92c4-eb27a37f9dba",
    "slideshow": {
     "slide_type": "fragment"
    }
   },
   "outputs": [
    {
     "data": {
      "text/plain": [
       "True"
      ]
     },
     "execution_count": 196,
     "metadata": {},
     "output_type": "execute_result"
    }
   ],
   "source": [
    "50 == 2*25"
   ]
  },
  {
   "cell_type": "code",
   "execution_count": 197,
   "metadata": {
    "colab": {},
    "colab_type": "code",
    "id": "ZulxGSKLAcAx",
    "outputId": "a0383308-2825-4019-f8e2-5327f587a700",
    "slideshow": {
     "slide_type": "subslide"
    }
   },
   "outputs": [
    {
     "data": {
      "text/plain": [
       "True"
      ]
     },
     "execution_count": 197,
     "metadata": {},
     "output_type": "execute_result"
    }
   ],
   "source": [
    "3 < 3.14159"
   ]
  },
  {
   "cell_type": "code",
   "execution_count": 198,
   "metadata": {
    "colab": {},
    "colab_type": "code",
    "id": "-AxaNJ_qAcA0",
    "outputId": "f80243cb-ee9a-45ef-e13c-d9c710378c57",
    "slideshow": {
     "slide_type": "fragment"
    }
   },
   "outputs": [
    {
     "data": {
      "text/plain": [
       "True"
      ]
     },
     "execution_count": 198,
     "metadata": {},
     "output_type": "execute_result"
    }
   ],
   "source": [
    "1 == 1.0"
   ]
  },
  {
   "cell_type": "code",
   "execution_count": 199,
   "metadata": {
    "colab": {},
    "colab_type": "code",
    "id": "c_-uzML1AcA7",
    "outputId": "88042e41-22aa-40b8-81de-549133ead139",
    "slideshow": {
     "slide_type": "fragment"
    }
   },
   "outputs": [
    {
     "data": {
      "text/plain": [
       "True"
      ]
     },
     "execution_count": 199,
     "metadata": {},
     "output_type": "execute_result"
    }
   ],
   "source": [
    "1 != 0"
   ]
  },
  {
   "cell_type": "code",
   "execution_count": 200,
   "metadata": {
    "colab": {},
    "colab_type": "code",
    "id": "f9D4_9PeAcA9",
    "outputId": "a43d46aa-d177-4ded-a41e-525a5287e3a2",
    "slideshow": {
     "slide_type": "fragment"
    }
   },
   "outputs": [
    {
     "data": {
      "text/plain": [
       "True"
      ]
     },
     "execution_count": 200,
     "metadata": {},
     "output_type": "execute_result"
    }
   ],
   "source": [
    "1 <= 2"
   ]
  },
  {
   "cell_type": "code",
   "execution_count": 201,
   "metadata": {
    "colab": {},
    "colab_type": "code",
    "id": "WwtUu0pcAcBB",
    "outputId": "dc98f11f-1e09-4413-8462-69fd6ae37016",
    "slideshow": {
     "slide_type": "fragment"
    }
   },
   "outputs": [
    {
     "data": {
      "text/plain": [
       "True"
      ]
     },
     "execution_count": 201,
     "metadata": {},
     "output_type": "execute_result"
    }
   ],
   "source": [
    "1 >= 1"
   ]
  },
  {
   "cell_type": "markdown",
   "metadata": {
    "colab_type": "text",
    "id": "pA3FClstAcBE",
    "slideshow": {
     "slide_type": "subslide"
    }
   },
   "source": [
    "We see a few other boolean operators here, all of which which should be self-explanatory. Less than, equality, non-equality, and so on.\n",
    "\n",
    "Particularly interesting is the 1 == 1.0 test, which is true, since even though the two objects are different data types (integer and floating point number), they have the same *value*. There is another boolean operator **is**, that tests whether two objects are the same object:"
   ]
  },
  {
   "cell_type": "code",
   "execution_count": 202,
   "metadata": {
    "colab": {},
    "colab_type": "code",
    "id": "eFaByqKZAcBG",
    "outputId": "52ca8c41-f87f-4c4c-8f99-b3e15e99e6c3",
    "slideshow": {
     "slide_type": "fragment"
    }
   },
   "outputs": [
    {
     "data": {
      "text/plain": [
       "True"
      ]
     },
     "execution_count": 202,
     "metadata": {},
     "output_type": "execute_result"
    }
   ],
   "source": [
    "float(1.) is 1.0"
   ]
  },
  {
   "cell_type": "code",
   "execution_count": 203,
   "metadata": {},
   "outputs": [
    {
     "data": {
      "text/plain": [
       "False"
      ]
     },
     "execution_count": 203,
     "metadata": {},
     "output_type": "execute_result"
    }
   ],
   "source": [
    "day is 'Wednesday'"
   ]
  },
  {
   "cell_type": "markdown",
   "metadata": {
    "colab_type": "text",
    "id": "zLXNkaG8AcBL",
    "slideshow": {
     "slide_type": "fragment"
    }
   },
   "source": [
    "We can do boolean tests on lists as well:"
   ]
  },
  {
   "cell_type": "code",
   "execution_count": 204,
   "metadata": {
    "colab": {},
    "colab_type": "code",
    "id": "49FVY5zkAcBL",
    "outputId": "67ebfaa6-e235-4461-96c2-16754ad66fb3",
    "slideshow": {
     "slide_type": "subslide"
    }
   },
   "outputs": [
    {
     "data": {
      "text/plain": [
       "False"
      ]
     },
     "execution_count": 204,
     "metadata": {},
     "output_type": "execute_result"
    }
   ],
   "source": [
    "[1,2,3] == [1,2,4]"
   ]
  },
  {
   "cell_type": "code",
   "execution_count": 205,
   "metadata": {},
   "outputs": [
    {
     "data": {
      "text/plain": [
       "True"
      ]
     },
     "execution_count": 205,
     "metadata": {},
     "output_type": "execute_result"
    }
   ],
   "source": [
    "[1,2,3] < [1,2,4]"
   ]
  },
  {
   "cell_type": "code",
   "execution_count": 206,
   "metadata": {
    "colab": {},
    "colab_type": "code",
    "id": "sr_3SsvjAcBQ",
    "outputId": "c05ceadb-8d45-494a-b57a-7c488c78ecaf",
    "slideshow": {
     "slide_type": "fragment"
    }
   },
   "outputs": [
    {
     "data": {
      "text/plain": [
       "True"
      ]
     },
     "execution_count": 206,
     "metadata": {},
     "output_type": "execute_result"
    }
   ],
   "source": [
    "[1,2,3] < [1,2,4]"
   ]
  },
  {
   "cell_type": "markdown",
   "metadata": {
    "colab_type": "text",
    "id": "fVUyEmNoAcBR",
    "slideshow": {
     "slide_type": "subslide"
    }
   },
   "source": [
    "Finally, note that you can also string multiple comparisons together, which can result in very intuitive tests:"
   ]
  },
  {
   "cell_type": "code",
   "execution_count": 207,
   "metadata": {
    "colab": {},
    "colab_type": "code",
    "id": "FXDb-c1lAcBR",
    "outputId": "bab14208-5069-4c91-e0a3-7d45df5bd1e9",
    "slideshow": {
     "slide_type": "fragment"
    }
   },
   "outputs": [
    {
     "data": {
      "text/plain": [
       "True"
      ]
     },
     "execution_count": 207,
     "metadata": {},
     "output_type": "execute_result"
    }
   ],
   "source": [
    "hours = 5\n",
    "0 < hours < 24"
   ]
  },
  {
   "cell_type": "markdown",
   "metadata": {
    "colab_type": "text",
    "id": "j67vv5FXAcBT",
    "slideshow": {
     "slide_type": "subslide"
    }
   },
   "source": [
    "If statements can have **elif** parts (\"else if\"), in addition to if/else parts. For example:"
   ]
  },
  {
   "cell_type": "code",
   "execution_count": 208,
   "metadata": {
    "colab": {},
    "colab_type": "code",
    "id": "SQ2yolhtAcBU",
    "outputId": "a8bcccde-ca95-40d7-d3e6-cd2864ab9824",
    "slideshow": {
     "slide_type": "fragment"
    }
   },
   "outputs": [
    {
     "name": "stdout",
     "output_type": "stream",
     "text": [
      "Sleep in\n"
     ]
    }
   ],
   "source": [
    "if day != \"Sunday\":\n",
    "    print (\"Sleep in\")\n",
    "elif day == \"Saturday\":\n",
    "    print (\"Go run\")\n",
    "else:\n",
    "    print (\"Go to work\")"
   ]
  },
  {
   "cell_type": "markdown",
   "metadata": {
    "colab_type": "text",
    "id": "0E7U9u8KAcBg",
    "slideshow": {
     "slide_type": "subslide"
    }
   },
   "source": [
    "Of course we can combine if statements with for loops, to make a snippet that is almost interesting:"
   ]
  },
  {
   "cell_type": "code",
   "execution_count": 209,
   "metadata": {
    "colab": {},
    "colab_type": "code",
    "id": "SS39zV6xAcBh",
    "outputId": "3005702c-7a04-4f2f-a47a-3c6751cdae2d",
    "slideshow": {
     "slide_type": "fragment"
    }
   },
   "outputs": [
    {
     "name": "stdout",
     "output_type": "stream",
     "text": [
      "Today is Sunday\n",
      "   Sleep in\n",
      "Today is Monday\n",
      "   Go to work\n",
      "Today is Tuesday\n",
      "   Go to work\n",
      "Today is Wednesday\n",
      "   Go to work\n",
      "Today is Thursday\n",
      "   Go to work\n",
      "Today is Friday\n",
      "   Go to work\n",
      "Today is Saturday\n",
      "   Do chores\n"
     ]
    }
   ],
   "source": [
    "for day in days_of_the_week:\n",
    "    statement = \"Today is \" + day\n",
    "    print (statement)    \n",
    "    if day == \"Sunday\":\n",
    "        print (\"   Sleep in\")\n",
    "    elif day == \"Saturday\":\n",
    "        print (\"   Do chores\")\n",
    "    else:\n",
    "        print (\"   Go to work\")"
   ]
  },
  {
   "cell_type": "code",
   "execution_count": 210,
   "metadata": {},
   "outputs": [
    {
     "data": {
      "text/plain": [
       "bool"
      ]
     },
     "execution_count": 210,
     "metadata": {},
     "output_type": "execute_result"
    }
   ],
   "source": [
    "type(1 == 2)"
   ]
  },
  {
   "cell_type": "code",
   "execution_count": 211,
   "metadata": {
    "colab": {},
    "colab_type": "code",
    "id": "KHdniL4nAcBo",
    "outputId": "716824ec-2e59-468c-cc87-8f23720cf3f5",
    "slideshow": {
     "slide_type": "fragment"
    }
   },
   "outputs": [
    {
     "data": {
      "text/plain": [
       "True"
      ]
     },
     "execution_count": 211,
     "metadata": {},
     "output_type": "execute_result"
    }
   ],
   "source": [
    "bool([\"This \",\" is \",\" a \",\" list\"])"
   ]
  },
  {
   "cell_type": "markdown",
   "metadata": {
    "colab_type": "text",
    "id": "vrRXNXdPAcBu",
    "slideshow": {
     "slide_type": "slide"
    }
   },
   "source": [
    "### Functions\n",
    "\n",
    "A function is a block of organized, reusable code that can make your scripts more effective, easier to read, and simple to manage. You can think functions as little self-contained programs that can perform a specific task which you can use repeatedly in your code.\n",
    "\n",
    "During the course we have already used some functions such as the `print()` command which is actually a built-in function in Python.  \n",
    "\n",
    "We do this with the **def** statement in Python:"
   ]
  },
  {
   "cell_type": "markdown",
   "metadata": {
    "slideshow": {
     "slide_type": "subslide"
    }
   },
   "source": [
    "Let’s define our first function called celsiusToFahr"
   ]
  },
  {
   "cell_type": "code",
   "execution_count": 212,
   "metadata": {
    "slideshow": {
     "slide_type": "fragment"
    }
   },
   "outputs": [],
   "source": [
    "def celsiusToFahr(tempCelsius):\n",
    "    celsius_value = 9/5 * tempCelsius + 32\n",
    "    return celsius_value"
   ]
  },
  {
   "cell_type": "markdown",
   "metadata": {
    "slideshow": {
     "slide_type": "fragment"
    }
   },
   "source": [
    "The function definition opens with the keyword def followed by the name of the function and a list of parameter names in parentheses. The body of the function — the statements that are executed when it runs — is indented below the definition line."
   ]
  },
  {
   "cell_type": "markdown",
   "metadata": {
    "slideshow": {
     "slide_type": "subslide"
    }
   },
   "source": [
    "Now let’s try using our function. Calling our self-defined function is no different from calling any other function such as print(). "
   ]
  },
  {
   "cell_type": "code",
   "execution_count": 213,
   "metadata": {
    "slideshow": {
     "slide_type": "fragment"
    }
   },
   "outputs": [
    {
     "name": "stdout",
     "output_type": "stream",
     "text": [
      "The freezing point of water in Fahrenheit is: 32.0\n",
      "The boiling point of water in Fahrenheit is: 212.0\n"
     ]
    }
   ],
   "source": [
    "freezingPoint =  celsiusToFahr(0)\n",
    "\n",
    "print('The freezing point of water in Fahrenheit is:', freezingPoint)\n",
    "print('The boiling point of water in Fahrenheit is:', celsiusToFahr(100))"
   ]
  },
  {
   "cell_type": "markdown",
   "metadata": {
    "slideshow": {
     "slide_type": "subslide"
    }
   },
   "source": [
    "Now that we know how to create a function to convert Celsius to Fahrenheit, let’s create another function called `kelvinsToCelsius`"
   ]
  },
  {
   "cell_type": "code",
   "execution_count": 214,
   "metadata": {
    "slideshow": {
     "slide_type": "fragment"
    }
   },
   "outputs": [],
   "source": [
    "def kelvinsToCelsius(tempKelvins):\n",
    "    return tempKelvins - 273.15"
   ]
  },
  {
   "cell_type": "markdown",
   "metadata": {
    "slideshow": {
     "slide_type": "fragment"
    }
   },
   "source": [
    "And let’s use it in the same way as the earlier one"
   ]
  },
  {
   "cell_type": "code",
   "execution_count": 215,
   "metadata": {
    "slideshow": {
     "slide_type": "fragment"
    }
   },
   "outputs": [
    {
     "name": "stdout",
     "output_type": "stream",
     "text": [
      "Absolute zero in Celsius is: -273.15\n"
     ]
    }
   ],
   "source": [
    "absoluteZero = kelvinsToCelsius(tempKelvins=0)\n",
    "\n",
    "print('Absolute zero in Celsius is:', absoluteZero)"
   ]
  },
  {
   "cell_type": "markdown",
   "metadata": {
    "slideshow": {
     "slide_type": "subslide"
    }
   },
   "source": [
    "What about converting Kelvins to Fahrenheit? We could write out a new formula for it, but we don’t need to. Instead, we can do the conversion using the two functions we have already created and calling those from the function we are now creating"
   ]
  },
  {
   "cell_type": "code",
   "execution_count": 216,
   "metadata": {
    "slideshow": {
     "slide_type": "fragment"
    }
   },
   "outputs": [],
   "source": [
    "def kelvinsToFahrenheit(tempKelvins):\n",
    "    '''This function converts kelvin to fahrenheit'''\n",
    "    tempCelsius = kelvinsToCelsius(tempKelvins)\n",
    "    tempFahr = celsiusToFahr(tempCelsius)\n",
    "    return tempFahr"
   ]
  },
  {
   "cell_type": "code",
   "execution_count": 217,
   "metadata": {},
   "outputs": [
    {
     "name": "stdout",
     "output_type": "stream",
     "text": [
      "Help on function kelvinsToFahrenheit in module __main__:\n",
      "\n",
      "kelvinsToFahrenheit(tempKelvins)\n",
      "    This function converts kelvin to fahrenheit\n",
      "\n"
     ]
    }
   ],
   "source": [
    "help(kelvinsToFahrenheit)"
   ]
  },
  {
   "cell_type": "markdown",
   "metadata": {
    "slideshow": {
     "slide_type": "subslide"
    }
   },
   "source": [
    "Now let’s use the function"
   ]
  },
  {
   "cell_type": "code",
   "execution_count": 218,
   "metadata": {
    "slideshow": {
     "slide_type": "fragment"
    }
   },
   "outputs": [
    {
     "name": "stdout",
     "output_type": "stream",
     "text": [
      "Absolute zero in Fahrenheit is: -459.66999999999996\n"
     ]
    }
   ],
   "source": [
    "absoluteZeroF = kelvinsToFahrenheit(tempKelvins=0)\n",
    "\n",
    "print('Absolute zero in Fahrenheit is:', absoluteZeroF)"
   ]
  },
  {
   "cell_type": "markdown",
   "metadata": {
    "colab_type": "text",
    "id": "rQ7m4bCqAcB9",
    "slideshow": {
     "slide_type": "subslide"
    }
   },
   "source": [
    "We've introduced a several new features here. First, note that the function itself is defined as a code block (a colon followed by an indented block). This is the standard way that Python delimits things. Next, note that the first line of the function is a single string. This is called a **docstring**, and is a special kind of comment that is often available to people using the function through the python command line:"
   ]
  },
  {
   "cell_type": "code",
   "execution_count": 219,
   "metadata": {
    "colab": {},
    "colab_type": "code",
    "id": "X0wG5V-oAcB-",
    "outputId": "0ccca1a4-91ba-43fd-8747-6b3c637b2d53",
    "slideshow": {
     "slide_type": "subslide"
    }
   },
   "outputs": [
    {
     "name": "stdout",
     "output_type": "stream",
     "text": [
      "Help on function kelvinsToFahrenheit in module __main__:\n",
      "\n",
      "kelvinsToFahrenheit(tempKelvins)\n",
      "    This function converts kelvin to fahrenheit\n",
      "\n"
     ]
    }
   ],
   "source": [
    "help(kelvinsToFahrenheit)"
   ]
  },
  {
   "cell_type": "markdown",
   "metadata": {
    "colab_type": "text",
    "id": "wMn-M9qCAcCA",
    "slideshow": {
     "slide_type": "fragment"
    }
   },
   "source": [
    "If you define a docstring for all of your functions, it makes it easier for other people to use them, since they can get help on the arguments and return values of the function.\n",
    "\n",
    "Next, note that rather than putting a comment in about what input values lead to errors, we have some testing of these values, followed by a warning if the value is invalid, and some conditional code to handle special cases."
   ]
  },
  {
   "cell_type": "markdown",
   "metadata": {
    "colab_type": "text",
    "id": "0g9ascYfAcCS",
    "slideshow": {
     "slide_type": "slide"
    }
   },
   "source": [
    "## Two More Data Structures: Tuples and Dictionaries\n",
    "Before we end the Python overview, I wanted to touch on two more data structures that are very useful (and thus very common) in Python programs.\n",
    "\n",
    "A **tuple** is a sequence object like a list or a string. It's constructed by grouping a sequence of objects together with commas, either without brackets, or with parentheses:"
   ]
  },
  {
   "cell_type": "code",
   "execution_count": 220,
   "metadata": {
    "colab": {},
    "colab_type": "code",
    "id": "Ddk6ka5sAcCT",
    "outputId": "fd02d762-d67b-4d27-8e82-2e2267fdffef",
    "slideshow": {
     "slide_type": "subslide"
    }
   },
   "outputs": [
    {
     "data": {
      "text/plain": [
       "(1, 2, 'hi', 9.0)"
      ]
     },
     "execution_count": 220,
     "metadata": {},
     "output_type": "execute_result"
    }
   ],
   "source": [
    "t = (1,2,'hi',9.0)\n",
    "t"
   ]
  },
  {
   "cell_type": "markdown",
   "metadata": {
    "colab_type": "text",
    "id": "NXeycDcyAcCY",
    "slideshow": {
     "slide_type": "subslide"
    }
   },
   "source": [
    "Tuples are like lists, in that you can access the elements using indices:"
   ]
  },
  {
   "cell_type": "code",
   "execution_count": 221,
   "metadata": {
    "colab": {},
    "colab_type": "code",
    "id": "NcXdHdkfAcCY",
    "outputId": "457e6bb3-bcbf-462d-cc10-807e819cf5f0",
    "slideshow": {
     "slide_type": "fragment"
    }
   },
   "outputs": [
    {
     "data": {
      "text/plain": [
       "2"
      ]
     },
     "execution_count": 221,
     "metadata": {},
     "output_type": "execute_result"
    }
   ],
   "source": [
    "t[1]"
   ]
  },
  {
   "cell_type": "markdown",
   "metadata": {
    "colab_type": "text",
    "id": "sEZaX0AEAcCe",
    "slideshow": {
     "slide_type": "subslide"
    }
   },
   "source": [
    "However, tuples are *immutable*, you can't append to them or change the elements of them:"
   ]
  },
  {
   "cell_type": "code",
   "execution_count": 222,
   "metadata": {
    "colab": {},
    "colab_type": "code",
    "id": "ee68ksbzAcCf",
    "outputId": "5b195b5d-ad89-409a-d37c-0352f0450b06",
    "scrolled": true,
    "slideshow": {
     "slide_type": "fragment"
    }
   },
   "outputs": [],
   "source": [
    "#t.append(7)"
   ]
  },
  {
   "cell_type": "code",
   "execution_count": 223,
   "metadata": {
    "colab": {},
    "colab_type": "code",
    "id": "SJ4bIWsTAcCh",
    "outputId": "387e8741-e929-4f26-8ff5-245a1219d1c0",
    "slideshow": {
     "slide_type": "fragment"
    }
   },
   "outputs": [
    {
     "data": {
      "text/plain": [
       "['Sunday', 'Monday', 'Tuesday', 'Wednesday', 'Thursday', 'Friday', 'Saturday']"
      ]
     },
     "execution_count": 223,
     "metadata": {},
     "output_type": "execute_result"
    }
   ],
   "source": [
    "days_of_the_week"
   ]
  },
  {
   "cell_type": "code",
   "execution_count": 224,
   "metadata": {
    "colab": {},
    "colab_type": "code",
    "id": "SJ4bIWsTAcCh",
    "outputId": "387e8741-e929-4f26-8ff5-245a1219d1c0",
    "slideshow": {
     "slide_type": "fragment"
    }
   },
   "outputs": [],
   "source": [
    "days_of_the_week[1]=77"
   ]
  },
  {
   "cell_type": "markdown",
   "metadata": {
    "colab_type": "text",
    "id": "9mF8q1c8AcCi",
    "slideshow": {
     "slide_type": "subslide"
    }
   },
   "source": [
    "Tuples are useful anytime you want to group different pieces of data together in an object, but don't want to create a full-fledged class (see below) for them. For example, let's say you want the Cartesian coordinates of some objects in your program. Tuples are a good way to do this:"
   ]
  },
  {
   "cell_type": "code",
   "execution_count": 225,
   "metadata": {
    "colab": {},
    "colab_type": "code",
    "id": "vrqBHX62AcCi",
    "outputId": "65db803e-8110-4de7-dda8-c3c387480559",
    "slideshow": {
     "slide_type": "fragment"
    }
   },
   "outputs": [
    {
     "data": {
      "text/plain": [
       "('Bob', 0.0, 21.0)"
      ]
     },
     "execution_count": 225,
     "metadata": {},
     "output_type": "execute_result"
    }
   ],
   "source": [
    "('Bob',0.0,21.0)"
   ]
  },
  {
   "cell_type": "markdown",
   "metadata": {
    "colab_type": "text",
    "id": "Syo0ZCPkAcCn",
    "slideshow": {
     "slide_type": "subslide"
    }
   },
   "source": [
    "Again, it's not a necessary distinction, but one way to distinguish tuples and lists is that tuples are a collection of different things, here a name, and x and y coordinates, whereas a list is a collection of similar things, like if we wanted a list of those coordinates:"
   ]
  },
  {
   "cell_type": "code",
   "execution_count": 226,
   "metadata": {
    "colab": {},
    "colab_type": "code",
    "id": "AHYId74sAcCn",
    "slideshow": {
     "slide_type": "fragment"
    }
   },
   "outputs": [],
   "source": [
    "positions = [\n",
    "             ('Bob',0.0,21.0),\n",
    "             ('Cat',2.5,13.1),\n",
    "             ('Dog',33.0,1.2)\n",
    "             ]"
   ]
  },
  {
   "cell_type": "code",
   "execution_count": 227,
   "metadata": {},
   "outputs": [
    {
     "data": {
      "text/plain": [
       "[('Bob', 0.0, 21.0), ('Cat', 2.5, 13.1), ('Dog', 33.0, 1.2)]"
      ]
     },
     "execution_count": 227,
     "metadata": {},
     "output_type": "execute_result"
    }
   ],
   "source": [
    "positions"
   ]
  },
  {
   "cell_type": "code",
   "execution_count": 228,
   "metadata": {},
   "outputs": [],
   "source": [
    "x = 4\n",
    "y = 5"
   ]
  },
  {
   "cell_type": "code",
   "execution_count": 229,
   "metadata": {},
   "outputs": [],
   "source": [
    "x, y = 4, 5"
   ]
  },
  {
   "cell_type": "code",
   "execution_count": 230,
   "metadata": {},
   "outputs": [
    {
     "data": {
      "text/plain": [
       "9"
      ]
     },
     "execution_count": 230,
     "metadata": {},
     "output_type": "execute_result"
    }
   ],
   "source": [
    "x+y"
   ]
  },
  {
   "cell_type": "markdown",
   "metadata": {
    "colab_type": "text",
    "id": "PR_TarXpAcCr",
    "slideshow": {
     "slide_type": "subslide"
    }
   },
   "source": [
    "Here we did two things with tuples you haven't seen before. First, we unpacked an object into a set of named variables using *tuple assignment*:\n",
    "\n",
    "    >>> name,x,y = obj\n",
    "\n",
    "We also returned multiple values (minx,miny), which were then assigned to two other variables (x,y), again by tuple assignment. This makes what would have been complicated code in C++ rather simple.\n",
    "\n",
    "Tuple assignment is also a convenient way to swap variables:"
   ]
  },
  {
   "cell_type": "code",
   "execution_count": 231,
   "metadata": {
    "colab": {},
    "colab_type": "code",
    "id": "MeLUHo-2AcCt",
    "outputId": "2d10f36a-0736-4ee5-fdc3-2eb512ddb734",
    "slideshow": {
     "slide_type": "fragment"
    }
   },
   "outputs": [
    {
     "data": {
      "text/plain": [
       "(2, 1)"
      ]
     },
     "execution_count": 231,
     "metadata": {},
     "output_type": "execute_result"
    }
   ],
   "source": [
    "x,y = 1,2\n",
    "y,x = x,y\n",
    "x,y"
   ]
  },
  {
   "cell_type": "markdown",
   "metadata": {
    "colab_type": "text",
    "id": "VzbKShwbAcCx",
    "slideshow": {
     "slide_type": "slide"
    }
   },
   "source": [
    "**Dictionaries** \n",
    "\n",
    "are an object called \"mappings\" or \"associative arrays\" in other languages. Whereas a list associates an integer index with a set of objects:"
   ]
  },
  {
   "cell_type": "code",
   "execution_count": 232,
   "metadata": {
    "colab": {},
    "colab_type": "code",
    "id": "16-FgMbsAcCy",
    "slideshow": {
     "slide_type": "fragment"
    }
   },
   "outputs": [],
   "source": [
    "mylist = [1,2,9,21]"
   ]
  },
  {
   "cell_type": "markdown",
   "metadata": {
    "colab_type": "text",
    "id": "Nl0cPMevAcCz",
    "slideshow": {
     "slide_type": "subslide"
    }
   },
   "source": [
    "The index in a dictionary is called the *key*, and the corresponding dictionary entry is the *value*. A dictionary can use (almost) anything as the key. Whereas lists are formed with square brackets [], dictionaries use curly brackets {}:"
   ]
  },
  {
   "cell_type": "code",
   "execution_count": 235,
   "metadata": {
    "colab": {},
    "colab_type": "code",
    "id": "D3q9MYmkAcCz",
    "outputId": "10945461-57cc-4bf9-f4d6-9f7a02dc98fa",
    "slideshow": {
     "slide_type": "fragment"
    }
   },
   "outputs": [
    {
     "name": "stdout",
     "output_type": "stream",
     "text": [
      "Rick's age is  46\n"
     ]
    }
   ],
   "source": [
    "ages = {\"Rick\": 46, \n",
    "        \"Bob\": 86,\n",
    "        \"Fred\": 21}\n",
    "\n",
    "print (\"Rick's age is \",ages[\"Rick\"])"
   ]
  },
  {
   "cell_type": "markdown",
   "metadata": {
    "colab_type": "text",
    "id": "VIGxQSpLAcC1",
    "slideshow": {
     "slide_type": "subslide"
    }
   },
   "source": [
    "There's also a convenient way to create dictionaries without having to quote the keys."
   ]
  },
  {
   "cell_type": "code",
   "execution_count": 236,
   "metadata": {
    "colab": {},
    "colab_type": "code",
    "id": "03lh7s18AcC2",
    "outputId": "975c1cb3-ff36-4e47-e70b-ec6046ae6479",
    "slideshow": {
     "slide_type": "fragment"
    }
   },
   "outputs": [
    {
     "data": {
      "text/plain": [
       "{'Rick': 46, 'Bob': 86, 'Fred': 20}"
      ]
     },
     "execution_count": 236,
     "metadata": {},
     "output_type": "execute_result"
    }
   ],
   "source": [
    "dict(Rick=46,Bob=86,Fred=20)"
   ]
  },
  {
   "cell_type": "markdown",
   "metadata": {
    "colab_type": "text",
    "id": "hezMu1hJAcC2",
    "slideshow": {
     "slide_type": "subslide"
    }
   },
   "source": [
    "The **len()** command works on both tuples and dictionaries:"
   ]
  },
  {
   "cell_type": "code",
   "execution_count": 237,
   "metadata": {
    "colab": {},
    "colab_type": "code",
    "id": "VPLJ3x98AcC4",
    "outputId": "97961898-eec1-47cf-e793-9b326af68cb2",
    "slideshow": {
     "slide_type": "fragment"
    }
   },
   "outputs": [
    {
     "data": {
      "text/plain": [
       "4"
      ]
     },
     "execution_count": 237,
     "metadata": {},
     "output_type": "execute_result"
    }
   ],
   "source": [
    "len(t)"
   ]
  },
  {
   "cell_type": "code",
   "execution_count": 238,
   "metadata": {
    "colab": {},
    "colab_type": "code",
    "id": "bt-DJG2IAcC7",
    "outputId": "fe4a9bce-e194-4b86-d0a4-8bef4db110c4",
    "slideshow": {
     "slide_type": "fragment"
    }
   },
   "outputs": [
    {
     "data": {
      "text/plain": [
       "dict_items([('Rick', 46), ('Bob', 86), ('Fred', 21)])"
      ]
     },
     "execution_count": 238,
     "metadata": {},
     "output_type": "execute_result"
    }
   ],
   "source": [
    "ages.items()"
   ]
  },
  {
   "cell_type": "markdown",
   "metadata": {},
   "source": [
    "---\n",
    "## Numpy"
   ]
  },
  {
   "cell_type": "markdown",
   "metadata": {
    "colab_type": "text",
    "id": "yhe8iv24uTx-",
    "slideshow": {
     "slide_type": "slide"
    }
   },
   "source": [
    "Numpy is a library for the Python programming language, adding support for large, multi-dimensional arrays and matrices, along with a large collection of high-level mathematical functions to operate on these arrays."
   ]
  },
  {
   "cell_type": "markdown",
   "metadata": {
    "slideshow": {
     "slide_type": "fragment"
    }
   },
   "source": [
    "Load Numpy"
   ]
  },
  {
   "cell_type": "code",
   "execution_count": 239,
   "metadata": {
    "slideshow": {
     "slide_type": "fragment"
    }
   },
   "outputs": [],
   "source": [
    "import numpy as np"
   ]
  },
  {
   "cell_type": "markdown",
   "metadata": {
    "colab_type": "text",
    "id": "_4GTV10QvR9M",
    "slideshow": {
     "slide_type": "subslide"
    }
   },
   "source": [
    "**Creating a Vector**  \n",
    "\n",
    "Here we use Numpy to create a 1-D Array which we then call a vector."
   ]
  },
  {
   "cell_type": "code",
   "execution_count": 241,
   "metadata": {
    "colab": {},
    "colab_type": "code",
    "id": "NcNPRNJHvGmo",
    "slideshow": {
     "slide_type": "fragment"
    }
   },
   "outputs": [
    {
     "data": {
      "text/plain": [
       "array([1, 2, 3])"
      ]
     },
     "execution_count": 241,
     "metadata": {},
     "output_type": "execute_result"
    }
   ],
   "source": [
    "vector = np.array([1,2,3])\n",
    "vector"
   ]
  },
  {
   "cell_type": "code",
   "execution_count": 242,
   "metadata": {},
   "outputs": [
    {
     "data": {
      "text/plain": [
       "numpy.ndarray"
      ]
     },
     "execution_count": 242,
     "metadata": {},
     "output_type": "execute_result"
    }
   ],
   "source": [
    "type(vector)"
   ]
  },
  {
   "cell_type": "markdown",
   "metadata": {
    "colab_type": "text",
    "id": "T_ZT5HoMv4ik",
    "slideshow": {
     "slide_type": "subslide"
    }
   },
   "source": [
    "**Creating a Matrix**\n",
    "\n",
    "We Create a 2-D Array in Numpy and call it a Matrix. It contains 2 rows and 3 columns."
   ]
  },
  {
   "cell_type": "code",
   "execution_count": 262,
   "metadata": {
    "colab": {
     "base_uri": "https://localhost:8080/",
     "height": 51
    },
    "colab_type": "code",
    "id": "Tu6-FoBevcLC",
    "outputId": "6a77968b-ab91-4d60-c98f-6dbdb29aa273",
    "slideshow": {
     "slide_type": "fragment"
    }
   },
   "outputs": [
    {
     "name": "stdout",
     "output_type": "stream",
     "text": [
      "[[1 2 3]\n",
      " [4 5 6]]\n"
     ]
    }
   ],
   "source": [
    "matrix = np.array([[1,2,3],[4,5,6]])\n",
    "print(matrix)"
   ]
  },
  {
   "cell_type": "markdown",
   "metadata": {
    "colab_type": "text",
    "id": "JyjWMDcQv9nE",
    "slideshow": {
     "slide_type": "subslide"
    }
   },
   "source": [
    "**Selecting Elements**\n",
    "\n",
    "When you need to select one or more element in a vector or matrix"
   ]
  },
  {
   "cell_type": "markdown",
   "metadata": {
    "slideshow": {
     "slide_type": "fragment"
    }
   },
   "source": [
    "Select 3rd element of Vector"
   ]
  },
  {
   "cell_type": "code",
   "execution_count": 281,
   "metadata": {
    "slideshow": {
     "slide_type": "fragment"
    }
   },
   "outputs": [
    {
     "name": "stdout",
     "output_type": "stream",
     "text": [
      "3\n"
     ]
    }
   ],
   "source": [
    "print(vector[2])"
   ]
  },
  {
   "cell_type": "markdown",
   "metadata": {
    "slideshow": {
     "slide_type": "fragment"
    }
   },
   "source": [
    "Select 2nd row 2nd column"
   ]
  },
  {
   "cell_type": "code",
   "execution_count": 282,
   "metadata": {
    "slideshow": {
     "slide_type": "fragment"
    }
   },
   "outputs": [
    {
     "name": "stdout",
     "output_type": "stream",
     "text": [
      "5\n"
     ]
    }
   ],
   "source": [
    "print(matrix[1,1])"
   ]
  },
  {
   "cell_type": "markdown",
   "metadata": {
    "slideshow": {
     "slide_type": "subslide"
    }
   },
   "source": [
    "Select all elements of a vector"
   ]
  },
  {
   "cell_type": "code",
   "execution_count": 283,
   "metadata": {
    "scrolled": true,
    "slideshow": {
     "slide_type": "fragment"
    }
   },
   "outputs": [
    {
     "name": "stdout",
     "output_type": "stream",
     "text": [
      "[1 2 3]\n"
     ]
    }
   ],
   "source": [
    "print(vector[:])"
   ]
  },
  {
   "cell_type": "markdown",
   "metadata": {
    "slideshow": {
     "slide_type": "fragment"
    }
   },
   "source": [
    "Select everything up to and including the 3rd element"
   ]
  },
  {
   "cell_type": "code",
   "execution_count": 266,
   "metadata": {
    "slideshow": {
     "slide_type": "fragment"
    }
   },
   "outputs": [
    {
     "name": "stdout",
     "output_type": "stream",
     "text": [
      "[1 2]\n"
     ]
    }
   ],
   "source": [
    "print(vector[:2])"
   ]
  },
  {
   "cell_type": "markdown",
   "metadata": {
    "slideshow": {
     "slide_type": "fragment"
    }
   },
   "source": [
    "Select all rows and the 2nd column of the matrix"
   ]
  },
  {
   "cell_type": "code",
   "execution_count": 267,
   "metadata": {
    "slideshow": {
     "slide_type": "fragment"
    }
   },
   "outputs": [
    {
     "name": "stdout",
     "output_type": "stream",
     "text": [
      "[[2]\n",
      " [5]]\n"
     ]
    }
   ],
   "source": [
    "print(matrix[:,1:2])"
   ]
  },
  {
   "cell_type": "markdown",
   "metadata": {
    "slideshow": {
     "slide_type": "subslide"
    }
   },
   "source": [
    "**Describing a Matrix**\n",
    "\n",
    "When you want to know about the shape size and dimensions of a Matrix."
   ]
  },
  {
   "cell_type": "code",
   "execution_count": 268,
   "metadata": {
    "slideshow": {
     "slide_type": "fragment"
    }
   },
   "outputs": [],
   "source": [
    "matrix = np.array([[1,3,3],\n",
    "                   [4,5,6],\n",
    "                   [7,8,9]\n",
    "])"
   ]
  },
  {
   "cell_type": "code",
   "execution_count": 269,
   "metadata": {
    "slideshow": {
     "slide_type": "fragment"
    }
   },
   "outputs": [
    {
     "name": "stdout",
     "output_type": "stream",
     "text": [
      "(3, 3)\n",
      "9\n",
      "2\n"
     ]
    }
   ],
   "source": [
    "print(matrix.shape)\n",
    "print(matrix.size)\n",
    "print(matrix.ndim)"
   ]
  },
  {
   "cell_type": "markdown",
   "metadata": {
    "slideshow": {
     "slide_type": "fragment"
    }
   },
   "source": [
    "What these values correspond to?"
   ]
  },
  {
   "cell_type": "markdown",
   "metadata": {
    "slideshow": {
     "slide_type": "subslide"
    }
   },
   "source": [
    "**Applying operations to elements** \n",
    "\n",
    "You want to apply some function to multiple elements in an array.\n",
    "Numpy’s vectorize class converts a function into a function that can apply to multiple elements in an array or slice of an array."
   ]
  },
  {
   "cell_type": "markdown",
   "metadata": {
    "slideshow": {
     "slide_type": "fragment"
    }
   },
   "source": [
    "Create a function that adds 100 to something"
   ]
  },
  {
   "cell_type": "code",
   "execution_count": 270,
   "metadata": {
    "slideshow": {
     "slide_type": "fragment"
    }
   },
   "outputs": [],
   "source": [
    "add_100 = lambda x: x+100"
   ]
  },
  {
   "cell_type": "code",
   "execution_count": 271,
   "metadata": {},
   "outputs": [],
   "source": [
    "def my(i):\n",
    "    value = i+100\n",
    "    return value    "
   ]
  },
  {
   "cell_type": "markdown",
   "metadata": {
    "slideshow": {
     "slide_type": "fragment"
    }
   },
   "source": [
    "Apply function to all elements in matrix"
   ]
  },
  {
   "cell_type": "code",
   "execution_count": 272,
   "metadata": {
    "scrolled": true,
    "slideshow": {
     "slide_type": "fragment"
    }
   },
   "outputs": [
    {
     "data": {
      "text/plain": [
       "array([[101, 103, 103],\n",
       "       [104, 105, 106],\n",
       "       [107, 108, 109]])"
      ]
     },
     "execution_count": 272,
     "metadata": {},
     "output_type": "execute_result"
    }
   ],
   "source": [
    "add_100(matrix)"
   ]
  },
  {
   "cell_type": "markdown",
   "metadata": {
    "slideshow": {
     "slide_type": "subslide"
    }
   },
   "source": [
    "**Finding the max and min values**\n",
    "\n",
    "We use Numpy’s max and min functions:"
   ]
  },
  {
   "cell_type": "code",
   "execution_count": 273,
   "metadata": {
    "slideshow": {
     "slide_type": "fragment"
    }
   },
   "outputs": [
    {
     "name": "stdout",
     "output_type": "stream",
     "text": [
      "9\n",
      "1\n",
      "[7 8 9]\n",
      "[3 6 9]\n"
     ]
    }
   ],
   "source": [
    "print(np.max(matrix))\n",
    "print(np.min(matrix))\n",
    "print(np.max(matrix,axis=0))\n",
    "print(np.max(matrix,axis=1))"
   ]
  },
  {
   "cell_type": "markdown",
   "metadata": {
    "colab_type": "text",
    "id": "PY0vVVmVvBsB",
    "slideshow": {
     "slide_type": "fragment"
    }
   },
   "source": [
    "What these values correspond to?"
   ]
  },
  {
   "cell_type": "markdown",
   "metadata": {
    "slideshow": {
     "slide_type": "subslide"
    }
   },
   "source": [
    "**Reshaping Arrays**\n",
    "\n",
    "When you want to reshape an array(changing the number of rows and columns) without changing the elements."
   ]
  },
  {
   "cell_type": "code",
   "execution_count": 274,
   "metadata": {
    "slideshow": {
     "slide_type": "fragment"
    }
   },
   "outputs": [
    {
     "name": "stdout",
     "output_type": "stream",
     "text": [
      "[[1]\n",
      " [3]\n",
      " [3]\n",
      " [4]\n",
      " [5]\n",
      " [6]\n",
      " [7]\n",
      " [8]\n",
      " [9]]\n"
     ]
    }
   ],
   "source": [
    "print(matrix.reshape(9,1))"
   ]
  },
  {
   "cell_type": "code",
   "execution_count": 275,
   "metadata": {
    "slideshow": {
     "slide_type": "fragment"
    }
   },
   "outputs": [
    {
     "name": "stdout",
     "output_type": "stream",
     "text": [
      "[1 3 3 4 5 6 7 8 9]\n"
     ]
    }
   ],
   "source": [
    "print(matrix.flatten())"
   ]
  },
  {
   "cell_type": "markdown",
   "metadata": {
    "slideshow": {
     "slide_type": "subslide"
    }
   },
   "source": [
    "**Operations with Matrices**\n",
    "\n",
    "Adding, Subtracting and Multiplying"
   ]
  },
  {
   "cell_type": "code",
   "execution_count": 276,
   "metadata": {
    "slideshow": {
     "slide_type": "fragment"
    }
   },
   "outputs": [],
   "source": [
    "matrix_2 = np.array([[7,8,9],[4,5,6],[1,2,3]])"
   ]
  },
  {
   "cell_type": "markdown",
   "metadata": {
    "slideshow": {
     "slide_type": "fragment"
    }
   },
   "source": [
    "Add and substract 2 Matrices"
   ]
  },
  {
   "cell_type": "code",
   "execution_count": 277,
   "metadata": {
    "slideshow": {
     "slide_type": "fragment"
    }
   },
   "outputs": [
    {
     "name": "stdout",
     "output_type": "stream",
     "text": [
      "[[ 8 11 12]\n",
      " [ 8 10 12]\n",
      " [ 8 10 12]]\n"
     ]
    }
   ],
   "source": [
    "print(np.add(matrix,matrix_2))"
   ]
  },
  {
   "cell_type": "code",
   "execution_count": 278,
   "metadata": {
    "slideshow": {
     "slide_type": "fragment"
    }
   },
   "outputs": [
    {
     "name": "stdout",
     "output_type": "stream",
     "text": [
      "[[-6 -5 -6]\n",
      " [ 0  0  0]\n",
      " [ 6  6  6]]\n"
     ]
    }
   ],
   "source": [
    "print(np.subtract(matrix,matrix_2))"
   ]
  },
  {
   "cell_type": "markdown",
   "metadata": {
    "slideshow": {
     "slide_type": "subslide"
    }
   },
   "source": [
    "**Multiplication Element wise, and Dot Product**"
   ]
  },
  {
   "cell_type": "code",
   "execution_count": 279,
   "metadata": {
    "scrolled": true,
    "slideshow": {
     "slide_type": "fragment"
    }
   },
   "outputs": [
    {
     "name": "stdout",
     "output_type": "stream",
     "text": [
      "[[ 7 24 27]\n",
      " [16 25 36]\n",
      " [ 7 16 27]]\n",
      "[[ 22  29  36]\n",
      " [ 54  69  84]\n",
      " [ 90 114 138]]\n"
     ]
    }
   ],
   "source": [
    "print(matrix*matrix_2)\n",
    "print(matrix@matrix_2)"
   ]
  },
  {
   "cell_type": "code",
   "execution_count": 280,
   "metadata": {
    "slideshow": {
     "slide_type": "fragment"
    }
   },
   "outputs": [
    {
     "name": "stdout",
     "output_type": "stream",
     "text": [
      "[[ 7 24 27]\n",
      " [16 25 36]\n",
      " [ 7 16 27]]\n"
     ]
    }
   ],
   "source": [
    "print(matrix*matrix_2)"
   ]
  },
  {
   "cell_type": "markdown",
   "metadata": {
    "slideshow": {
     "slide_type": "subslide"
    }
   },
   "source": [
    "---\n",
    "#### *Learn more about Python fundamentals at [dataquest.io](https://www.dataquest.io/blog/web-scraping-beautifulsoup/ ) you can check some differences and similarities between syntaxes at [NumPy for Matlab users¶](https://numpy.org/doc/1.18/user/numpy-for-matlab-users.html), the document is also [here](https://mas-dse.github.io/DSE200/cheat_sheets/1_python/6_2_NumPy_for_MATLAB_users.pdf)*. Some extra Python blogs on [towardsdatascience.com](https://towardsdatascience.com/a-beginners-guide-to-python-for-data-science-60ef022b7b67)"
   ]
  },
  {
   "cell_type": "code",
   "execution_count": 9,
   "metadata": {
    "colab": {
     "base_uri": "https://localhost:8080/",
     "height": 265
    },
    "collapsed": false,
    "executionInfo": {
     "elapsed": 585,
     "status": "ok",
     "timestamp": 1604660079603,
     "user": {
      "displayName": "Pedro V",
      "photoUrl": "https://lh3.googleusercontent.com/a-/AOh14GhjdyPnqh21rv7X12S9gKwNHhVt_ZESMS-VQPWwM6I=s64",
      "userId": "03029732001753604159"
     },
     "user_tz": -60
    },
    "id": "64d7FxYwHIG2",
    "jupyter": {
     "outputs_hidden": false
    },
    "outputId": "1f391a2b-ac55-49d9-c6cb-95d924354533"
   },
   "outputs": [
    {
     "data": {
      "image/png": "[encoded data removed]",
      "text/plain": [
       "<Figure size 432x288 with 1 Axes>"
      ]
     },
     "metadata": {
      "needs_background": "light",
      "tags": []
     },
     "output_type": "display_data"
    }
   ],
   "source": [
    "#If no frequency value is specified, use the default setting: f=1\n",
    "import matplotlib.pyplot as plt\n",
    "%matplotlib inline\n",
    "\n",
    "def sinplot(f=1):\n",
    "    #Define a range of x values\n",
    "    x = np.linspace(0, 2*np.pi, 1000)  \n",
    "\n",
    "    #Plot a sine wave with the specified frequency over that range\n",
    "    y = np.sin(f*x)\n",
    "\n",
    "    #Plot the chart\n",
    "    plt.plot(x, y)\n",
    "    \n",
    "sinplot(f=3)"
   ]
  },
  {
   "cell_type": "markdown",
   "metadata": {
    "id": "bD8_SO8mgH7a"
   },
   "source": [
    "\n",
    "## Congratulations! \n",
    "\n",
    "![](https://s3-eu-west-1.amazonaws.com/rpf-futurelearn/programming-101-educators/Illustrations+and+animations/1.7-Congratulations.gif)\n"
   ]
  },
  {
   "cell_type": "code",
   "execution_count": null,
   "metadata": {},
   "outputs": [],
   "source": []
  }
 ],
 "metadata": {
  "celltoolbar": "Slideshow",
  "colab": {
   "collapsed_sections": [],
   "name": "Copy of GLO1101-Introduction to Jupyter notebooks and python with Google Colab.ipynb",
   "provenance": [
    {
     "file_id": "170aNLbKZ0ACZIKo9UhhVIqZoCucAY7_F",
     "timestamp": 1604659892422
    },
    {
     "file_id": "17gg9l17kg-GExB3VtDCMnckyw4M-GX8h",
     "timestamp": 1598946379472
    },
    {
     "file_id": "https://github.com/MaastrichtU-IDS/jupyter-workshop/blob/master/Jupyter-notebooks-workshop.ipynb",
     "timestamp": 1593770809570
    }
   ]
  },
  "kernelspec": {
   "display_name": "Python 3 (ipykernel)",
   "language": "python",
   "name": "python3"
  },
  "language_info": {
   "codemirror_mode": {
    "name": "ipython",
    "version": 3
   },
   "file_extension": ".py",
   "mimetype": "text/x-python",
   "name": "python",
   "nbconvert_exporter": "python",
   "pygments_lexer": "ipython3",
   "version": "3.9.12"
  }
 },
 "nbformat": 4,
 "nbformat_minor": 4
}
