{
 "cells": [
  {
   "cell_type": "markdown",
   "id": "77cfa33b-805e-46a6-afe5-ee1cd3d2a9f0",
   "metadata": {
    "jp-MarkdownHeadingCollapsed": true,
    "tags": []
   },
   "source": [
    "#### Data Science Technologies\n",
    "\n",
    "*Notebook by [Pedro V Hernandez Serrano](https://github.com/pedrohserrano)*\n",
    "\n",
    "*License: [Attribution 4.0 International (CC BY 4.0)](https://creativecommons.org/licenses/by/4.0/)*  \n",
    "\n",
    "---"
   ]
  },
  {
   "cell_type": "markdown",
   "id": "426f4bf7-d584-4021-89f6-e3b592b96e70",
   "metadata": {},
   "source": [
    "## 1. Supervised Learning"
   ]
  },
  {
   "cell_type": "markdown",
   "id": "1781485f-fffb-49b5-8105-a9b6be9ba31f",
   "metadata": {},
   "source": [
    "Supervised learning considers all the machine learning modeling when a target variable (or golden truth) is available. The aim is to train a dataset on a set of examples fitting to the target variable.  \n",
    "+ Regression\n",
    "    - Parametric: e.g. multiple linear regression\n",
    "    - Non-parametric: e.g. K-nearest neightbor\n",
    "+ Classification\n",
    "    - Clasical: Logistic regression\n",
    "    - Assemble: Random Forest, Neural Networks    modelling"
   ]
  },
  {
   "cell_type": "markdown",
   "id": "6b2f9ae4-c819-4150-b155-bfb0a591c514",
   "metadata": {},
   "source": [
    "### 1.1. Parametric example"
   ]
  },
  {
   "cell_type": "markdown",
   "id": "329c2f4a-117c-4348-b307-95088198f759",
   "metadata": {
    "slideshow": {
     "slide_type": "slide"
    }
   },
   "source": [
    "Simple linear regression can easily be extended to include multiple features. This is called multiple linear regression:\n",
    "A straight-plane fit is a model of the form\n",
    "\n",
    "$$\n",
    "\\large y = \\large \\beta + \\large \\alpha_1 x_1 + \\large \\alpha_2 x_2 +...+ \\large \\alpha_n x_n\n",
    "$$\n",
    "\n",
    "Where:\n",
    "<br>$\\alpha_i$ is commonly known as the *slope* in multiple dimensions that makes up a plane\n",
    "<br>$\\beta$ is commonly known as the *intercept*. \n",
    "\n",
    "Extending each sample with an intercept xi := [1, xi] ∈ RP+1 allows us to use a more general notation based on linear algebra and write it as a simple dot product:\n",
    "y ( x i , β ) = x iT β "
   ]
  },
  {
   "cell_type": "markdown",
   "id": "69ee4327-9137-47c4-ab2c-24c263cc65e3",
   "metadata": {
    "slideshow": {
     "slide_type": "subslide"
    }
   },
   "source": [
    "<img src=\"../img/reg3.png\" width=\"300\">\n",
    "<img src=\"../img/reg5.png\" width=\"400\">"
   ]
  },
  {
   "cell_type": "markdown",
   "id": "b693ca3e-0701-4952-851f-6435b7cb35c7",
   "metadata": {
    "slideshow": {
     "slide_type": "subslide"
    }
   },
   "source": [
    "<img src=\"../img/reg6.png\" width=\"900\">"
   ]
  },
  {
   "cell_type": "markdown",
   "id": "0882471f-e881-4256-b97b-02a08d04deca",
   "metadata": {
    "slideshow": {
     "slide_type": "slide"
    }
   },
   "source": [
    "### 1.2. Non-Parametric example"
   ]
  },
  {
   "cell_type": "markdown",
   "id": "5d3425d9-52ff-45ef-a8bf-f4c2f114d202",
   "metadata": {
    "slideshow": {
     "slide_type": "slide"
    }
   },
   "source": [
    "- Nonparametric regression is a collection of techniques for fitting a curve when there is little a priori knowledge about its shape.\n",
    "- The simplest nonparametric regression estimators are local versions of location estimators. For a random variable (x, y), the regression curve **μ(x) = E(y|x)**\n",
    "- The model immediately adapts as we receive new training examples, but computational complexity grows linearly with the number of samples.\n",
    "\n",
    "<img src=\"../img/reg11.png\" width=\"700\">"
   ]
  },
  {
   "cell_type": "markdown",
   "id": "d4414fdb-1148-4c1a-a8e8-94a836574c01",
   "metadata": {
    "slideshow": {
     "slide_type": "slide"
    }
   },
   "source": [
    "#### K-Nearest Neighbors\n",
    "\n",
    "This method follows the intuition that you look like your neighbours. More formally, the method follows the compactness hypothesis. If the distance between the examples is measured well enough, then similar examples are likelier to belong to the same class."
   ]
  },
  {
   "cell_type": "markdown",
   "id": "d5feb1ce-293b-4a41-bae3-437a3fe0d6b2",
   "metadata": {
    "slideshow": {
     "slide_type": "subslide"
    }
   },
   "source": [
    "---\n",
    "### Code Dictionary\n",
    "\n",
    "code | description\n",
    "-----|------------\n",
    "`test_train_split(Features, Target, percentage_of_test)` | Using the Scikit learn library, Split arrays or matrices into random train and test subsets\n",
    "`.LinearRegression()` | Linear regression model\n",
    "`.fit()` | computes the results of the scikit learn model object like LinearRegression.  Effectively, it solves for $y = \\alpha x + \\beta + e$\n",
    "`.summary()` | returns the summary from the computed results from `.fit()`\n",
    "`.predict()` | Computes the result of new input data without output for a fitted model.\n",
    "`plt.plot()` | Plot a line graph of data.\n",
    "`plt.scatter()` | Plot a scatterplot of data.\n",
    "`read_csv(file)` | Using the Pandas library, create a dataframe for the dataset\n",
    "`.loc()` | Access a group of rows and columns by label(s) or a boolean array.\n",
    "`mean_squared_error` | Scikitlearn fuction to calculate the mean squared error\n",
    "`r2_score` | Scikitlearn fuction to calculate the r2 score\n",
    "`math` | Library for in mathematical operations."
   ]
  },
  {
   "cell_type": "code",
   "execution_count": 1,
   "id": "c07c5a08-c515-4138-a273-9d1315ade9c3",
   "metadata": {
    "slideshow": {
     "slide_type": "subslide"
    }
   },
   "outputs": [],
   "source": [
    "import numpy as np\n",
    "import matplotlib.pyplot as plt\n",
    "import seaborn as sns; sns.set()\n",
    "import pandas as pd\n",
    "import warnings\n",
    "warnings.filterwarnings('ignore')\n",
    "%matplotlib inline"
   ]
  },
  {
   "cell_type": "markdown",
   "id": "bdfcfad1-1a0b-422e-a812-96c9e0aa31b0",
   "metadata": {
    "slideshow": {
     "slide_type": "slide"
    }
   },
   "source": [
    "Let's take an already known dataset"
   ]
  },
  {
   "cell_type": "markdown",
   "id": "0095676a-6684-4c3a-bbed-7e36dd46884d",
   "metadata": {
    "slideshow": {
     "slide_type": "fragment"
    }
   },
   "source": [
    "The data itself is extracted from [Inside Airbnb](http://insideairbnb.com) where is possible to make a very nice visual analysis following the hypothesis: Airbnb claims to be part of the \"sharing economy\" and disrupting the hotel industry. However, data shows that the majority of Airbnb listings in most cities are entire homes, many of which are rented all year round - disrupting housing and communities."
   ]
  },
  {
   "cell_type": "code",
   "execution_count": 2,
   "id": "88a9a588-42a4-4d61-9432-da9051e5f02d",
   "metadata": {
    "slideshow": {
     "slide_type": "fragment"
    }
   },
   "outputs": [],
   "source": [
    "df = pd.read_csv('../datasets/airbnb_amsterdam.csv')"
   ]
  },
  {
   "cell_type": "code",
   "execution_count": 3,
   "id": "ada6ac7b-6d50-4e5e-9b0c-a3595b529851",
   "metadata": {
    "slideshow": {
     "slide_type": "subslide"
    }
   },
   "outputs": [
    {
     "data": {
      "text/html": [
       "<div>\n",
       "<style scoped>\n",
       "    .dataframe tbody tr th:only-of-type {\n",
       "        vertical-align: middle;\n",
       "    }\n",
       "\n",
       "    .dataframe tbody tr th {\n",
       "        vertical-align: top;\n",
       "    }\n",
       "\n",
       "    .dataframe thead th {\n",
       "        text-align: right;\n",
       "    }\n",
       "</style>\n",
       "<table border=\"1\" class=\"dataframe\">\n",
       "  <thead>\n",
       "    <tr style=\"text-align: right;\">\n",
       "      <th></th>\n",
       "      <th>Unnamed: 0</th>\n",
       "      <th>room_id</th>\n",
       "      <th>survey_id</th>\n",
       "      <th>host_id</th>\n",
       "      <th>room_type</th>\n",
       "      <th>city</th>\n",
       "      <th>neighborhood</th>\n",
       "      <th>reviews</th>\n",
       "      <th>overall_satisfaction</th>\n",
       "      <th>accommodates</th>\n",
       "      <th>bedrooms</th>\n",
       "      <th>price</th>\n",
       "      <th>name</th>\n",
       "      <th>last_modified</th>\n",
       "      <th>latitude</th>\n",
       "      <th>longitude</th>\n",
       "    </tr>\n",
       "  </thead>\n",
       "  <tbody>\n",
       "    <tr>\n",
       "      <th>0</th>\n",
       "      <td>0</td>\n",
       "      <td>10176931</td>\n",
       "      <td>1476</td>\n",
       "      <td>49180562</td>\n",
       "      <td>Shared room</td>\n",
       "      <td>Amsterdam</td>\n",
       "      <td>De Pijp / Rivierenbuurt</td>\n",
       "      <td>7</td>\n",
       "      <td>4.5</td>\n",
       "      <td>2</td>\n",
       "      <td>1</td>\n",
       "      <td>156</td>\n",
       "      <td>Red Light/ Canal view apartment (Shared)</td>\n",
       "      <td>2017-07-23 13:06:27.391699</td>\n",
       "      <td>52.356209</td>\n",
       "      <td>4.887491</td>\n",
       "    </tr>\n",
       "    <tr>\n",
       "      <th>1</th>\n",
       "      <td>1</td>\n",
       "      <td>8935871</td>\n",
       "      <td>1476</td>\n",
       "      <td>46718394</td>\n",
       "      <td>Shared room</td>\n",
       "      <td>Amsterdam</td>\n",
       "      <td>Centrum West</td>\n",
       "      <td>45</td>\n",
       "      <td>4.5</td>\n",
       "      <td>4</td>\n",
       "      <td>1</td>\n",
       "      <td>126</td>\n",
       "      <td>Sunny and Cozy Living room in quite neighbours</td>\n",
       "      <td>2017-07-23 13:06:23.607187</td>\n",
       "      <td>52.378518</td>\n",
       "      <td>4.896120</td>\n",
       "    </tr>\n",
       "    <tr>\n",
       "      <th>2</th>\n",
       "      <td>2</td>\n",
       "      <td>14011697</td>\n",
       "      <td>1476</td>\n",
       "      <td>10346595</td>\n",
       "      <td>Shared room</td>\n",
       "      <td>Amsterdam</td>\n",
       "      <td>Watergraafsmeer</td>\n",
       "      <td>1</td>\n",
       "      <td>0.0</td>\n",
       "      <td>3</td>\n",
       "      <td>1</td>\n",
       "      <td>132</td>\n",
       "      <td>Amsterdam</td>\n",
       "      <td>2017-07-23 13:06:23.603546</td>\n",
       "      <td>52.338811</td>\n",
       "      <td>4.943592</td>\n",
       "    </tr>\n",
       "    <tr>\n",
       "      <th>3</th>\n",
       "      <td>3</td>\n",
       "      <td>6137978</td>\n",
       "      <td>1476</td>\n",
       "      <td>8685430</td>\n",
       "      <td>Shared room</td>\n",
       "      <td>Amsterdam</td>\n",
       "      <td>Centrum West</td>\n",
       "      <td>7</td>\n",
       "      <td>5.0</td>\n",
       "      <td>4</td>\n",
       "      <td>1</td>\n",
       "      <td>121</td>\n",
       "      <td>Canal boat RIDE in Amsterdam</td>\n",
       "      <td>2017-07-23 13:06:22.689787</td>\n",
       "      <td>52.376319</td>\n",
       "      <td>4.890028</td>\n",
       "    </tr>\n",
       "    <tr>\n",
       "      <th>4</th>\n",
       "      <td>4</td>\n",
       "      <td>18630616</td>\n",
       "      <td>1476</td>\n",
       "      <td>70191803</td>\n",
       "      <td>Shared room</td>\n",
       "      <td>Amsterdam</td>\n",
       "      <td>De Baarsjes / Oud West</td>\n",
       "      <td>1</td>\n",
       "      <td>0.0</td>\n",
       "      <td>2</td>\n",
       "      <td>1</td>\n",
       "      <td>93</td>\n",
       "      <td>One room for rent in a three room appartment</td>\n",
       "      <td>2017-07-23 13:06:19.681469</td>\n",
       "      <td>52.370384</td>\n",
       "      <td>4.852873</td>\n",
       "    </tr>\n",
       "  </tbody>\n",
       "</table>\n",
       "</div>"
      ],
      "text/plain": [
       "   Unnamed: 0   room_id  survey_id   host_id    room_type       city  \\\n",
       "0           0  10176931       1476  49180562  Shared room  Amsterdam   \n",
       "1           1   8935871       1476  46718394  Shared room  Amsterdam   \n",
       "2           2  14011697       1476  10346595  Shared room  Amsterdam   \n",
       "3           3   6137978       1476   8685430  Shared room  Amsterdam   \n",
       "4           4  18630616       1476  70191803  Shared room  Amsterdam   \n",
       "\n",
       "              neighborhood  reviews  overall_satisfaction  accommodates  \\\n",
       "0  De Pijp / Rivierenbuurt        7                   4.5             2   \n",
       "1             Centrum West       45                   4.5             4   \n",
       "2          Watergraafsmeer        1                   0.0             3   \n",
       "3             Centrum West        7                   5.0             4   \n",
       "4   De Baarsjes / Oud West        1                   0.0             2   \n",
       "\n",
       "   bedrooms  price                                            name  \\\n",
       "0         1    156        Red Light/ Canal view apartment (Shared)   \n",
       "1         1    126  Sunny and Cozy Living room in quite neighbours   \n",
       "2         1    132                                       Amsterdam   \n",
       "3         1    121                    Canal boat RIDE in Amsterdam   \n",
       "4         1     93    One room for rent in a three room appartment   \n",
       "\n",
       "                last_modified   latitude  longitude  \n",
       "0  2017-07-23 13:06:27.391699  52.356209   4.887491  \n",
       "1  2017-07-23 13:06:23.607187  52.378518   4.896120  \n",
       "2  2017-07-23 13:06:23.603546  52.338811   4.943592  \n",
       "3  2017-07-23 13:06:22.689787  52.376319   4.890028  \n",
       "4  2017-07-23 13:06:19.681469  52.370384   4.852873  "
      ]
     },
     "execution_count": 3,
     "metadata": {},
     "output_type": "execute_result"
    }
   ],
   "source": [
    "df.head()"
   ]
  },
  {
   "cell_type": "code",
   "execution_count": 4,
   "id": "b97e8795-e21e-49b8-b130-38b94bf78fd5",
   "metadata": {
    "slideshow": {
     "slide_type": "subslide"
    }
   },
   "outputs": [
    {
     "name": "stdout",
     "output_type": "stream",
     "text": [
      "<class 'pandas.core.frame.DataFrame'>\n",
      "RangeIndex: 18694 entries, 0 to 18693\n",
      "Data columns (total 16 columns):\n",
      " #   Column                Non-Null Count  Dtype  \n",
      "---  ------                --------------  -----  \n",
      " 0   Unnamed: 0            18694 non-null  int64  \n",
      " 1   room_id               18694 non-null  int64  \n",
      " 2   survey_id             18694 non-null  int64  \n",
      " 3   host_id               18694 non-null  int64  \n",
      " 4   room_type             18694 non-null  object \n",
      " 5   city                  18694 non-null  object \n",
      " 6   neighborhood          18694 non-null  object \n",
      " 7   reviews               18694 non-null  int64  \n",
      " 8   overall_satisfaction  18694 non-null  float64\n",
      " 9   accommodates          18694 non-null  int64  \n",
      " 10  bedrooms              18694 non-null  int64  \n",
      " 11  price                 18694 non-null  int64  \n",
      " 12  name                  18642 non-null  object \n",
      " 13  last_modified         18694 non-null  object \n",
      " 14  latitude              18694 non-null  float64\n",
      " 15  longitude             18694 non-null  float64\n",
      "dtypes: float64(3), int64(8), object(5)\n",
      "memory usage: 2.3+ MB\n"
     ]
    }
   ],
   "source": [
    "df.info()"
   ]
  },
  {
   "cell_type": "code",
   "execution_count": 5,
   "id": "c1ed139e-d422-4981-9425-c648f502bc49",
   "metadata": {
    "scrolled": true,
    "slideshow": {
     "slide_type": "fragment"
    }
   },
   "outputs": [
    {
     "data": {
      "text/html": [
       "<div>\n",
       "<style scoped>\n",
       "    .dataframe tbody tr th:only-of-type {\n",
       "        vertical-align: middle;\n",
       "    }\n",
       "\n",
       "    .dataframe tbody tr th {\n",
       "        vertical-align: top;\n",
       "    }\n",
       "\n",
       "    .dataframe thead th {\n",
       "        text-align: right;\n",
       "    }\n",
       "</style>\n",
       "<table border=\"1\" class=\"dataframe\">\n",
       "  <thead>\n",
       "    <tr style=\"text-align: right;\">\n",
       "      <th></th>\n",
       "      <th>Unnamed: 0</th>\n",
       "      <th>room_id</th>\n",
       "      <th>survey_id</th>\n",
       "      <th>host_id</th>\n",
       "      <th>reviews</th>\n",
       "      <th>overall_satisfaction</th>\n",
       "      <th>accommodates</th>\n",
       "      <th>bedrooms</th>\n",
       "      <th>price</th>\n",
       "      <th>latitude</th>\n",
       "      <th>longitude</th>\n",
       "    </tr>\n",
       "  </thead>\n",
       "  <tbody>\n",
       "    <tr>\n",
       "      <th>count</th>\n",
       "      <td>18694.000000</td>\n",
       "      <td>1.869400e+04</td>\n",
       "      <td>18694.0</td>\n",
       "      <td>1.869400e+04</td>\n",
       "      <td>18694.000000</td>\n",
       "      <td>18694.000000</td>\n",
       "      <td>18694.000000</td>\n",
       "      <td>18694.000000</td>\n",
       "      <td>18694.000000</td>\n",
       "      <td>18694.000000</td>\n",
       "      <td>18694.000000</td>\n",
       "    </tr>\n",
       "    <tr>\n",
       "      <th>mean</th>\n",
       "      <td>9369.289665</td>\n",
       "      <td>1.120236e+07</td>\n",
       "      <td>1476.0</td>\n",
       "      <td>3.576327e+07</td>\n",
       "      <td>16.761153</td>\n",
       "      <td>3.303413</td>\n",
       "      <td>2.917086</td>\n",
       "      <td>1.427838</td>\n",
       "      <td>164.825719</td>\n",
       "      <td>52.365254</td>\n",
       "      <td>4.888596</td>\n",
       "    </tr>\n",
       "    <tr>\n",
       "      <th>std</th>\n",
       "      <td>5396.998613</td>\n",
       "      <td>6.083670e+06</td>\n",
       "      <td>0.0</td>\n",
       "      <td>3.758002e+07</td>\n",
       "      <td>33.543952</td>\n",
       "      <td>2.212589</td>\n",
       "      <td>1.313923</td>\n",
       "      <td>0.874337</td>\n",
       "      <td>88.959540</td>\n",
       "      <td>0.015142</td>\n",
       "      <td>0.034542</td>\n",
       "    </tr>\n",
       "    <tr>\n",
       "      <th>min</th>\n",
       "      <td>0.000000</td>\n",
       "      <td>2.818000e+03</td>\n",
       "      <td>1476.0</td>\n",
       "      <td>2.234000e+03</td>\n",
       "      <td>0.000000</td>\n",
       "      <td>0.000000</td>\n",
       "      <td>1.000000</td>\n",
       "      <td>0.000000</td>\n",
       "      <td>12.000000</td>\n",
       "      <td>52.296200</td>\n",
       "      <td>4.763264</td>\n",
       "    </tr>\n",
       "    <tr>\n",
       "      <th>25%</th>\n",
       "      <td>4696.250000</td>\n",
       "      <td>6.048206e+06</td>\n",
       "      <td>1476.0</td>\n",
       "      <td>7.132795e+06</td>\n",
       "      <td>2.000000</td>\n",
       "      <td>0.000000</td>\n",
       "      <td>2.000000</td>\n",
       "      <td>1.000000</td>\n",
       "      <td>108.000000</td>\n",
       "      <td>52.355253</td>\n",
       "      <td>4.864334</td>\n",
       "    </tr>\n",
       "    <tr>\n",
       "      <th>50%</th>\n",
       "      <td>9369.500000</td>\n",
       "      <td>1.227997e+07</td>\n",
       "      <td>1476.0</td>\n",
       "      <td>1.985772e+07</td>\n",
       "      <td>6.000000</td>\n",
       "      <td>4.500000</td>\n",
       "      <td>2.000000</td>\n",
       "      <td>1.000000</td>\n",
       "      <td>144.000000</td>\n",
       "      <td>52.364617</td>\n",
       "      <td>4.886005</td>\n",
       "    </tr>\n",
       "    <tr>\n",
       "      <th>75%</th>\n",
       "      <td>14042.750000</td>\n",
       "      <td>1.661112e+07</td>\n",
       "      <td>1476.0</td>\n",
       "      <td>5.201461e+07</td>\n",
       "      <td>17.000000</td>\n",
       "      <td>5.000000</td>\n",
       "      <td>4.000000</td>\n",
       "      <td>2.000000</td>\n",
       "      <td>192.000000</td>\n",
       "      <td>52.374800</td>\n",
       "      <td>4.907512</td>\n",
       "    </tr>\n",
       "    <tr>\n",
       "      <th>max</th>\n",
       "      <td>18716.000000</td>\n",
       "      <td>2.000373e+07</td>\n",
       "      <td>1476.0</td>\n",
       "      <td>1.418319e+08</td>\n",
       "      <td>532.000000</td>\n",
       "      <td>5.000000</td>\n",
       "      <td>17.000000</td>\n",
       "      <td>10.000000</td>\n",
       "      <td>960.000000</td>\n",
       "      <td>52.424980</td>\n",
       "      <td>5.027689</td>\n",
       "    </tr>\n",
       "  </tbody>\n",
       "</table>\n",
       "</div>"
      ],
      "text/plain": [
       "         Unnamed: 0       room_id  survey_id       host_id       reviews  \\\n",
       "count  18694.000000  1.869400e+04    18694.0  1.869400e+04  18694.000000   \n",
       "mean    9369.289665  1.120236e+07     1476.0  3.576327e+07     16.761153   \n",
       "std     5396.998613  6.083670e+06        0.0  3.758002e+07     33.543952   \n",
       "min        0.000000  2.818000e+03     1476.0  2.234000e+03      0.000000   \n",
       "25%     4696.250000  6.048206e+06     1476.0  7.132795e+06      2.000000   \n",
       "50%     9369.500000  1.227997e+07     1476.0  1.985772e+07      6.000000   \n",
       "75%    14042.750000  1.661112e+07     1476.0  5.201461e+07     17.000000   \n",
       "max    18716.000000  2.000373e+07     1476.0  1.418319e+08    532.000000   \n",
       "\n",
       "       overall_satisfaction  accommodates      bedrooms         price  \\\n",
       "count          18694.000000  18694.000000  18694.000000  18694.000000   \n",
       "mean               3.303413      2.917086      1.427838    164.825719   \n",
       "std                2.212589      1.313923      0.874337     88.959540   \n",
       "min                0.000000      1.000000      0.000000     12.000000   \n",
       "25%                0.000000      2.000000      1.000000    108.000000   \n",
       "50%                4.500000      2.000000      1.000000    144.000000   \n",
       "75%                5.000000      4.000000      2.000000    192.000000   \n",
       "max                5.000000     17.000000     10.000000    960.000000   \n",
       "\n",
       "           latitude     longitude  \n",
       "count  18694.000000  18694.000000  \n",
       "mean      52.365254      4.888596  \n",
       "std        0.015142      0.034542  \n",
       "min       52.296200      4.763264  \n",
       "25%       52.355253      4.864334  \n",
       "50%       52.364617      4.886005  \n",
       "75%       52.374800      4.907512  \n",
       "max       52.424980      5.027689  "
      ]
     },
     "execution_count": 5,
     "metadata": {},
     "output_type": "execute_result"
    }
   ],
   "source": [
    "df.describe()"
   ]
  },
  {
   "cell_type": "markdown",
   "id": "631150a3-b2a2-4025-ad12-8900b74556d4",
   "metadata": {
    "slideshow": {
     "slide_type": "subslide"
    }
   },
   "source": [
    "#### What do we want to predict?\n",
    "Separate the target variable and features"
   ]
  },
  {
   "cell_type": "code",
   "execution_count": 6,
   "id": "b4b781aa-0b8e-457f-a3e7-87b1b49b4a4b",
   "metadata": {
    "slideshow": {
     "slide_type": "fragment"
    }
   },
   "outputs": [],
   "source": [
    "features = ['reviews', 'overall_satisfaction', 'accommodates', 'bedrooms']"
   ]
  },
  {
   "cell_type": "code",
   "execution_count": 7,
   "id": "08f9a4c4-2740-4fe1-aad9-086a9084d488",
   "metadata": {
    "slideshow": {
     "slide_type": "subslide"
    }
   },
   "outputs": [],
   "source": [
    "X = df[features]\n",
    "y = df.price"
   ]
  },
  {
   "cell_type": "code",
   "execution_count": 8,
   "id": "c01c53dd-610a-4099-86b6-38b52e8ce3d4",
   "metadata": {
    "slideshow": {
     "slide_type": "fragment"
    }
   },
   "outputs": [
    {
     "data": {
      "text/plain": [
       "164.8257194821868"
      ]
     },
     "execution_count": 8,
     "metadata": {},
     "output_type": "execute_result"
    }
   ],
   "source": [
    "y.mean()"
   ]
  },
  {
   "cell_type": "markdown",
   "id": "46cd2e3a-8171-46f8-8b80-44ad3109e093",
   "metadata": {
    "slideshow": {
     "slide_type": "slide"
    }
   },
   "source": [
    "#### What are the Machine Learning steps?\n",
    "\n",
    "1. Split the data, cross-validation strategy\n",
    "2. Fit on train data\n",
    "3. Predict on test data\n",
    "4. Evaluate, optimize, repeat or release"
   ]
  },
  {
   "cell_type": "markdown",
   "id": "fdb2a323-eb42-48f7-84c5-71066dda392f",
   "metadata": {
    "slideshow": {
     "slide_type": "slide"
    }
   },
   "source": [
    "#### - Split the data\n",
    "We then create a random split of our data set with one-third as a test data set"
   ]
  },
  {
   "cell_type": "code",
   "execution_count": 9,
   "id": "90100e34-f052-4891-8252-6c295a7c4a4a",
   "metadata": {
    "slideshow": {
     "slide_type": "fragment"
    }
   },
   "outputs": [],
   "source": [
    "from sklearn.model_selection import *\n",
    "X_train, X_test, y_train, y_test = train_test_split(X, y, test_size=1/3, random_state=0)"
   ]
  },
  {
   "cell_type": "markdown",
   "id": "edd2d200-8747-42ac-8a16-a7a91bdd0152",
   "metadata": {
    "slideshow": {
     "slide_type": "subslide"
    }
   },
   "source": [
    "#### [Scikit-Learn](https://scikit-learn.org/stable/index.html)\n",
    "\n",
    "How to use such an extensive library?\n",
    "\n",
    "- Choose a class of model by importing the appropriate estimator class from Scikit-Learn.\n",
    "- Choose model hyperparameters by instantiating this class with desired values.\n",
    "- Arrange data into a features matrix and target vector.\n",
    "- Fit the model to your data by calling the ``fit()`` method of the model instance.\n",
    "- Apply the Model to new data:\n",
    "   - For supervised learning, we often use the ``predict()`` method to predict labels for unknown data.\n",
    "   - For unsupervised learning, we often transform or infer data properties using the ``transform()``or ``predict()`` method."
   ]
  },
  {
   "cell_type": "markdown",
   "id": "373d9e3f-9589-40e0-b4b6-ec0ee5e69962",
   "metadata": {
    "slideshow": {
     "slide_type": "subslide"
    }
   },
   "source": [
    "#### Choose a class of model\n",
    "\n",
    "In Scikit-Learn, every class of the model is represented by a Python class.\n",
    "So, for example, if we would like to compute a simple regression model, we can import the linear regression class:"
   ]
  },
  {
   "cell_type": "code",
   "execution_count": 10,
   "id": "fa0db8df-fabe-4535-8d01-31cc91bf7c6a",
   "metadata": {
    "slideshow": {
     "slide_type": "fragment"
    }
   },
   "outputs": [],
   "source": [
    "from sklearn.linear_model import LinearRegression\n",
    "model = LinearRegression()"
   ]
  },
  {
   "cell_type": "markdown",
   "id": "d2a1b939-44c0-4d78-9301-a537cc3ff8f7",
   "metadata": {
    "slideshow": {
     "slide_type": "slide"
    }
   },
   "source": [
    "#### - Fit on train data\n",
    "\n",
    "Here we apply our model to data.\n",
    "This can be done with the ``fit()`` method of the model:"
   ]
  },
  {
   "cell_type": "code",
   "execution_count": 11,
   "id": "ec08b2a8-8069-4522-9f12-a043f1f39128",
   "metadata": {
    "slideshow": {
     "slide_type": "fragment"
    }
   },
   "outputs": [
    {
     "data": {
      "text/plain": [
       "LinearRegression()"
      ]
     },
     "execution_count": 11,
     "metadata": {},
     "output_type": "execute_result"
    }
   ],
   "source": [
    "#regressor.fit(X_train.values.reshape(-1, 1), y_train)\n",
    "model.fit(X_train, y_train)"
   ]
  },
  {
   "cell_type": "markdown",
   "id": "9ec0173b-c724-4a06-98f8-9b61c871741f",
   "metadata": {
    "slideshow": {
     "slide_type": "subslide"
    }
   },
   "source": [
    "This ``fit()`` command causes some model-dependent internal computations to take place, and the results of these computations are stored in model-specific attributes that the user can explore.\n",
    "In Scikit-Learn, by convention, all model parameters that were learned during the ``fit()`` process have trailing underscores; for example, in this linear model, we have the following:"
   ]
  },
  {
   "cell_type": "code",
   "execution_count": 12,
   "id": "4a81ffff-d711-4f09-9434-9b42acb0ff4c",
   "metadata": {
    "slideshow": {
     "slide_type": "subslide"
    }
   },
   "outputs": [
    {
     "data": {
      "text/plain": [
       "array([-0.13730226,  0.89096296, 26.70545014, 24.16566857])"
      ]
     },
     "execution_count": 12,
     "metadata": {},
     "output_type": "execute_result"
    }
   ],
   "source": [
    "model.coef_"
   ]
  },
  {
   "cell_type": "code",
   "execution_count": 13,
   "id": "7c55b610-b23f-4405-8295-aee232b6bb48",
   "metadata": {
    "scrolled": true,
    "slideshow": {
     "slide_type": "fragment"
    }
   },
   "outputs": [
    {
     "data": {
      "text/plain": [
       "51.72533629372808"
      ]
     },
     "execution_count": 13,
     "metadata": {},
     "output_type": "execute_result"
    }
   ],
   "source": [
    "model.intercept_"
   ]
  },
  {
   "cell_type": "markdown",
   "id": "3e2aefe5-8d11-4974-a687-b9a9402d785c",
   "metadata": {
    "slideshow": {
     "slide_type": "slide"
    }
   },
   "source": [
    "#### - Predict on test data\n",
    "\n",
    "Once the model is trained, the main task of supervised machine learning is to evaluate it based on what it says about new data that was not part of the training set.\n",
    "Scikit-Learn can do this using the ``predict()`` method.\n",
    "For the sake of this example, our \"new data\" will be a grid of *x* values, and we will ask what *y* values the model predicts:"
   ]
  },
  {
   "cell_type": "code",
   "execution_count": 14,
   "id": "a7ac3fae-05f0-45f0-8ae7-e4e5814747b9",
   "metadata": {
    "slideshow": {
     "slide_type": "fragment"
    }
   },
   "outputs": [],
   "source": [
    "new_appartment = pd.DataFrame({'reviews':[20],\n",
    "                               'overall_satisfaction':[5],\n",
    "                               'accommodates':[2],\n",
    "                               'bedrooms':[1]})"
   ]
  },
  {
   "cell_type": "code",
   "execution_count": 15,
   "id": "4aa5b9ad-048e-4e0d-aa0c-03873f4fc7c2",
   "metadata": {},
   "outputs": [
    {
     "data": {
      "text/html": [
       "<div>\n",
       "<style scoped>\n",
       "    .dataframe tbody tr th:only-of-type {\n",
       "        vertical-align: middle;\n",
       "    }\n",
       "\n",
       "    .dataframe tbody tr th {\n",
       "        vertical-align: top;\n",
       "    }\n",
       "\n",
       "    .dataframe thead th {\n",
       "        text-align: right;\n",
       "    }\n",
       "</style>\n",
       "<table border=\"1\" class=\"dataframe\">\n",
       "  <thead>\n",
       "    <tr style=\"text-align: right;\">\n",
       "      <th></th>\n",
       "      <th>reviews</th>\n",
       "      <th>overall_satisfaction</th>\n",
       "      <th>accommodates</th>\n",
       "      <th>bedrooms</th>\n",
       "    </tr>\n",
       "  </thead>\n",
       "  <tbody>\n",
       "    <tr>\n",
       "      <th>0</th>\n",
       "      <td>20</td>\n",
       "      <td>5</td>\n",
       "      <td>2</td>\n",
       "      <td>1</td>\n",
       "    </tr>\n",
       "  </tbody>\n",
       "</table>\n",
       "</div>"
      ],
      "text/plain": [
       "   reviews  overall_satisfaction  accommodates  bedrooms\n",
       "0       20                     5             2         1"
      ]
     },
     "execution_count": 15,
     "metadata": {},
     "output_type": "execute_result"
    }
   ],
   "source": [
    "new_appartment"
   ]
  },
  {
   "cell_type": "code",
   "execution_count": 16,
   "id": "dd2af540-88bf-4137-9770-5d22768525f7",
   "metadata": {
    "slideshow": {
     "slide_type": "fragment"
    }
   },
   "outputs": [
    {
     "name": "stdout",
     "output_type": "stream",
     "text": [
      "Predicted Airbnb Value: € [131.01067473]\n"
     ]
    }
   ],
   "source": [
    "new_price = model.predict(new_appartment)\n",
    "#prediction_rescaled = scaler.inverse_transform(new_price)\n",
    "print (\"Predicted Airbnb Value: € {}\".format(new_price))"
   ]
  },
  {
   "cell_type": "markdown",
   "id": "ddba5652-2a4e-4220-b861-9e75162cb076",
   "metadata": {
    "slideshow": {
     "slide_type": "slide"
    },
    "tags": []
   },
   "source": [
    "#### - Cross Validation\n",
    "<img src=\"../img/cvali.png\" width=\"900\">"
   ]
  },
  {
   "cell_type": "code",
   "execution_count": 17,
   "id": "402fd8e1-f6b8-486a-bc47-5b1536f1f4e7",
   "metadata": {
    "slideshow": {
     "slide_type": "subslide"
    }
   },
   "outputs": [],
   "source": [
    "from sklearn.model_selection import cross_val_predict\n",
    "predicted = cross_val_predict(model, X_train, y_train, cv=5)"
   ]
  },
  {
   "cell_type": "code",
   "execution_count": 18,
   "id": "f6bb4be9-da50-4afe-ba16-4d69a06d25e2",
   "metadata": {
    "scrolled": true,
    "slideshow": {
     "slide_type": "fragment"
    }
   },
   "outputs": [
    {
     "data": {
      "text/plain": [
       "Text(0, 0.5, 'Predicted')"
      ]
     },
     "execution_count": 18,
     "metadata": {},
     "output_type": "execute_result"
    },
    {
     "data": {
      "image/png": "[encoded data removed]",
      "text/plain": [
       "<Figure size 432x288 with 1 Axes>"
      ]
     },
     "metadata": {
      "needs_background": "light"
     },
     "output_type": "display_data"
    }
   ],
   "source": [
    "plt.scatter(y_train, predicted)\n",
    "plt.plot([y_train.min(), y_train.max()], [y_train.min(), y_train.max()], 'k--')\n",
    "plt.xlabel('Real')\n",
    "plt.ylabel('Predicted')"
   ]
  },
  {
   "cell_type": "markdown",
   "id": "146b96e9-d6cd-4fc0-a197-42495cc8dc6e",
   "metadata": {
    "slideshow": {
     "slide_type": "fragment"
    }
   },
   "source": [
    "How do we know how good are the models?"
   ]
  },
  {
   "cell_type": "markdown",
   "id": "ad437641-7baa-4111-b00a-123eb8b4ba00",
   "metadata": {
    "slideshow": {
     "slide_type": "slide"
    }
   },
   "source": [
    "#### Regression Metrics (a.k.a. goodness of fit)"
   ]
  },
  {
   "cell_type": "markdown",
   "id": "10cffcc5-969d-4585-94b4-f8b5d815e6d7",
   "metadata": {
    "slideshow": {
     "slide_type": "subslide"
    }
   },
   "source": [
    "**Mean Squared Error(MSE**) is the average of the square between the Original Values and the Predicted Values.It gives an idea of how wrong the predictions were.\n",
    "\n",
    "$$\\Large MSE = \\frac{1}{N} \\sum\\limits_{i = 1}^{N} ( {y_i - \\hat{y_i}} )^2$$\n",
    "\n",
    "$$ MSE = Average(Actual\\ target\\ value - Predicted\\ target\\ value)^2$$"
   ]
  },
  {
   "cell_type": "code",
   "execution_count": 19,
   "id": "90eabdfc-0134-411d-94ec-f9a087d71b62",
   "metadata": {
    "slideshow": {
     "slide_type": "fragment"
    }
   },
   "outputs": [],
   "source": [
    "from sklearn.metrics import mean_squared_error"
   ]
  },
  {
   "cell_type": "code",
   "execution_count": 20,
   "id": "ad6c8ae6-0bd1-4e0a-950a-354419d6e737",
   "metadata": {
    "slideshow": {
     "slide_type": "subslide"
    }
   },
   "outputs": [],
   "source": [
    "mse = mean_squared_error(y_test, model.predict(X_test))"
   ]
  },
  {
   "cell_type": "markdown",
   "id": "e1c676e9-fc0f-4fa0-befb-8a9a18884c9c",
   "metadata": {
    "slideshow": {
     "slide_type": "fragment"
    }
   },
   "source": [
    "The squared root will give a better perspective"
   ]
  },
  {
   "cell_type": "code",
   "execution_count": 21,
   "id": "fbea4bc5-bd37-4626-ae7b-b511fee944e3",
   "metadata": {
    "slideshow": {
     "slide_type": "fragment"
    }
   },
   "outputs": [
    {
     "name": "stdout",
     "output_type": "stream",
     "text": [
      "72.8404928777858\n"
     ]
    }
   ],
   "source": [
    "from math import sqrt\n",
    "print(sqrt(mse))"
   ]
  },
  {
   "cell_type": "code",
   "execution_count": 22,
   "id": "6b5b5189-4157-4341-bb5a-90a543d76a3a",
   "metadata": {
    "slideshow": {
     "slide_type": "fragment"
    }
   },
   "outputs": [
    {
     "data": {
      "text/plain": [
       "164.8257194821868"
      ]
     },
     "execution_count": 22,
     "metadata": {},
     "output_type": "execute_result"
    }
   ],
   "source": [
    "df.price.mean()"
   ]
  },
  {
   "cell_type": "markdown",
   "id": "f634f1db-1f88-4213-82ec-424e3f7e05b2",
   "metadata": {
    "slideshow": {
     "slide_type": "slide"
    }
   },
   "source": [
    "### R Squared\n",
    "\n",
    "The $R^2$ (or R Squared) metric provides an indication of how well the model captures the variance in the data. It ranges between 0 and 1 for no-variance explained to complete variance captured respectively.\n",
    "\n",
    "$$(Residual\\ Square\\ sum)\\ RSS = \\sum\\limits_{i = 1}^{N} (Actual\\ target\\ value - Predicted\\ target\\ value)$$\n",
    "\n",
    "$$(Total\\ Square\\ sum)\\ TSS = \\sum\\limits_{i = 1}^{N} (Actual\\ target\\ value - Mean\\ target\\ value)$$"
   ]
  },
  {
   "cell_type": "markdown",
   "id": "6c36ca89-3fde-4881-b1e1-877db6c08b90",
   "metadata": {
    "slideshow": {
     "slide_type": "subslide"
    }
   },
   "source": [
    "$$\\Large R^2 = \\Large (1 - \\frac{RSS}{TSS})$$"
   ]
  },
  {
   "cell_type": "code",
   "execution_count": 23,
   "id": "542fbd9b-3cdb-453e-b7e6-cf40ee86e3b6",
   "metadata": {
    "slideshow": {
     "slide_type": "fragment"
    }
   },
   "outputs": [],
   "source": [
    "from sklearn.metrics import r2_score"
   ]
  },
  {
   "cell_type": "code",
   "execution_count": 24,
   "id": "569515c2-1a81-42d2-be02-183f40ac403a",
   "metadata": {
    "slideshow": {
     "slide_type": "subslide"
    }
   },
   "outputs": [],
   "source": [
    "r2_score = r2_score(y_test, model.predict(X_test))"
   ]
  },
  {
   "cell_type": "code",
   "execution_count": 25,
   "id": "43b22c4c-5401-4958-8eed-b70b16d55e6e",
   "metadata": {
    "slideshow": {
     "slide_type": "fragment"
    }
   },
   "outputs": [
    {
     "name": "stdout",
     "output_type": "stream",
     "text": [
      "0.32384828875991734\n"
     ]
    }
   ],
   "source": [
    "print(r2_score)"
   ]
  },
  {
   "cell_type": "markdown",
   "id": "e98e5f8b-2d6a-401f-a121-45e2e4b52d80",
   "metadata": {
    "slideshow": {
     "slide_type": "fragment"
    }
   },
   "source": [
    "The closest to one the better otherwise isn't explaining the variance of the errors."
   ]
  },
  {
   "cell_type": "markdown",
   "id": "5270282f-1ae1-41b9-ab7d-957f0d9102d0",
   "metadata": {
    "slideshow": {
     "slide_type": "slide"
    }
   },
   "source": [
    "### Score distribution"
   ]
  },
  {
   "cell_type": "code",
   "execution_count": 26,
   "id": "caf055d4-84c4-4346-a6b6-7dbaf1b8dc75",
   "metadata": {
    "slideshow": {
     "slide_type": "fragment"
    }
   },
   "outputs": [],
   "source": [
    "model_scores = []\n",
    "for repetition in range(100):\n",
    "    X_train, X_test, y_train, y_test = train_test_split(X, y, test_size=0.2)\n",
    "    model = LinearRegression()\n",
    "    model.fit(X_train, y_train)\n",
    "    y_predict = model.predict(X_test)\n",
    "    rmse = sqrt(mean_squared_error(y_test, y_predict))\n",
    "    model_scores.append(rmse)"
   ]
  },
  {
   "cell_type": "code",
   "execution_count": 27,
   "id": "07df1201-3a4f-4dc5-a514-ca8623152b4f",
   "metadata": {},
   "outputs": [],
   "source": [
    "#model_scores"
   ]
  },
  {
   "cell_type": "code",
   "execution_count": 28,
   "id": "d35d6149-456f-43af-bd05-80b85a51d9a2",
   "metadata": {
    "slideshow": {
     "slide_type": "subslide"
    }
   },
   "outputs": [
    {
     "data": {
      "text/plain": [
       "<AxesSubplot:title={'center':'Evaluation Score Distribution'}, ylabel='Density'>"
      ]
     },
     "execution_count": 28,
     "metadata": {},
     "output_type": "execute_result"
    },
    {
     "data": {
      "image/png": "[encoded data removed]",
      "text/plain": [
       "<Figure size 432x288 with 1 Axes>"
      ]
     },
     "metadata": {
      "needs_background": "light"
     },
     "output_type": "display_data"
    }
   ],
   "source": [
    "plt.title('Evaluation Score Distribution')\n",
    "sns.distplot(model_scores, color=\"g\")"
   ]
  },
  {
   "cell_type": "markdown",
   "id": "3793b8b6-3d5f-49f8-88c5-92a914cb5cdb",
   "metadata": {},
   "source": [
    "#### Model Grid Search"
   ]
  },
  {
   "cell_type": "code",
   "execution_count": 29,
   "id": "8f930bb4-41f0-4064-99c1-1fd81c20a0e0",
   "metadata": {},
   "outputs": [],
   "source": [
    "from sklearn.neighbors import KNeighborsRegressor\n",
    "from sklearn.tree import DecisionTreeRegressor\n",
    "from sklearn.svm import SVR"
   ]
  },
  {
   "cell_type": "code",
   "execution_count": 30,
   "id": "cb838c61-01ce-4947-87d0-cddc8d2b62de",
   "metadata": {},
   "outputs": [],
   "source": [
    "models = []\n",
    "models.append(('LR', LinearRegression()))\n",
    "models.append(('KNN3', KNeighborsRegressor(n_neighbors=3)))\n",
    "models.append(('KNN5', KNeighborsRegressor(n_neighbors=5)))\n",
    "#models.append(('DTR', DecisionTreeRegressor()))\n",
    "#models.append(('SVR', SVR(kernel='rbf', C=100, gamma=0.1, epsilon=.1)))\n",
    "#models.append(('SVRL', SVR(kernel='linear', C=100, gamma='auto')))"
   ]
  },
  {
   "cell_type": "code",
   "execution_count": 31,
   "id": "0c39f9d7-c929-45b4-9d80-f586fbeec304",
   "metadata": {
    "slideshow": {
     "slide_type": "fragment"
    }
   },
   "outputs": [
    {
     "name": "stdout",
     "output_type": "stream",
     "text": [
      "LR: 0.350895 (0.028194)\n",
      "KNN3: 0.163911 (0.038391)\n",
      "KNN5: 0.244439 (0.037259)\n"
     ]
    }
   ],
   "source": [
    "results = []\n",
    "names = []\n",
    "for name, m in models:\n",
    "    kfold = KFold(n_splits=10)\n",
    "    cv_results = cross_val_score(m, X_train, y_train, cv=kfold, scoring='r2') #mean_absolute_error\n",
    "    results.append(cv_results)\n",
    "    names.append(name)\n",
    "    msg = \"%s: %f (%f)\" % (name, cv_results.mean(), cv_results.std())\n",
    "    print(msg)"
   ]
  },
  {
   "cell_type": "markdown",
   "id": "ac52ee38-9648-4bfc-bd10-350f76242738",
   "metadata": {},
   "source": [
    "### [Metrics and scoring: quantifying the quality of predictions](https://scikit-learn.org/stable/modules/model_evaluation.html)"
   ]
  },
  {
   "cell_type": "code",
   "execution_count": 32,
   "id": "155aeda0-652d-4b9e-81b4-622897307ccd",
   "metadata": {
    "slideshow": {
     "slide_type": "subslide"
    }
   },
   "outputs": [
    {
     "data": {
      "text/plain": [
       "Text(0, 0.5, 'R2 Score')"
      ]
     },
     "execution_count": 32,
     "metadata": {},
     "output_type": "execute_result"
    },
    {
     "data": {
      "image/png": "[encoded data removed]",
      "text/plain": [
       "<Figure size 432x288 with 1 Axes>"
      ]
     },
     "metadata": {
      "needs_background": "light"
     },
     "output_type": "display_data"
    }
   ],
   "source": [
    "plt.bar(list(range(len(results))), [i.mean() for i in results])\n",
    "plt.xticks(list(range(len(results))), names)\n",
    "plt.ylabel('R2 Score')"
   ]
  },
  {
   "cell_type": "markdown",
   "id": "ce579ae9-a14c-4275-8598-7ce884d99f12",
   "metadata": {
    "slideshow": {
     "slide_type": "slide"
    }
   },
   "source": [
    "Let's supposed that the model is ready to go, the we save it."
   ]
  },
  {
   "cell_type": "code",
   "execution_count": 33,
   "id": "c42bc1d3-1da9-405a-ac87-e94b56ebc27a",
   "metadata": {},
   "outputs": [],
   "source": [
    "import pickle\n",
    "\n",
    "model_name = \"model.pkl\"\n",
    "with open(model_name, 'wb') as file:\n",
    "    pickle.dump(model, file)"
   ]
  },
  {
   "cell_type": "code",
   "execution_count": 34,
   "id": "1b4a7915-870f-4b37-88bb-85fa10f31841",
   "metadata": {},
   "outputs": [],
   "source": [
    "with open(model_name, 'rb') as file:\n",
    "    loaded_model = pickle.load(file)"
   ]
  },
  {
   "cell_type": "code",
   "execution_count": 36,
   "id": "00705dd2-9617-48e9-89f4-9c63ebe1dcc6",
   "metadata": {},
   "outputs": [
    {
     "data": {
      "text/plain": [
       "array([129.78306329])"
      ]
     },
     "execution_count": 36,
     "metadata": {},
     "output_type": "execute_result"
    }
   ],
   "source": [
    "loaded_model.predict([[20,5,1,2]])"
   ]
  },
  {
   "cell_type": "code",
   "execution_count": 38,
   "id": "c72ffa69-0c53-4af9-b8cc-6f856a8fece0",
   "metadata": {},
   "outputs": [
    {
     "name": "stdout",
     "output_type": "stream",
     "text": [
      "Test score: 32.75 %\n"
     ]
    },
    {
     "data": {
      "text/plain": [
       "232.16518671209576"
      ]
     },
     "execution_count": 38,
     "metadata": {},
     "output_type": "execute_result"
    }
   ],
   "source": [
    "score = loaded_model.score(X_test, y_test)\n",
    "print(\"Test score: {0:.2f} %\".format(100 * score))\n",
    "y_predict = loaded_model.predict(X_test)"
   ]
  }
 ],
 "metadata": {
  "kernelspec": {
   "display_name": "Python 3 (ipykernel)",
   "language": "python",
   "name": "python3"
  },
  "language_info": {
   "codemirror_mode": {
    "name": "ipython",
    "version": 3
   },
   "file_extension": ".py",
   "mimetype": "text/x-python",
   "name": "python",
   "nbconvert_exporter": "python",
   "pygments_lexer": "ipython3",
   "version": "3.9.12"
  }
 },
 "nbformat": 4,
 "nbformat_minor": 5
}
