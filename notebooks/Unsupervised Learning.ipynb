{
 "cells": [
  {
   "cell_type": "markdown",
   "id": "1a455407-f7fa-4e06-8884-a986f413599b",
   "metadata": {
    "jp-MarkdownHeadingCollapsed": true,
    "tags": []
   },
   "source": [
    "#### Data Science Technologies\n",
    "\n",
    "*Notebook by [Pedro V Hernandez Serrano](https://github.com/pedrohserrano)*\n",
    "\n",
    "*License: [Attribution 4.0 International (CC BY 4.0)](https://creativecommons.org/licenses/by/4.0/)*  \n",
    "\n",
    "---"
   ]
  },
  {
   "cell_type": "markdown",
   "id": "8a78a109-70d7-438a-8d66-a0f74fcd69f1",
   "metadata": {},
   "source": [
    "## 1. Unsupervised Learning"
   ]
  },
  {
   "cell_type": "markdown",
   "id": "207f62d7-bcc5-43f8-baa9-7eec6e290dcb",
   "metadata": {},
   "source": [
    "A broad term that includes an ever-changing variety of methods such as Clustering methods, Anomaly detection, latent variable models and Network algorithms"
   ]
  },
  {
   "cell_type": "markdown",
   "id": "4ceafbf3-84af-47d2-87d8-deb3b03ba952",
   "metadata": {},
   "source": [
    "### 1.1 Network Analysis"
   ]
  },
  {
   "cell_type": "markdown",
   "id": "7d2c42e4-c103-484a-b1c8-aab02011e6a3",
   "metadata": {
    "slideshow": {
     "slide_type": "fragment"
    }
   },
   "source": [
    "Network analysis and graph representation have their basis in a joint field between discrete mathematics and topology called Graph theory. This field was born out of a very practical problem. (Konigsberg bridge problem, 1736)\n",
    "\n",
    "Königsberg in Prussia (now Kaliningrad)\n",
    "The problem was to devise a walk through the city that would cross each of those bridges once and only once.\n",
    "The problem has no solution (touch all the edges without repeating the nodes)\n"
   ]
  },
  {
   "cell_type": "markdown",
   "id": "9814a4f3-d32a-4f39-8a1a-d281be0c2eee",
   "metadata": {
    "slideshow": {
     "slide_type": "fragment"
    }
   },
   "source": [
    "<img src=\"../img/konigsberg.png\" width=\"900\">"
   ]
  },
  {
   "cell_type": "markdown",
   "id": "ae11e1ed-45d6-4ada-a5c0-7b1469943bd0",
   "metadata": {
    "slideshow": {
     "slide_type": "subslide"
    }
   },
   "source": [
    "Euler looked at this and figured out that you cannot create such a walk.\n",
    "Edsger Dijkstra is a well-known computer scientist who has developed graph algorithms."
   ]
  },
  {
   "cell_type": "markdown",
   "id": "51d6daad-aca1-4351-ba0d-e208b2b2e98d",
   "metadata": {
    "slideshow": {
     "slide_type": "fragment"
    }
   },
   "source": [
    "<img src=\"../img/na1.png\" width=\"600\">"
   ]
  },
  {
   "cell_type": "markdown",
   "id": "428e14b2-2d7d-439c-8c63-1eaf52b1d0ec",
   "metadata": {
    "slideshow": {
     "slide_type": "slide"
    }
   },
   "source": [
    "## Graph Theory\n",
    "\n",
    "A graph is a pair of sets V and E, where V is the set of vertices and E is the set of edges, formed by pairs of vertices. "
   ]
  },
  {
   "cell_type": "markdown",
   "id": "24b53898-5fa0-4f52-99a2-b21c0327544d",
   "metadata": {
    "slideshow": {
     "slide_type": "fragment"
    }
   },
   "source": [
    "<img src=\"../img/gt.png\" width=\"800\">"
   ]
  },
  {
   "cell_type": "markdown",
   "id": "7517adf5-c83c-4526-9317-f9c577e52b03",
   "metadata": {
    "slideshow": {
     "slide_type": "subslide"
    }
   },
   "source": [
    "### Properties"
   ]
  },
  {
   "cell_type": "markdown",
   "id": "8d064055-b332-481b-9d95-363924c99d0e",
   "metadata": {
    "slideshow": {
     "slide_type": "subslide"
    }
   },
   "source": [
    "- Edges that have the same vertices are parallel. $(e_4,e_5)$\n",
    "- Edges are adjacent if they share a common end vertex. $(e_1,e_2)$\n",
    "- An edge of the form $(v, v)$ is a loop. $e_3$\n",
    "- A graph is simple if it has no parallel edges or loops.\n",
    "- A graph with no edges (i.e. $E$ are empty) is empty.\n",
    "- A graph with no vertices (i.e. $V$ and $E$ are empty) is a $null$ graph.\n",
    "- A graph with only one vertex is trivial.\n",
    "- The degree of the vertex $v$, written as $d(v)$, is the number of edges with $v$ as a vertex.\n",
    "- Minimum degree in a graph $G$ is denoted $δ(G)$\n",
    "- Maximum degree in a graph $G$ is we write $∆(G)$\n",
    "- A pendant (leaf) vertex is a vertex whose degree is 1.\n",
    "- An isolated vertex is a vertex whose degree is 0.\n",
    "- The graph $G1 = (V1, E1)$ is a subgraph of $G2 = (V2, E2)$ if $V1V2$ and Every edge of $G1$ is also an edge of $G2$."
   ]
  },
  {
   "cell_type": "markdown",
   "id": "f9ebe253-cc6e-4910-bb48-e2be63f7bf52",
   "metadata": {
    "slideshow": {
     "slide_type": "fragment"
    }
   },
   "source": [
    "<img src=\"../img/gt1.png\" width=\"400\">"
   ]
  },
  {
   "cell_type": "code",
   "execution_count": 1,
   "id": "fbf81f95-200a-4192-a3be-c6e32b259253",
   "metadata": {
    "slideshow": {
     "slide_type": "fragment"
    }
   },
   "outputs": [
    {
     "name": "stdout",
     "output_type": "stream",
     "text": [
      "Requirement already satisfied: networkx in /Users/pedrohserrano/opt/anaconda3/lib/python3.9/site-packages (2.7.1)\n"
     ]
    }
   ],
   "source": [
    "!pip install networkx"
   ]
  },
  {
   "cell_type": "markdown",
   "id": "bb8f838c-788a-4643-937b-432342d1e5a1",
   "metadata": {
    "slideshow": {
     "slide_type": "slide"
    }
   },
   "source": [
    "### 1.2 Networkx\n",
    "* [Netwokx](https://networkx.github.io/documentation/networkx-1.9/index.html) is a Python language software package for the creation, manipulation, and study of the structure, dynamics, and function of complex networks.\n",
    "* Uses the different methods to manipulate a graph\n",
    "* Uses methods of centrality from graph theory\n",
    "* Allows creating basic network plots"
   ]
  },
  {
   "cell_type": "code",
   "execution_count": 2,
   "id": "f77e855c-e1a3-4437-9896-d305489186d7",
   "metadata": {},
   "outputs": [],
   "source": [
    "import networkx as nx\n",
    "import pandas as pd\n",
    "import matplotlib.pyplot as plt\n",
    "import warnings\n",
    "warnings.filterwarnings('ignore')"
   ]
  },
  {
   "cell_type": "markdown",
   "id": "1f39cf7f-64f5-4d7b-aac2-ad260c785e0b",
   "metadata": {
    "slideshow": {
     "slide_type": "slide"
    }
   },
   "source": [
    "#### Graph Essentials"
   ]
  },
  {
   "cell_type": "code",
   "execution_count": 3,
   "id": "b00a3a08-0da5-47db-b89c-b9a5e24261ed",
   "metadata": {
    "slideshow": {
     "slide_type": "subslide"
    }
   },
   "outputs": [],
   "source": [
    "g = nx.Graph()"
   ]
  },
  {
   "cell_type": "markdown",
   "id": "e76a900c-eeea-452c-8bf7-c81e190f4425",
   "metadata": {
    "slideshow": {
     "slide_type": "fragment"
    }
   },
   "source": [
    "One node at a time"
   ]
  },
  {
   "cell_type": "code",
   "execution_count": 4,
   "id": "3b8046d3-a13c-430e-a70f-a9d50598337f",
   "metadata": {
    "slideshow": {
     "slide_type": "fragment"
    }
   },
   "outputs": [],
   "source": [
    "g.add_node(1)"
   ]
  },
  {
   "cell_type": "markdown",
   "id": "b2f437eb-638b-4280-98af-e3e2c926acf9",
   "metadata": {
    "slideshow": {
     "slide_type": "fragment"
    }
   },
   "source": [
    "A list of nodes"
   ]
  },
  {
   "cell_type": "code",
   "execution_count": 5,
   "id": "52332d3e-676a-4d64-aa1f-cbf4337537c8",
   "metadata": {
    "slideshow": {
     "slide_type": "fragment"
    }
   },
   "outputs": [],
   "source": [
    "g.add_nodes_from([2 ,3])"
   ]
  },
  {
   "cell_type": "markdown",
   "id": "7a124f79-39c6-4168-8db0-30199d8893e5",
   "metadata": {
    "slideshow": {
     "slide_type": "subslide"
    }
   },
   "source": [
    "A container of nodes"
   ]
  },
  {
   "cell_type": "code",
   "execution_count": 6,
   "id": "a615808a-9e61-40dc-b496-f77090a3fc1f",
   "metadata": {
    "slideshow": {
     "slide_type": "fragment"
    }
   },
   "outputs": [],
   "source": [
    "h = nx.path_graph(10)\n",
    "g.add_nodes_from(h)"
   ]
  },
  {
   "cell_type": "code",
   "execution_count": 7,
   "id": "4605105a-406a-41d5-bf57-5c57a794da9e",
   "metadata": {
    "slideshow": {
     "slide_type": "fragment"
    }
   },
   "outputs": [
    {
     "data": {
      "text/plain": [
       "NodeView((1, 2, 3, 0, 4, 5, 6, 7, 8, 9))"
      ]
     },
     "execution_count": 7,
     "metadata": {},
     "output_type": "execute_result"
    }
   ],
   "source": [
    "g.nodes()"
   ]
  },
  {
   "cell_type": "markdown",
   "id": "ce765114-f8b3-45f1-b682-39e945b83f28",
   "metadata": {
    "slideshow": {
     "slide_type": "subslide"
    }
   },
   "source": [
    "Remove node of the graph"
   ]
  },
  {
   "cell_type": "code",
   "execution_count": 8,
   "id": "3e1dae7b-e901-498d-9f45-e0da9791bc65",
   "metadata": {
    "slideshow": {
     "slide_type": "fragment"
    }
   },
   "outputs": [],
   "source": [
    "g.remove_node(0)"
   ]
  },
  {
   "cell_type": "markdown",
   "id": "0344f5e3-a346-4262-8b82-b33d628c7dbc",
   "metadata": {
    "slideshow": {
     "slide_type": "fragment"
    }
   },
   "source": [
    "Single edge"
   ]
  },
  {
   "cell_type": "code",
   "execution_count": 9,
   "id": "9acbf22b-b300-44ad-91a2-f961641925a3",
   "metadata": {
    "slideshow": {
     "slide_type": "fragment"
    }
   },
   "outputs": [],
   "source": [
    "g.add_edge(1,2)"
   ]
  },
  {
   "cell_type": "markdown",
   "id": "170859a0-7bf6-4a5e-ba1f-2c79b0971360",
   "metadata": {
    "slideshow": {
     "slide_type": "subslide"
    }
   },
   "source": [
    "List of edges"
   ]
  },
  {
   "cell_type": "code",
   "execution_count": 10,
   "id": "8629bbf7-8333-4812-8d78-c054175d0b3f",
   "metadata": {
    "slideshow": {
     "slide_type": "fragment"
    }
   },
   "outputs": [],
   "source": [
    "g.add_edges_from([(1 ,2) ,(1 ,3)])"
   ]
  },
  {
   "cell_type": "markdown",
   "id": "c5d77ab1-45bf-4f1e-9c89-1ccb3ef0e020",
   "metadata": {
    "slideshow": {
     "slide_type": "fragment"
    }
   },
   "source": [
    "Container of edges"
   ]
  },
  {
   "cell_type": "code",
   "execution_count": 11,
   "id": "528781fc-3e79-4d35-a0b9-9f3766b47189",
   "metadata": {
    "slideshow": {
     "slide_type": "fragment"
    }
   },
   "outputs": [],
   "source": [
    "g.add_edges_from(h.edges())"
   ]
  },
  {
   "cell_type": "code",
   "execution_count": 12,
   "id": "b00ed665-c8a7-434c-89d6-bbbf09671b5b",
   "metadata": {
    "slideshow": {
     "slide_type": "subslide"
    }
   },
   "outputs": [
    {
     "data": {
      "text/plain": [
       "EdgeView([(1, 2), (1, 3), (1, 0), (2, 3), (3, 4), (4, 5), (5, 6), (6, 7), (7, 8), (8, 9)])"
      ]
     },
     "execution_count": 12,
     "metadata": {},
     "output_type": "execute_result"
    }
   ],
   "source": [
    "g.edges()"
   ]
  },
  {
   "cell_type": "markdown",
   "id": "c865e6fc-7db9-449f-a5bc-b1ae0dc9a179",
   "metadata": {
    "slideshow": {
     "slide_type": "fragment"
    }
   },
   "source": [
    "Remove edge of the graph"
   ]
  },
  {
   "cell_type": "code",
   "execution_count": 13,
   "id": "2e2f9e00-0128-4358-b41a-9c9016cc6493",
   "metadata": {
    "slideshow": {
     "slide_type": "fragment"
    }
   },
   "outputs": [],
   "source": [
    "g.remove_edge(1,2)"
   ]
  },
  {
   "cell_type": "code",
   "execution_count": 14,
   "id": "dc03601c-1ee4-4e75-adba-35b788d02289",
   "metadata": {
    "slideshow": {
     "slide_type": "subslide"
    }
   },
   "outputs": [
    {
     "data": {
      "text/plain": [
       "EdgeView([(1, 3), (1, 0), (2, 3), (3, 4), (4, 5), (5, 6), (6, 7), (7, 8), (8, 9)])"
      ]
     },
     "execution_count": 14,
     "metadata": {},
     "output_type": "execute_result"
    }
   ],
   "source": [
    "g.edges()"
   ]
  },
  {
   "cell_type": "markdown",
   "id": "5d8d4cc0-b190-4d16-81fe-d5828ade30b7",
   "metadata": {
    "slideshow": {
     "slide_type": "slide"
    }
   },
   "source": [
    "NetworkX is not primarily a graph drawing package but it provides basic drawing\n",
    "capabilities by using matplotlib. "
   ]
  },
  {
   "cell_type": "code",
   "execution_count": 15,
   "id": "5b6667af-661e-4851-a139-6029d3a972ce",
   "metadata": {
    "slideshow": {
     "slide_type": "fragment"
    }
   },
   "outputs": [
    {
     "data": {
      "image/png": "[encoded data removed]",
      "text/plain": [
       "<Figure size 432x288 with 1 Axes>"
      ]
     },
     "metadata": {},
     "output_type": "display_data"
    }
   ],
   "source": [
    "nx.draw(g, with_labels=True)"
   ]
  },
  {
   "cell_type": "markdown",
   "id": "9964fbcf-80c0-4968-8234-312c17e31ffd",
   "metadata": {
    "slideshow": {
     "slide_type": "subslide"
    }
   },
   "source": [
    "Precomputed Functions"
   ]
  },
  {
   "cell_type": "code",
   "execution_count": 16,
   "id": "48fe1b52-ec8f-48bc-a737-09d3000aff8b",
   "metadata": {
    "slideshow": {
     "slide_type": "fragment"
    }
   },
   "outputs": [],
   "source": [
    "shortest = nx.shortest_path(g)"
   ]
  },
  {
   "cell_type": "code",
   "execution_count": 17,
   "id": "00871ae0-dda5-4ee6-ad34-e068bd3970d0",
   "metadata": {
    "slideshow": {
     "slide_type": "fragment"
    }
   },
   "outputs": [
    {
     "data": {
      "text/plain": [
       "[2, 3, 1, 0]"
      ]
     },
     "execution_count": 17,
     "metadata": {},
     "output_type": "execute_result"
    }
   ],
   "source": [
    "shortest[2][0]"
   ]
  },
  {
   "cell_type": "code",
   "execution_count": 18,
   "id": "b3b3da5f-8a36-4766-ad44-0a024b0403c7",
   "metadata": {
    "slideshow": {
     "slide_type": "subslide"
    }
   },
   "outputs": [
    {
     "data": {
      "text/plain": [
       "10"
      ]
     },
     "execution_count": 18,
     "metadata": {},
     "output_type": "execute_result"
    }
   ],
   "source": [
    "g.number_of_nodes() # also g.order()"
   ]
  },
  {
   "cell_type": "code",
   "execution_count": 19,
   "id": "754b2ba5-5e09-4d32-8edd-bc96aff9827a",
   "metadata": {
    "slideshow": {
     "slide_type": "fragment"
    }
   },
   "outputs": [
    {
     "data": {
      "text/plain": [
       "9"
      ]
     },
     "execution_count": 19,
     "metadata": {},
     "output_type": "execute_result"
    }
   ],
   "source": [
    "g.number_of_edges() # also g.size()"
   ]
  },
  {
   "cell_type": "code",
   "execution_count": 20,
   "id": "ad2c6378-4c84-4218-8bd7-f3eb073ffe90",
   "metadata": {
    "slideshow": {
     "slide_type": "fragment"
    }
   },
   "outputs": [
    {
     "data": {
      "text/plain": [
       "3"
      ]
     },
     "execution_count": 20,
     "metadata": {},
     "output_type": "execute_result"
    }
   ],
   "source": [
    "g.degree(3)"
   ]
  },
  {
   "cell_type": "code",
   "execution_count": 21,
   "id": "fbe24d49-0688-4471-b5e8-e5001c44b332",
   "metadata": {
    "slideshow": {
     "slide_type": "fragment"
    }
   },
   "outputs": [
    {
     "data": {
      "text/plain": [
       "[1, 2, 4]"
      ]
     },
     "execution_count": 21,
     "metadata": {},
     "output_type": "execute_result"
    }
   ],
   "source": [
    "[n for n in g.neighbors(3)]"
   ]
  },
  {
   "cell_type": "markdown",
   "id": "1a824fd9-b7fa-4230-bdc9-524f8d2912c3",
   "metadata": {
    "slideshow": {
     "slide_type": "subslide"
    }
   },
   "source": [
    "Any NetworkX graph behaves like a Python dictionary with nodes as primary keys (only for access!)"
   ]
  },
  {
   "cell_type": "code",
   "execution_count": 22,
   "id": "3e342088-072c-4fc6-a7c6-eae86af687cd",
   "metadata": {
    "slideshow": {
     "slide_type": "fragment"
    }
   },
   "outputs": [
    {
     "data": {
      "text/plain": [
       "'5pm'"
      ]
     },
     "execution_count": 22,
     "metadata": {},
     "output_type": "execute_result"
    }
   ],
   "source": [
    "g.add_node(0, time='5pm')\n",
    "g.nodes[0]['time']"
   ]
  },
  {
   "cell_type": "markdown",
   "id": "2bed54da-7ba4-498b-bb9e-ba127878960f",
   "metadata": {
    "slideshow": {
     "slide_type": "subslide"
    }
   },
   "source": [
    "The special edge attribute ’weight’ should always be numeric and holds values used by\n",
    "algorithms requiring weighted edges. "
   ]
  },
  {
   "cell_type": "code",
   "execution_count": 23,
   "id": "148941c0-e3b2-40c1-a34d-6029a18cdaad",
   "metadata": {
    "slideshow": {
     "slide_type": "fragment"
    }
   },
   "outputs": [],
   "source": [
    "g.add_edge(1, 2, weight=4.0)"
   ]
  },
  {
   "cell_type": "code",
   "execution_count": 24,
   "id": "430ec49d-3359-4d28-ad1a-0d5fa3922fc6",
   "metadata": {
    "slideshow": {
     "slide_type": "fragment"
    }
   },
   "outputs": [
    {
     "data": {
      "text/plain": [
       "{'weight': 4.0}"
      ]
     },
     "execution_count": 24,
     "metadata": {},
     "output_type": "execute_result"
    }
   ],
   "source": [
    "g[1][2]"
   ]
  },
  {
   "cell_type": "markdown",
   "id": "70898ba6-6f77-4764-b58a-8e1ac48211f3",
   "metadata": {
    "slideshow": {
     "slide_type": "subslide"
    }
   },
   "source": [
    "Many applications require iteration over nodes or over edges: simple and easy in\n",
    "NetworkX"
   ]
  },
  {
   "cell_type": "code",
   "execution_count": 25,
   "id": "525aa13f-6eeb-4ae0-84bd-efc43da10da9",
   "metadata": {
    "slideshow": {
     "slide_type": "fragment"
    }
   },
   "outputs": [
    {
     "name": "stdout",
     "output_type": "stream",
     "text": [
      "1 3\n",
      "2 2\n",
      "3 3\n",
      "4 2\n",
      "5 2\n",
      "6 2\n",
      "7 2\n",
      "8 2\n",
      "9 1\n",
      "0 1\n"
     ]
    }
   ],
   "source": [
    "for node in g.nodes():\n",
    "    print (node, g.degree(node))"
   ]
  },
  {
   "cell_type": "code",
   "execution_count": 26,
   "id": "37c38e3e-1f6d-417b-a146-6d6e7aef86c2",
   "metadata": {
    "slideshow": {
     "slide_type": "fragment"
    }
   },
   "outputs": [
    {
     "name": "stdout",
     "output_type": "stream",
     "text": [
      "(1, 3, {})\n",
      "(1, 0, {})\n",
      "(1, 2, {'weight': 4.0})\n",
      "(2, 3, {})\n",
      "(3, 4, {})\n",
      "(4, 5, {})\n",
      "(5, 6, {})\n",
      "(6, 7, {})\n",
      "(7, 8, {})\n",
      "(8, 9, {})\n"
     ]
    }
   ],
   "source": [
    "for edge in g.edges(data=True):\n",
    "    print (edge)"
   ]
  },
  {
   "cell_type": "markdown",
   "id": "e0ee4177-0e70-414e-9117-152692f1d8a7",
   "metadata": {
    "slideshow": {
     "slide_type": "slide"
    }
   },
   "source": [
    "#### Retrieving a dataset"
   ]
  },
  {
   "cell_type": "code",
   "execution_count": 27,
   "id": "c3a8bf32-2d59-4d1d-8228-3a337c2a6caf",
   "metadata": {
    "slideshow": {
     "slide_type": "fragment"
    }
   },
   "outputs": [],
   "source": [
    "g = nx.florentine_families_graph() #small graph"
   ]
  },
  {
   "cell_type": "code",
   "execution_count": 28,
   "id": "3681c592-e89a-41b3-a532-17c3425da6e0",
   "metadata": {
    "slideshow": {
     "slide_type": "fragment"
    }
   },
   "outputs": [],
   "source": [
    "nodes, edges = g.order(), g.size()"
   ]
  },
  {
   "cell_type": "code",
   "execution_count": 29,
   "id": "2cee585d-2aa9-4f5d-8519-cc51ce883f50",
   "metadata": {
    "slideshow": {
     "slide_type": "fragment"
    }
   },
   "outputs": [],
   "source": [
    "avg_deg = float(nodes)/edges"
   ]
  },
  {
   "cell_type": "code",
   "execution_count": 30,
   "id": "cdde39e1-c3b7-44b6-af11-a2b5011ee603",
   "metadata": {
    "scrolled": true,
    "slideshow": {
     "slide_type": "fragment"
    }
   },
   "outputs": [
    {
     "name": "stdout",
     "output_type": "stream",
     "text": [
      "Nodes: 15\n",
      "Edges: 20\n",
      "Avg Degree: 0.75\n"
     ]
    }
   ],
   "source": [
    "print ('Nodes: {}\\nEdges: {}\\nAvg Degree: {}'.format(nodes, edges, avg_deg) )"
   ]
  },
  {
   "cell_type": "code",
   "execution_count": 31,
   "id": "52a3ca87-0257-4650-85c1-695bae7a262d",
   "metadata": {
    "slideshow": {
     "slide_type": "subslide"
    }
   },
   "outputs": [
    {
     "name": "stdout",
     "output_type": "stream",
     "text": [
      "('Acciaiuoli', 'Medici', {})\n",
      "('Medici', 'Barbadori', {})\n",
      "('Medici', 'Ridolfi', {})\n",
      "('Medici', 'Tornabuoni', {})\n",
      "('Medici', 'Albizzi', {})\n",
      "('Medici', 'Salviati', {})\n",
      "('Castellani', 'Peruzzi', {})\n",
      "('Castellani', 'Strozzi', {})\n",
      "('Castellani', 'Barbadori', {})\n",
      "('Peruzzi', 'Strozzi', {})\n",
      "('Peruzzi', 'Bischeri', {})\n",
      "('Strozzi', 'Ridolfi', {})\n",
      "('Strozzi', 'Bischeri', {})\n",
      "('Ridolfi', 'Tornabuoni', {})\n",
      "('Tornabuoni', 'Guadagni', {})\n",
      "('Albizzi', 'Ginori', {})\n",
      "('Albizzi', 'Guadagni', {})\n",
      "('Salviati', 'Pazzi', {})\n",
      "('Bischeri', 'Guadagni', {})\n",
      "('Guadagni', 'Lamberteschi', {})\n"
     ]
    }
   ],
   "source": [
    "for edge in g.edges(data=True):\n",
    "    print (edge)"
   ]
  },
  {
   "cell_type": "markdown",
   "id": "2f1419f5-0f32-416b-a064-928514575a1a",
   "metadata": {
    "slideshow": {
     "slide_type": "slide"
    }
   },
   "source": [
    "### 1.3 Centrality Measures"
   ]
  },
  {
   "cell_type": "code",
   "execution_count": 32,
   "id": "4604d5b2-047c-4c66-9b3a-ef916ff85ad0",
   "metadata": {
    "slideshow": {
     "slide_type": "fragment"
    }
   },
   "outputs": [],
   "source": [
    "def centrality_summary(centrality_output):\n",
    "    stats = pd.DataFrame([i for i in centrality_output.values()]).describe()\n",
    "    return stats"
   ]
  },
  {
   "cell_type": "markdown",
   "id": "832e8e58-5f1c-47f7-a8e5-35c101a7bc43",
   "metadata": {
    "slideshow": {
     "slide_type": "subslide"
    }
   },
   "source": [
    "**Degree centrality**  \n",
    "For particular node is the fraction of nodes it is connected to."
   ]
  },
  {
   "cell_type": "code",
   "execution_count": 33,
   "id": "aebcad99-9127-46bd-ae29-09cdc4ce38ff",
   "metadata": {
    "slideshow": {
     "slide_type": "fragment"
    }
   },
   "outputs": [],
   "source": [
    "degree = nx.degree_centrality(g)"
   ]
  },
  {
   "cell_type": "code",
   "execution_count": 34,
   "id": "0355f638-3bdf-4b23-a12b-2830af286096",
   "metadata": {
    "slideshow": {
     "slide_type": "fragment"
    }
   },
   "outputs": [
    {
     "data": {
      "text/plain": [
       "{'Acciaiuoli': 0.07142857142857142,\n",
       " 'Medici': 0.42857142857142855,\n",
       " 'Castellani': 0.21428571428571427,\n",
       " 'Peruzzi': 0.21428571428571427,\n",
       " 'Strozzi': 0.2857142857142857,\n",
       " 'Barbadori': 0.14285714285714285,\n",
       " 'Ridolfi': 0.21428571428571427,\n",
       " 'Tornabuoni': 0.21428571428571427,\n",
       " 'Albizzi': 0.21428571428571427,\n",
       " 'Salviati': 0.14285714285714285,\n",
       " 'Pazzi': 0.07142857142857142,\n",
       " 'Bischeri': 0.21428571428571427,\n",
       " 'Guadagni': 0.2857142857142857,\n",
       " 'Ginori': 0.07142857142857142,\n",
       " 'Lamberteschi': 0.07142857142857142}"
      ]
     },
     "execution_count": 34,
     "metadata": {},
     "output_type": "execute_result"
    }
   ],
   "source": [
    "degree"
   ]
  },
  {
   "cell_type": "code",
   "execution_count": 35,
   "id": "b2926a84-e3dc-43a1-aaf1-d0a6895fc5bb",
   "metadata": {
    "slideshow": {
     "slide_type": "subslide"
    }
   },
   "outputs": [
    {
     "data": {
      "text/html": [
       "<div>\n",
       "<style scoped>\n",
       "    .dataframe tbody tr th:only-of-type {\n",
       "        vertical-align: middle;\n",
       "    }\n",
       "\n",
       "    .dataframe tbody tr th {\n",
       "        vertical-align: top;\n",
       "    }\n",
       "\n",
       "    .dataframe thead th {\n",
       "        text-align: right;\n",
       "    }\n",
       "</style>\n",
       "<table border=\"1\" class=\"dataframe\">\n",
       "  <thead>\n",
       "    <tr style=\"text-align: right;\">\n",
       "      <th></th>\n",
       "      <th>0</th>\n",
       "    </tr>\n",
       "  </thead>\n",
       "  <tbody>\n",
       "    <tr>\n",
       "      <th>count</th>\n",
       "      <td>15.000000</td>\n",
       "    </tr>\n",
       "    <tr>\n",
       "      <th>mean</th>\n",
       "      <td>0.190476</td>\n",
       "    </tr>\n",
       "    <tr>\n",
       "      <th>std</th>\n",
       "      <td>0.099805</td>\n",
       "    </tr>\n",
       "    <tr>\n",
       "      <th>min</th>\n",
       "      <td>0.071429</td>\n",
       "    </tr>\n",
       "    <tr>\n",
       "      <th>25%</th>\n",
       "      <td>0.107143</td>\n",
       "    </tr>\n",
       "    <tr>\n",
       "      <th>50%</th>\n",
       "      <td>0.214286</td>\n",
       "    </tr>\n",
       "    <tr>\n",
       "      <th>75%</th>\n",
       "      <td>0.214286</td>\n",
       "    </tr>\n",
       "    <tr>\n",
       "      <th>max</th>\n",
       "      <td>0.428571</td>\n",
       "    </tr>\n",
       "  </tbody>\n",
       "</table>\n",
       "</div>"
      ],
      "text/plain": [
       "               0\n",
       "count  15.000000\n",
       "mean    0.190476\n",
       "std     0.099805\n",
       "min     0.071429\n",
       "25%     0.107143\n",
       "50%     0.214286\n",
       "75%     0.214286\n",
       "max     0.428571"
      ]
     },
     "execution_count": 35,
     "metadata": {},
     "output_type": "execute_result"
    }
   ],
   "source": [
    "centrality_summary(degree)"
   ]
  },
  {
   "cell_type": "markdown",
   "id": "a5edbadd-db36-437d-8d6a-04d4516d4053",
   "metadata": {
    "slideshow": {
     "slide_type": "subslide"
    }
   },
   "source": [
    "**Closeness centrality**   \n",
    "Notice that higher values of closeness indicate higher centrality."
   ]
  },
  {
   "cell_type": "markdown",
   "id": "8794a934-c338-4059-9984-dab04c8aaf3c",
   "metadata": {
    "slideshow": {
     "slide_type": "skip"
    }
   },
   "source": [
    "For a particular node, $u$ is the reciprocal of the sum of the shortest path distances from $u$ to all $n-1$ other nodes. Since the sum of distances depends on the number of nodes in the graph, closeness is normalized by the sum of minimum possible distances $n-1$.  \n",
    "\n",
    "$C(u) = \\frac{n - 1}{\\sum_{v=1}^{n-1} d(v, u)}$  \n",
    "where $d(v, u)$ is the shortest-path distance between $v$ and $u$, and $n$ is the number of nodes in the graph.  "
   ]
  },
  {
   "cell_type": "code",
   "execution_count": 36,
   "id": "9627428e-b8cf-4220-af80-a569aae1eb45",
   "metadata": {
    "slideshow": {
     "slide_type": "fragment"
    }
   },
   "outputs": [],
   "source": [
    "closeness = nx.closeness_centrality(g)"
   ]
  },
  {
   "cell_type": "code",
   "execution_count": 37,
   "id": "8c9f3d16-5b5a-48de-a78f-07423630ea8a",
   "metadata": {
    "slideshow": {
     "slide_type": "fragment"
    }
   },
   "outputs": [
    {
     "data": {
      "text/plain": [
       "{'Acciaiuoli': 0.3684210526315789,\n",
       " 'Medici': 0.56,\n",
       " 'Castellani': 0.3888888888888889,\n",
       " 'Peruzzi': 0.3684210526315789,\n",
       " 'Strozzi': 0.4375,\n",
       " 'Barbadori': 0.4375,\n",
       " 'Ridolfi': 0.5,\n",
       " 'Tornabuoni': 0.4827586206896552,\n",
       " 'Albizzi': 0.4827586206896552,\n",
       " 'Salviati': 0.3888888888888889,\n",
       " 'Pazzi': 0.2857142857142857,\n",
       " 'Bischeri': 0.4,\n",
       " 'Guadagni': 0.4666666666666667,\n",
       " 'Ginori': 0.3333333333333333,\n",
       " 'Lamberteschi': 0.32558139534883723}"
      ]
     },
     "execution_count": 37,
     "metadata": {},
     "output_type": "execute_result"
    }
   ],
   "source": [
    "closeness"
   ]
  },
  {
   "cell_type": "code",
   "execution_count": 38,
   "id": "8ef6b497-17a3-4b2e-a3d5-a4cd956f3197",
   "metadata": {
    "slideshow": {
     "slide_type": "subslide"
    }
   },
   "outputs": [
    {
     "data": {
      "text/html": [
       "<div>\n",
       "<style scoped>\n",
       "    .dataframe tbody tr th:only-of-type {\n",
       "        vertical-align: middle;\n",
       "    }\n",
       "\n",
       "    .dataframe tbody tr th {\n",
       "        vertical-align: top;\n",
       "    }\n",
       "\n",
       "    .dataframe thead th {\n",
       "        text-align: right;\n",
       "    }\n",
       "</style>\n",
       "<table border=\"1\" class=\"dataframe\">\n",
       "  <thead>\n",
       "    <tr style=\"text-align: right;\">\n",
       "      <th></th>\n",
       "      <th>0</th>\n",
       "    </tr>\n",
       "  </thead>\n",
       "  <tbody>\n",
       "    <tr>\n",
       "      <th>count</th>\n",
       "      <td>15.000000</td>\n",
       "    </tr>\n",
       "    <tr>\n",
       "      <th>mean</th>\n",
       "      <td>0.415096</td>\n",
       "    </tr>\n",
       "    <tr>\n",
       "      <th>std</th>\n",
       "      <td>0.074844</td>\n",
       "    </tr>\n",
       "    <tr>\n",
       "      <th>min</th>\n",
       "      <td>0.285714</td>\n",
       "    </tr>\n",
       "    <tr>\n",
       "      <th>25%</th>\n",
       "      <td>0.368421</td>\n",
       "    </tr>\n",
       "    <tr>\n",
       "      <th>50%</th>\n",
       "      <td>0.400000</td>\n",
       "    </tr>\n",
       "    <tr>\n",
       "      <th>75%</th>\n",
       "      <td>0.474713</td>\n",
       "    </tr>\n",
       "    <tr>\n",
       "      <th>max</th>\n",
       "      <td>0.560000</td>\n",
       "    </tr>\n",
       "  </tbody>\n",
       "</table>\n",
       "</div>"
      ],
      "text/plain": [
       "               0\n",
       "count  15.000000\n",
       "mean    0.415096\n",
       "std     0.074844\n",
       "min     0.285714\n",
       "25%     0.368421\n",
       "50%     0.400000\n",
       "75%     0.474713\n",
       "max     0.560000"
      ]
     },
     "execution_count": 38,
     "metadata": {},
     "output_type": "execute_result"
    }
   ],
   "source": [
    "centrality_summary(closeness)"
   ]
  },
  {
   "cell_type": "markdown",
   "id": "440afc94-377e-4461-aba1-8d1e883f440d",
   "metadata": {
    "slideshow": {
     "slide_type": "subslide"
    }
   },
   "source": [
    "**Betweenness centrality**   \n",
    "It helps to detect influential nodes (How many times do they pass through me?) "
   ]
  },
  {
   "cell_type": "markdown",
   "id": "3064c42f-98d7-4097-bc7e-af58ad733b80",
   "metadata": {
    "slideshow": {
     "slide_type": "skip"
    }
   },
   "source": [
    "For a particular node $v$ is the sum of the fraction of all-pairs shortest paths that pass through $v$:  \n",
    "\n",
    "$c_B(v) =\\sum_{s,t \\in V} \\frac{\\sigma(s, t|v)}{\\sigma(s, t)}$  \n",
    "where $V$ is the set of nodes, $\\sigma(s, t)$ is the number of shortest $(s, t)$-paths, and $\\sigma(s, t|v)$ is the number of those paths passing through some node $v$ other than $(s, t)$. If $(s = t)$, $(\\sigma(s, t) = 1)$, and if $(v \\in {s, t})$, $(\\sigma(s, t|v) = 0)$   "
   ]
  },
  {
   "cell_type": "code",
   "execution_count": 39,
   "id": "1b404df7-2a8d-4172-9c58-36c2a558abb7",
   "metadata": {
    "slideshow": {
     "slide_type": "fragment"
    }
   },
   "outputs": [],
   "source": [
    "betweenness = nx.betweenness_centrality(g)"
   ]
  },
  {
   "cell_type": "code",
   "execution_count": 40,
   "id": "44069177-c645-402e-bc75-f8d114a60b97",
   "metadata": {},
   "outputs": [
    {
     "data": {
      "text/plain": [
       "{'Acciaiuoli': 0.0,\n",
       " 'Medici': 0.521978021978022,\n",
       " 'Castellani': 0.05494505494505495,\n",
       " 'Peruzzi': 0.02197802197802198,\n",
       " 'Strozzi': 0.10256410256410257,\n",
       " 'Barbadori': 0.09340659340659341,\n",
       " 'Ridolfi': 0.11355311355311355,\n",
       " 'Tornabuoni': 0.09157509157509157,\n",
       " 'Albizzi': 0.21245421245421245,\n",
       " 'Salviati': 0.14285714285714288,\n",
       " 'Pazzi': 0.0,\n",
       " 'Bischeri': 0.1043956043956044,\n",
       " 'Guadagni': 0.2545787545787546,\n",
       " 'Ginori': 0.0,\n",
       " 'Lamberteschi': 0.0}"
      ]
     },
     "execution_count": 40,
     "metadata": {},
     "output_type": "execute_result"
    }
   ],
   "source": [
    "betweenness"
   ]
  },
  {
   "cell_type": "markdown",
   "id": "61916290-59f5-4f24-b096-2b975ac0e6a5",
   "metadata": {
    "slideshow": {
     "slide_type": "subslide"
    }
   },
   "source": [
    "**Communicability**   \n",
    "Between pairs of nodes in G is the sum of closed walks of different lengths starting at node u and ending at node v. "
   ]
  },
  {
   "cell_type": "markdown",
   "id": "27b550b6-7650-4f01-a5e4-64b1a8481574",
   "metadata": {
    "slideshow": {
     "slide_type": "skip"
    }
   },
   "source": [
    "This algorithm uses a spectral decomposition of the adjacency matrix. Let $G=(V,E)$ be a simple undirected graph. Using the connection between the powers of the adjacency matrix and the number of walks in the graph.  \n",
    "\n",
    "$C(u,v)=\\sum_{j=1}^{n}\\phi_{j}(u)\\phi_{j}(v)e^{\\lambda_{j}}$    \n",
    "where $\\phi_{j}(u)$ is the $u\\rm{th}$ element of the $j\\rm{th}$ orthonormal eigenvector of the adjacency matrix associated with the eigenvalue $\\lambda_{j}$."
   ]
  },
  {
   "cell_type": "code",
   "execution_count": 41,
   "id": "94906844-5338-4190-a2e0-9c0b7eadfeb5",
   "metadata": {
    "slideshow": {
     "slide_type": "fragment"
    }
   },
   "outputs": [],
   "source": [
    "communicability = nx.communicability(g)"
   ]
  },
  {
   "cell_type": "code",
   "execution_count": 42,
   "id": "ba0a0d7b-864f-4262-91b5-9671e580ffc9",
   "metadata": {},
   "outputs": [
    {
     "data": {
      "text/plain": [
       "{'Acciaiuoli': {'Acciaiuoli': 1.8493484166379464,\n",
       "  'Medici': 2.6142213005787958,\n",
       "  'Castellani': 0.36948441281501976,\n",
       "  'Peruzzi': 0.20953408514780314,\n",
       "  'Strozzi': 0.46713229348281826,\n",
       "  'Barbadori': 0.923619344788346,\n",
       "  'Ridolfi': 1.2608954970140653,\n",
       "  'Tornabuoni': 1.2975131947316112,\n",
       "  'Albizzi': 1.041148074007261,\n",
       "  'Salviati': 0.9026911439750323,\n",
       "  'Pazzi': 0.24065352295436138,\n",
       "  'Bischeri': 0.26054561127183984,\n",
       "  'Guadagni': 0.6540613878987095,\n",
       "  'Ginori': 0.2650403477860643,\n",
       "  'Lamberteschi': 0.13471992661986557},\n",
       " 'Medici': {'Acciaiuoli': 2.6142213005787958,\n",
       "  'Medici': 7.27521567115426,\n",
       "  'Castellani': 1.6002857234189651,\n",
       "  'Peruzzi': 1.097162317569678,\n",
       "  'Strozzi': 2.1004596062487257,\n",
       "  'Barbadori': 2.9837057133938174,\n",
       "  'Ridolfi': 4.378866788793227,\n",
       "  'Tornabuoni': 4.529178185491571,\n",
       "  'Albizzi': 3.5333230362635693,\n",
       "  'Salviati': 2.8548748235331614,\n",
       "  'Pazzi': 0.9026911439750318,\n",
       "  'Bischeri': 1.3307277665293298,\n",
       "  'Guadagni': 2.7339268066305795,\n",
       "  'Ginori': 1.04114807400726,\n",
       "  'Lamberteschi': 0.6540613878987104},\n",
       " 'Castellani': {'Acciaiuoli': 0.36948441281501976,\n",
       "  'Medici': 1.6002857234189651,\n",
       "  'Castellani': 4.026543887306136,\n",
       "  'Peruzzi': 3.5871796739151485,\n",
       "  'Strozzi': 3.922712516920291,\n",
       "  'Barbadori': 2.1665071976346866,\n",
       "  'Ridolfi': 1.7303742899397099,\n",
       "  'Tornabuoni': 0.9595606330537196,\n",
       "  'Albizzi': 0.5727036127374128,\n",
       "  'Salviati': 0.38269749103167117,\n",
       "  'Pazzi': 0.07627165729314023,\n",
       "  'Bischeri': 2.4627881086177226,\n",
       "  'Guadagni': 0.9441898039083341,\n",
       "  'Ginori': 0.10846015423798144,\n",
       "  'Lamberteschi': 0.18522685061128252},\n",
       " 'Peruzzi': {'Acciaiuoli': 0.20953408514780314,\n",
       "  'Medici': 1.097162317569678,\n",
       "  'Castellani': 3.5871796739151485,\n",
       "  'Peruzzi': 4.564129036412995,\n",
       "  'Strozzi': 4.5342590255912745,\n",
       "  'Barbadori': 1.3136564508398851,\n",
       "  'Ridolfi': 1.749568263602859,\n",
       "  'Tornabuoni': 0.9667766266445281,\n",
       "  'Albizzi': 0.5771869817708248,\n",
       "  'Salviati': 0.21475068819112975,\n",
       "  'Pazzi': 0.03566688460768863,\n",
       "  'Bischeri': 3.615354839035187,\n",
       "  'Guadagni': 1.4772242251953713,\n",
       "  'Ginori': 0.10904613380210215,\n",
       "  'Lamberteschi': 0.34959191924836686},\n",
       " 'Strozzi': {'Acciaiuoli': 0.46713229348281826,\n",
       "  'Medici': 2.1004596062487257,\n",
       "  'Castellani': 3.922712516920291,\n",
       "  'Peruzzi': 4.5342590255912745,\n",
       "  'Strozzi': 5.632055748390273,\n",
       "  'Barbadori': 1.6405711857971759,\n",
       "  'Ridolfi': 3.0672457431486437,\n",
       "  'Tornabuoni': 1.823109011080541,\n",
       "  'Albizzi': 0.9261404715492165,\n",
       "  'Salviati': 0.48284389125280736,\n",
       "  'Pazzi': 0.0931640052529687,\n",
       "  'Bischeri': 3.9614635476556277,\n",
       "  'Guadagni': 1.8637667413147887,\n",
       "  'Ginori': 0.18062478183813568,\n",
       "  'Lamberteschi': 0.428317289961207},\n",
       " 'Barbadori': {'Acciaiuoli': 0.923619344788346,\n",
       "  'Medici': 2.9837057133938174,\n",
       "  'Castellani': 2.1665071976346866,\n",
       "  'Peruzzi': 1.3136564508398851,\n",
       "  'Strozzi': 1.6405711857971759,\n",
       "  'Barbadori': 2.6726019740880442,\n",
       "  'Ridolfi': 1.6657448666414856,\n",
       "  'Tornabuoni': 1.484964179541942,\n",
       "  'Albizzi': 1.1496082282452442,\n",
       "  'Salviati': 0.9789628012681735,\n",
       "  'Pazzi': 0.25386660117101245,\n",
       "  'Bischeri': 0.8772636080529638,\n",
       "  'Guadagni': 0.8392882385099936,\n",
       "  'Ginori': 0.2830326970971764,\n",
       "  'Lamberteschi': 0.16628059469876189},\n",
       " 'Ridolfi': {'Acciaiuoli': 1.2608954970140653,\n",
       "  'Medici': 4.378866788793227,\n",
       "  'Castellani': 1.7303742899397099,\n",
       "  'Peruzzi': 1.749568263602859,\n",
       "  'Strozzi': 3.0672457431486437,\n",
       "  'Barbadori': 1.6657448666414856,\n",
       "  'Ridolfi': 4.27510387545985,\n",
       "  'Tornabuoni': 3.563849668780265,\n",
       "  'Albizzi': 1.8103719426128928,\n",
       "  'Salviati': 1.328887612386012,\n",
       "  'Pazzi': 0.3255903237069592,\n",
       "  'Bischeri': 1.800577936717133,\n",
       "  'Guadagni': 2.0166624696671036,\n",
       "  'Ginori': 0.420532137814425,\n",
       "  'Lamberteschi': 0.4652678868322565},\n",
       " 'Tornabuoni': {'Acciaiuoli': 1.2975131947316112,\n",
       "  'Medici': 4.529178185491571,\n",
       "  'Castellani': 0.9595606330537196,\n",
       "  'Peruzzi': 0.9667766266445281,\n",
       "  'Strozzi': 1.823109011080541,\n",
       "  'Barbadori': 1.484964179541942,\n",
       "  'Ridolfi': 3.563849668780265,\n",
       "  'Tornabuoni': 4.318345937348061,\n",
       "  'Albizzi': 2.3565978884619683,\n",
       "  'Salviati': 1.3667383977142238,\n",
       "  'Pazzi': 0.333032463158009,\n",
       "  'Bischeri': 1.5412851622336436,\n",
       "  'Guadagni': 3.042373886997184,\n",
       "  'Ginori': 0.588599086767494,\n",
       "  'Lamberteschi': 0.9342837918071872},\n",
       " 'Albizzi': {'Acciaiuoli': 1.041148074007261,\n",
       "  'Medici': 3.5333230362635693,\n",
       "  'Castellani': 0.5727036127374128,\n",
       "  'Peruzzi': 0.5771869817708248,\n",
       "  'Strozzi': 0.9261404715492165,\n",
       "  'Barbadori': 1.1496082282452442,\n",
       "  'Ridolfi': 1.8103719426128928,\n",
       "  'Tornabuoni': 2.3565978884619683,\n",
       "  'Albizzi': 3.5926638294412685,\n",
       "  'Salviati': 1.0999005890234703,\n",
       "  'Pazzi': 0.2757138990956831,\n",
       "  'Bischeri': 1.1845885922805195,\n",
       "  'Guadagni': 2.8164561803797863,\n",
       "  'Ginori': 1.7004048677027246,\n",
       "  'Lamberteschi': 0.8949176766402802},\n",
       " 'Salviati': {'Acciaiuoli': 0.9026911439750323,\n",
       "  'Medici': 2.8548748235331614,\n",
       "  'Castellani': 0.38269749103167117,\n",
       "  'Peruzzi': 0.21475068819112975,\n",
       "  'Strozzi': 0.48284389125280736,\n",
       "  'Barbadori': 0.9789628012681735,\n",
       "  'Ridolfi': 1.328887612386012,\n",
       "  'Tornabuoni': 1.3667383977142238,\n",
       "  'Albizzi': 1.0999005890234703,\n",
       "  'Salviati': 2.500726270762396,\n",
       "  'Pazzi': 1.4260180134471356,\n",
       "  'Bischeri': 0.26728781989288963,\n",
       "  'Guadagni': 0.6784482127304159,\n",
       "  'Ginori': 0.2757138990956832,\n",
       "  'Lamberteschi': 0.13845693003223103},\n",
       " 'Pazzi': {'Acciaiuoli': 0.24065352295436138,\n",
       "  'Medici': 0.9026911439750318,\n",
       "  'Castellani': 0.07627165729314023,\n",
       "  'Peruzzi': 0.03566688460768863,\n",
       "  'Strozzi': 0.0931640052529687,\n",
       "  'Barbadori': 0.25386660117101245,\n",
       "  'Ridolfi': 0.3255903237069592,\n",
       "  'Tornabuoni': 0.333032463158009,\n",
       "  'Albizzi': 0.2757138990956831,\n",
       "  'Salviati': 1.4260180134471356,\n",
       "  'Pazzi': 1.5980351267873618,\n",
       "  'Bischeri': 0.04531502564501716,\n",
       "  'Guadagni': 0.13845693003223047,\n",
       "  'Ginori': 0.05875251501620678,\n",
       "  'Lamberteschi': 0.024386824831703166},\n",
       " 'Bischeri': {'Acciaiuoli': 0.26054561127183984,\n",
       "  'Medici': 1.3307277665293298,\n",
       "  'Castellani': 2.4627881086177226,\n",
       "  'Peruzzi': 3.615354839035187,\n",
       "  'Strozzi': 3.9614635476556277,\n",
       "  'Barbadori': 0.8772636080529638,\n",
       "  'Ridolfi': 1.800577936717133,\n",
       "  'Tornabuoni': 1.5412851622336436,\n",
       "  'Albizzi': 1.1845885922805195,\n",
       "  'Salviati': 0.26728781989288963,\n",
       "  'Pazzi': 0.04531502564501716,\n",
       "  'Bischeri': 4.151360630926291,\n",
       "  'Guadagni': 2.700953821475794,\n",
       "  'Ginori': 0.288102045694705,\n",
       "  'Lamberteschi': 0.8636800846228818},\n",
       " 'Guadagni': {'Acciaiuoli': 0.6540613878987095,\n",
       "  'Medici': 2.7339268066305795,\n",
       "  'Castellani': 0.9441898039083341,\n",
       "  'Peruzzi': 1.4772242251953713,\n",
       "  'Strozzi': 1.8637667413147887,\n",
       "  'Barbadori': 0.8392882385099936,\n",
       "  'Ridolfi': 2.0166624696671036,\n",
       "  'Tornabuoni': 3.042373886997184,\n",
       "  'Albizzi': 2.8164561803797863,\n",
       "  'Salviati': 0.6784482127304159,\n",
       "  'Pazzi': 0.13845693003223047,\n",
       "  'Bischeri': 2.700953821475794,\n",
       "  'Guadagni': 4.399923503553181,\n",
       "  'Ginori': 0.894917676640279,\n",
       "  'Lamberteschi': 1.9230446122662186},\n",
       " 'Ginori': {'Acciaiuoli': 0.2650403477860643,\n",
       "  'Medici': 1.04114807400726,\n",
       "  'Castellani': 0.10846015423798144,\n",
       "  'Peruzzi': 0.10904613380210215,\n",
       "  'Strozzi': 0.18062478183813568,\n",
       "  'Barbadori': 0.2830326970971764,\n",
       "  'Ridolfi': 0.420532137814425,\n",
       "  'Tornabuoni': 0.588599086767494,\n",
       "  'Albizzi': 1.7004048677027246,\n",
       "  'Salviati': 0.2757138990956832,\n",
       "  'Pazzi': 0.05875251501620678,\n",
       "  'Bischeri': 0.288102045694705,\n",
       "  'Guadagni': 0.894917676640279,\n",
       "  'Ginori': 1.6565980787937271,\n",
       "  'Lamberteschi': 0.23935018021485863},\n",
       " 'Lamberteschi': {'Acciaiuoli': 0.13471992661986557,\n",
       "  'Medici': 0.6540613878987104,\n",
       "  'Castellani': 0.18522685061128252,\n",
       "  'Peruzzi': 0.34959191924836686,\n",
       "  'Strozzi': 0.428317289961207,\n",
       "  'Barbadori': 0.16628059469876189,\n",
       "  'Ridolfi': 0.4652678868322565,\n",
       "  'Tornabuoni': 0.9342837918071872,\n",
       "  'Albizzi': 0.8949176766402802,\n",
       "  'Salviati': 0.13845693003223103,\n",
       "  'Pazzi': 0.024386824831703166,\n",
       "  'Bischeri': 0.8636800846228818,\n",
       "  'Guadagni': 1.9230446122662186,\n",
       "  'Ginori': 0.23935018021485863,\n",
       "  'Lamberteschi': 1.7070419504828327}}"
      ]
     },
     "execution_count": 42,
     "metadata": {},
     "output_type": "execute_result"
    }
   ],
   "source": [
    "communicability"
   ]
  },
  {
   "cell_type": "markdown",
   "id": "0c029a0f-77ff-442b-8d17-37a399e35f74",
   "metadata": {
    "slideshow": {
     "slide_type": "subslide"
    }
   },
   "source": [
    "### Plotting Betweenness"
   ]
  },
  {
   "cell_type": "code",
   "execution_count": 43,
   "id": "3b42ae3a-2069-4943-bf3b-c3e4f0c0c91b",
   "metadata": {
    "slideshow": {
     "slide_type": "fragment"
    }
   },
   "outputs": [],
   "source": [
    "tradeoff = 0.1\n",
    "highbetw = {key if value > tradeoff else None for key, value in betweenness.items()}\n",
    "normbetw = {key if value <= tradeoff else None for key, value in betweenness.items()}"
   ]
  },
  {
   "cell_type": "code",
   "execution_count": 44,
   "id": "05e73c8c-d9fb-4fa8-b95c-7b8cb0f3eb57",
   "metadata": {
    "slideshow": {
     "slide_type": "fragment"
    }
   },
   "outputs": [],
   "source": [
    "subgraphs = [highbetw,normbetw]\n",
    "colors = [\"lightgreen\", \"lemonchiffon\"] #more.. \"skyblue\", \"mistyrose\", \"aliceblue\"]\n",
    "def find_color(node):\n",
    "    for subgraph in subgraphs:\n",
    "        if node in subgraph:\n",
    "            return colors[subgraphs.index(subgraph)]\n",
    "    return \"ghostwhite\""
   ]
  },
  {
   "cell_type": "code",
   "execution_count": 45,
   "id": "0894fffd-09c2-4eef-8b1b-e13718321072",
   "metadata": {
    "slideshow": {
     "slide_type": "subslide"
    }
   },
   "outputs": [
    {
     "data": {
      "image/png": "[encoded data removed]",
      "text/plain": [
       "<Figure size 864x576 with 1 Axes>"
      ]
     },
     "metadata": {},
     "output_type": "display_data"
    }
   ],
   "source": [
    "node_colors = [find_color(node) for node in g.nodes()]\n",
    "plt.figure(figsize=(12, 8))\n",
    "#nx.draw(g, with_labels=True, node_size=1400, node_color=node_colors, width=0.3)\n",
    "nx.draw_circular(g, with_labels=True, node_size=1400, node_color=node_colors, width=0.3)"
   ]
  },
  {
   "cell_type": "markdown",
   "id": "a7a92518-af9c-4f36-a51b-1f32d699bde4",
   "metadata": {
    "slideshow": {
     "slide_type": "slide"
    }
   },
   "source": [
    "### Graph Properties"
   ]
  },
  {
   "cell_type": "markdown",
   "id": "691a2b9b-c88c-4609-99cf-b249aa131b12",
   "metadata": {
    "slideshow": {
     "slide_type": "fragment"
    }
   },
   "source": [
    "As a mathematical object a graph has shape properties by definition"
   ]
  },
  {
   "cell_type": "markdown",
   "id": "90e9441d-35c8-4a94-8cb4-abc2ef928489",
   "metadata": {
    "slideshow": {
     "slide_type": "subslide"
    }
   },
   "source": [
    "#### Degree Frequency"
   ]
  },
  {
   "cell_type": "code",
   "execution_count": 46,
   "id": "b6d60609-068a-44c3-9717-a4f09f12d693",
   "metadata": {
    "slideshow": {
     "slide_type": "fragment"
    }
   },
   "outputs": [],
   "source": [
    "# Create function to retrieve nodes and its degrees\n",
    "def degree_table(degree_vector):\n",
    "    d_table = pd.DataFrame()\n",
    "    nodes, degrees = [], []\n",
    "    for node, degree in degree_vector:\n",
    "        nodes.append(node)\n",
    "        degrees.append(degree)\n",
    "    d_table['nodes'] = nodes\n",
    "    d_table['degrees'] = degrees\n",
    "    return d_table"
   ]
  },
  {
   "cell_type": "code",
   "execution_count": 47,
   "id": "5c06d12d-1856-42b3-8942-8eae87712383",
   "metadata": {
    "slideshow": {
     "slide_type": "fragment"
    }
   },
   "outputs": [],
   "source": [
    "degrees = degree_table(g.degree()) #also in_degree(), g.out_degree()\n",
    "plot_degrees = degrees.groupby('degrees').count().head(10)"
   ]
  },
  {
   "cell_type": "code",
   "execution_count": 48,
   "id": "fe85777b-7978-4068-a3ed-2960fed8dbcc",
   "metadata": {
    "slideshow": {
     "slide_type": "subslide"
    }
   },
   "outputs": [
    {
     "data": {
      "text/plain": [
       "Text(0, 0.5, 'Number of nodes')"
      ]
     },
     "execution_count": 48,
     "metadata": {},
     "output_type": "execute_result"
    },
    {
     "data": {
      "image/png": "[encoded data removed]",
      "text/plain": [
       "<Figure size 720x288 with 1 Axes>"
      ]
     },
     "metadata": {
      "needs_background": "light"
     },
     "output_type": "display_data"
    }
   ],
   "source": [
    "plt.figure(figsize=(10, 4))\n",
    "plt.bar(plot_degrees.index, plot_degrees['nodes']) # degree\n",
    "plt.xlabel('Degree')\n",
    "plt.ylabel('Number of nodes')"
   ]
  },
  {
   "cell_type": "markdown",
   "id": "f84982d0-0dd1-4f5c-af2d-cd115bbf014d",
   "metadata": {
    "slideshow": {
     "slide_type": "subslide"
    }
   },
   "source": [
    "**Eccentricity**   \n",
    "Of a node v is the maximum distance from v to all other nodes in G."
   ]
  },
  {
   "cell_type": "markdown",
   "id": "1d15c23d-7fd8-4ecb-9d48-623cbd1c1f4c",
   "metadata": {
    "slideshow": {
     "slide_type": "fragment"
    }
   },
   "source": [
    "The **diameter** is the maximum eccentricity."
   ]
  },
  {
   "cell_type": "code",
   "execution_count": 49,
   "id": "ee9c4249-cfb2-4931-ba6b-939205b5f6c5",
   "metadata": {
    "slideshow": {
     "slide_type": "fragment"
    }
   },
   "outputs": [
    {
     "data": {
      "text/plain": [
       "5"
      ]
     },
     "execution_count": 49,
     "metadata": {},
     "output_type": "execute_result"
    }
   ],
   "source": [
    "nx.diameter(g)"
   ]
  },
  {
   "cell_type": "markdown",
   "id": "11eb53c6-a41d-42b7-9b22-62b96ea19f29",
   "metadata": {
    "slideshow": {
     "slide_type": "subslide"
    }
   },
   "source": [
    "The **radius** is the minimum eccentricity."
   ]
  },
  {
   "cell_type": "code",
   "execution_count": 50,
   "id": "4be81050-dc3f-422e-b880-93e0515f2679",
   "metadata": {
    "slideshow": {
     "slide_type": "fragment"
    }
   },
   "outputs": [
    {
     "data": {
      "text/plain": [
       "3"
      ]
     },
     "execution_count": 50,
     "metadata": {},
     "output_type": "execute_result"
    }
   ],
   "source": [
    "nx.radius(g)"
   ]
  },
  {
   "cell_type": "markdown",
   "id": "07adbe4d-7faf-4ac1-b60c-14b054ef626a",
   "metadata": {
    "slideshow": {
     "slide_type": "fragment"
    }
   },
   "source": [
    "The **center** is the set of nodes with eccentricity equal to radius."
   ]
  },
  {
   "cell_type": "code",
   "execution_count": 51,
   "id": "b3c46a91-0895-41f5-900a-47cc19073f2f",
   "metadata": {
    "slideshow": {
     "slide_type": "fragment"
    }
   },
   "outputs": [
    {
     "data": {
      "text/plain": [
       "['Medici', 'Ridolfi', 'Tornabuoni', 'Albizzi']"
      ]
     },
     "execution_count": 51,
     "metadata": {},
     "output_type": "execute_result"
    }
   ],
   "source": [
    "nx.center(g)"
   ]
  },
  {
   "cell_type": "markdown",
   "id": "26a6b084-9cb2-4e3d-855b-c55b6a529816",
   "metadata": {
    "slideshow": {
     "slide_type": "subslide"
    }
   },
   "source": [
    "The **dijkstra** method to find the shortest path between two nodes "
   ]
  },
  {
   "cell_type": "code",
   "execution_count": 52,
   "id": "7af50547-43a7-4156-b750-8d4852d27bf5",
   "metadata": {
    "slideshow": {
     "slide_type": "fragment"
    }
   },
   "outputs": [],
   "source": [
    "dijkstra = nx.dijkstra_path(g,'Barbadori','Lamberteschi')"
   ]
  },
  {
   "cell_type": "code",
   "execution_count": 53,
   "id": "ad6624e2-c71d-446f-8c39-e14c5385a8c1",
   "metadata": {
    "slideshow": {
     "slide_type": "subslide"
    }
   },
   "outputs": [
    {
     "data": {
      "text/plain": [
       "['Barbadori', 'Medici', 'Tornabuoni', 'Guadagni', 'Lamberteschi']"
      ]
     },
     "execution_count": 53,
     "metadata": {},
     "output_type": "execute_result"
    }
   ],
   "source": [
    "dijkstra"
   ]
  },
  {
   "cell_type": "markdown",
   "id": "29cca24f-34c2-46d6-9965-3b817ad42783",
   "metadata": {
    "slideshow": {
     "slide_type": "slide"
    }
   },
   "source": [
    "---\n",
    "## 2. Clustering"
   ]
  },
  {
   "cell_type": "markdown",
   "id": "a850a954-6bae-4b3c-a19a-de7c85ac2274",
   "metadata": {
    "slideshow": {
     "slide_type": "fragment"
    }
   },
   "source": [
    "### 2.1 K-means\n",
    "\n",
    "It is a method of vector quantization and aims to partition n observations into k clusters in which each observation belongs to the cluster with the nearest mean\n",
    "\n",
    "K-means finds cluster centers by minimizing the sum of squared distances from each point to its assigned cluster. Points are assigned to the cluster whose center is closest.\n",
    "\n",
    "After initial centers are chosen, two steps repeat until the cluster assignment no longer changes for any point (which is equivalent to the cluster centers no longer moving):"
   ]
  },
  {
   "cell_type": "markdown",
   "id": "0636f37f-6486-4c70-87eb-7c8623531453",
   "metadata": {
    "slideshow": {
     "slide_type": "subslide"
    }
   },
   "source": [
    "<img src=\"../img/ad8.png\" width=\"800\">"
   ]
  },
  {
   "cell_type": "markdown",
   "id": "b2548472-bb31-451c-95b6-70a58ebf0bb5",
   "metadata": {
    "slideshow": {
     "slide_type": "subslide"
    }
   },
   "source": [
    "#### Choosing k  \n",
    "In k-means for anomaly detection, we must choose a value for k in advance, and the final results are sensitive to initialization and often terminates at a local optimum. This is still an active area of research and no definitive answers. A large k probably decreases the error but increases the risk of overfitting.\n",
    "\n",
    "- No observable target to predict.\n",
    "- The elbow method\n",
    "- Heuristic\n",
    "\n",
    "$ K = maxArg(sqrt(n/2), 1)$"
   ]
  },
  {
   "cell_type": "markdown",
   "id": "3ee7c8d6-c01a-4631-9b33-78c35447be3c",
   "metadata": {
    "slideshow": {
     "slide_type": "slide"
    }
   },
   "source": [
    "##### Wine dataset\n",
    "The Wine data set is a multivariate data set introduced by M. Forina et al. These data are the results of a chemical analysis of wines grown in the same region in Italy but derived from three different cultivars. [Info here ](https://pythonhosted.org/bob/temp/bob.db.wine/doc/index.html)"
   ]
  },
  {
   "cell_type": "code",
   "execution_count": 54,
   "id": "be0280c1-6cbe-4c91-b5d9-ed9ad2cd7f23",
   "metadata": {
    "slideshow": {
     "slide_type": "fragment"
    }
   },
   "outputs": [],
   "source": [
    "import pandas as pd\n",
    "dataset = pd.read_csv('../datasets/wine_parvus.csv', sep=\";\")"
   ]
  },
  {
   "cell_type": "code",
   "execution_count": 55,
   "id": "c996a47c-fd86-4739-836d-661605d50bfd",
   "metadata": {
    "slideshow": {
     "slide_type": "subslide"
    }
   },
   "outputs": [
    {
     "data": {
      "text/plain": [
       "Index(['Variety', 'Variety name', 'Alcohol', 'Malic acid', 'Ash',\n",
       "       'Alcalinity of ash', 'Magnesium', 'Total phenols', 'Flavanoids',\n",
       "       'Nonflavanoid phenols', 'Proanthocyanins', 'Color intensity', 'Hue',\n",
       "       'OD280/OD315 of diluted wines', 'Proline'],\n",
       "      dtype='object')"
      ]
     },
     "execution_count": 55,
     "metadata": {},
     "output_type": "execute_result"
    }
   ],
   "source": [
    "dataset.columns"
   ]
  },
  {
   "cell_type": "code",
   "execution_count": 56,
   "id": "2c139867-6ef6-4b8d-8a3a-446246eecc94",
   "metadata": {},
   "outputs": [
    {
     "data": {
      "text/html": [
       "<div>\n",
       "<style scoped>\n",
       "    .dataframe tbody tr th:only-of-type {\n",
       "        vertical-align: middle;\n",
       "    }\n",
       "\n",
       "    .dataframe tbody tr th {\n",
       "        vertical-align: top;\n",
       "    }\n",
       "\n",
       "    .dataframe thead th {\n",
       "        text-align: right;\n",
       "    }\n",
       "</style>\n",
       "<table border=\"1\" class=\"dataframe\">\n",
       "  <thead>\n",
       "    <tr style=\"text-align: right;\">\n",
       "      <th></th>\n",
       "      <th>Variety</th>\n",
       "      <th>Variety name</th>\n",
       "      <th>Alcohol</th>\n",
       "      <th>Malic acid</th>\n",
       "      <th>Ash</th>\n",
       "      <th>Alcalinity of ash</th>\n",
       "      <th>Magnesium</th>\n",
       "      <th>Total phenols</th>\n",
       "      <th>Flavanoids</th>\n",
       "      <th>Nonflavanoid phenols</th>\n",
       "      <th>Proanthocyanins</th>\n",
       "      <th>Color intensity</th>\n",
       "      <th>Hue</th>\n",
       "      <th>OD280/OD315 of diluted wines</th>\n",
       "      <th>Proline</th>\n",
       "    </tr>\n",
       "  </thead>\n",
       "  <tbody>\n",
       "    <tr>\n",
       "      <th>0</th>\n",
       "      <td>1</td>\n",
       "      <td>Babera</td>\n",
       "      <td>14.23</td>\n",
       "      <td>1.71</td>\n",
       "      <td>2.43</td>\n",
       "      <td>15.6</td>\n",
       "      <td>127</td>\n",
       "      <td>2.80</td>\n",
       "      <td>3.06</td>\n",
       "      <td>0.28</td>\n",
       "      <td>2.29</td>\n",
       "      <td>5.64</td>\n",
       "      <td>1.04</td>\n",
       "      <td>3.92</td>\n",
       "      <td>1065</td>\n",
       "    </tr>\n",
       "    <tr>\n",
       "      <th>1</th>\n",
       "      <td>1</td>\n",
       "      <td>Babera</td>\n",
       "      <td>13.20</td>\n",
       "      <td>1.78</td>\n",
       "      <td>2.14</td>\n",
       "      <td>11.2</td>\n",
       "      <td>100</td>\n",
       "      <td>2.65</td>\n",
       "      <td>2.76</td>\n",
       "      <td>0.26</td>\n",
       "      <td>1.28</td>\n",
       "      <td>4.38</td>\n",
       "      <td>1.05</td>\n",
       "      <td>3.40</td>\n",
       "      <td>1050</td>\n",
       "    </tr>\n",
       "    <tr>\n",
       "      <th>2</th>\n",
       "      <td>1</td>\n",
       "      <td>Babera</td>\n",
       "      <td>13.16</td>\n",
       "      <td>2.36</td>\n",
       "      <td>2.67</td>\n",
       "      <td>18.6</td>\n",
       "      <td>101</td>\n",
       "      <td>2.80</td>\n",
       "      <td>3.24</td>\n",
       "      <td>0.30</td>\n",
       "      <td>2.81</td>\n",
       "      <td>5.68</td>\n",
       "      <td>1.03</td>\n",
       "      <td>3.17</td>\n",
       "      <td>1185</td>\n",
       "    </tr>\n",
       "    <tr>\n",
       "      <th>3</th>\n",
       "      <td>1</td>\n",
       "      <td>Babera</td>\n",
       "      <td>14.37</td>\n",
       "      <td>1.95</td>\n",
       "      <td>2.50</td>\n",
       "      <td>16.8</td>\n",
       "      <td>113</td>\n",
       "      <td>3.85</td>\n",
       "      <td>3.49</td>\n",
       "      <td>0.24</td>\n",
       "      <td>2.18</td>\n",
       "      <td>7.8</td>\n",
       "      <td>0.86</td>\n",
       "      <td>3.45</td>\n",
       "      <td>1480</td>\n",
       "    </tr>\n",
       "    <tr>\n",
       "      <th>4</th>\n",
       "      <td>1</td>\n",
       "      <td>Babera</td>\n",
       "      <td>13.24</td>\n",
       "      <td>2.59</td>\n",
       "      <td>2.87</td>\n",
       "      <td>21.0</td>\n",
       "      <td>118</td>\n",
       "      <td>2.80</td>\n",
       "      <td>2.69</td>\n",
       "      <td>0.39</td>\n",
       "      <td>1.82</td>\n",
       "      <td>4.32</td>\n",
       "      <td>1.04</td>\n",
       "      <td>2.93</td>\n",
       "      <td>735</td>\n",
       "    </tr>\n",
       "  </tbody>\n",
       "</table>\n",
       "</div>"
      ],
      "text/plain": [
       "   Variety Variety name  Alcohol  Malic acid   Ash  Alcalinity of ash  \\\n",
       "0        1       Babera    14.23        1.71  2.43               15.6   \n",
       "1        1       Babera    13.20        1.78  2.14               11.2   \n",
       "2        1       Babera    13.16        2.36  2.67               18.6   \n",
       "3        1       Babera    14.37        1.95  2.50               16.8   \n",
       "4        1       Babera    13.24        2.59  2.87               21.0   \n",
       "\n",
       "   Magnesium  Total phenols  Flavanoids  Nonflavanoid phenols  \\\n",
       "0        127           2.80        3.06                  0.28   \n",
       "1        100           2.65        2.76                  0.26   \n",
       "2        101           2.80        3.24                  0.30   \n",
       "3        113           3.85        3.49                  0.24   \n",
       "4        118           2.80        2.69                  0.39   \n",
       "\n",
       "   Proanthocyanins Color intensity   Hue  OD280/OD315 of diluted wines  \\\n",
       "0             2.29            5.64  1.04                          3.92   \n",
       "1             1.28            4.38  1.05                          3.40   \n",
       "2             2.81            5.68  1.03                          3.17   \n",
       "3             2.18             7.8  0.86                          3.45   \n",
       "4             1.82            4.32  1.04                          2.93   \n",
       "\n",
       "   Proline  \n",
       "0     1065  \n",
       "1     1050  \n",
       "2     1185  \n",
       "3     1480  \n",
       "4      735  "
      ]
     },
     "execution_count": 56,
     "metadata": {},
     "output_type": "execute_result"
    }
   ],
   "source": [
    "dataset.head()"
   ]
  },
  {
   "cell_type": "code",
   "execution_count": 57,
   "id": "12a642f0-e402-4a0e-9a32-8e5ab0d7f86a",
   "metadata": {
    "slideshow": {
     "slide_type": "fragment"
    }
   },
   "outputs": [],
   "source": [
    "import warnings\n",
    "warnings.filterwarnings('ignore')"
   ]
  },
  {
   "cell_type": "code",
   "execution_count": 58,
   "id": "41cc0d8b-e9fb-4191-aa86-f24cae1d1298",
   "metadata": {
    "slideshow": {
     "slide_type": "fragment"
    }
   },
   "outputs": [],
   "source": [
    "import matplotlib.pyplot as plt\n",
    "import numpy as np\n",
    "%matplotlib inline\n",
    "plt.style.use('fivethirtyeight')"
   ]
  },
  {
   "cell_type": "code",
   "execution_count": 59,
   "id": "362ccc72-0c76-4d08-b26c-7b450504eff9",
   "metadata": {
    "slideshow": {
     "slide_type": "subslide"
    }
   },
   "outputs": [],
   "source": [
    "X = dataset[['Alcohol','Hue']]"
   ]
  },
  {
   "cell_type": "code",
   "execution_count": 60,
   "id": "c3bb7207-2bc8-42d0-8fc7-855aea6f935f",
   "metadata": {
    "slideshow": {
     "slide_type": "fragment"
    }
   },
   "outputs": [
    {
     "data": {
      "text/html": [
       "<div>\n",
       "<style scoped>\n",
       "    .dataframe tbody tr th:only-of-type {\n",
       "        vertical-align: middle;\n",
       "    }\n",
       "\n",
       "    .dataframe tbody tr th {\n",
       "        vertical-align: top;\n",
       "    }\n",
       "\n",
       "    .dataframe thead th {\n",
       "        text-align: right;\n",
       "    }\n",
       "</style>\n",
       "<table border=\"1\" class=\"dataframe\">\n",
       "  <thead>\n",
       "    <tr style=\"text-align: right;\">\n",
       "      <th></th>\n",
       "      <th>Alcohol</th>\n",
       "      <th>Hue</th>\n",
       "    </tr>\n",
       "  </thead>\n",
       "  <tbody>\n",
       "    <tr>\n",
       "      <th>count</th>\n",
       "      <td>178.000000</td>\n",
       "      <td>178.000000</td>\n",
       "    </tr>\n",
       "    <tr>\n",
       "      <th>mean</th>\n",
       "      <td>13.000618</td>\n",
       "      <td>0.957449</td>\n",
       "    </tr>\n",
       "    <tr>\n",
       "      <th>std</th>\n",
       "      <td>0.811827</td>\n",
       "      <td>0.228572</td>\n",
       "    </tr>\n",
       "    <tr>\n",
       "      <th>min</th>\n",
       "      <td>11.030000</td>\n",
       "      <td>0.480000</td>\n",
       "    </tr>\n",
       "    <tr>\n",
       "      <th>25%</th>\n",
       "      <td>12.362500</td>\n",
       "      <td>0.782500</td>\n",
       "    </tr>\n",
       "    <tr>\n",
       "      <th>50%</th>\n",
       "      <td>13.050000</td>\n",
       "      <td>0.965000</td>\n",
       "    </tr>\n",
       "    <tr>\n",
       "      <th>75%</th>\n",
       "      <td>13.677500</td>\n",
       "      <td>1.120000</td>\n",
       "    </tr>\n",
       "    <tr>\n",
       "      <th>max</th>\n",
       "      <td>14.830000</td>\n",
       "      <td>1.710000</td>\n",
       "    </tr>\n",
       "  </tbody>\n",
       "</table>\n",
       "</div>"
      ],
      "text/plain": [
       "          Alcohol         Hue\n",
       "count  178.000000  178.000000\n",
       "mean    13.000618    0.957449\n",
       "std      0.811827    0.228572\n",
       "min     11.030000    0.480000\n",
       "25%     12.362500    0.782500\n",
       "50%     13.050000    0.965000\n",
       "75%     13.677500    1.120000\n",
       "max     14.830000    1.710000"
      ]
     },
     "execution_count": 60,
     "metadata": {},
     "output_type": "execute_result"
    }
   ],
   "source": [
    "X.describe()"
   ]
  },
  {
   "cell_type": "markdown",
   "id": "e3cde001-c2e3-442d-a3d2-91a8325cf7a2",
   "metadata": {},
   "source": [
    "#### Standard Scaler"
   ]
  },
  {
   "cell_type": "markdown",
   "id": "ccfe8379-b4b5-45c7-8f37-699d5b285cf6",
   "metadata": {},
   "source": [
    "<img src=\"../img/standard.png\" width=\"400\">"
   ]
  },
  {
   "cell_type": "code",
   "execution_count": 61,
   "id": "f254571e-a76e-43b7-9c71-8d6b8c0df664",
   "metadata": {
    "slideshow": {
     "slide_type": "fragment"
    }
   },
   "outputs": [],
   "source": [
    "from sklearn.preprocessing import StandardScaler\n",
    "scaler = StandardScaler()\n",
    "X_scaled = scaler.fit_transform(X)"
   ]
  },
  {
   "cell_type": "markdown",
   "id": "2828d2e1-17ed-43fe-a462-319525797d86",
   "metadata": {
    "slideshow": {
     "slide_type": "subslide"
    }
   },
   "source": [
    "**Prior number of Clusters**"
   ]
  },
  {
   "cell_type": "code",
   "execution_count": 62,
   "id": "8afbc930-9d4e-4326-9824-d79e1ca94e25",
   "metadata": {
    "slideshow": {
     "slide_type": "fragment"
    }
   },
   "outputs": [],
   "source": [
    "K = int(np.sqrt(len(dataset) / 2.0))"
   ]
  },
  {
   "cell_type": "code",
   "execution_count": 63,
   "id": "0522fb65-39a8-4160-b331-ccfaf4b27504",
   "metadata": {
    "slideshow": {
     "slide_type": "fragment"
    }
   },
   "outputs": [
    {
     "name": "stdout",
     "output_type": "stream",
     "text": [
      "Number of Clusters K: 9\n"
     ]
    }
   ],
   "source": [
    "print('Number of Clusters K: {}'.format(K))"
   ]
  },
  {
   "cell_type": "code",
   "execution_count": 64,
   "id": "7bed8879-2a6a-4bbd-a024-457b64f615ee",
   "metadata": {
    "slideshow": {
     "slide_type": "fragment"
    }
   },
   "outputs": [],
   "source": [
    "from sklearn.cluster import KMeans"
   ]
  },
  {
   "cell_type": "code",
   "execution_count": 65,
   "id": "122d67fa-9926-47e8-8c26-3da14b0f3a85",
   "metadata": {
    "slideshow": {
     "slide_type": "fragment"
    }
   },
   "outputs": [],
   "source": [
    "model = KMeans(n_clusters = K)"
   ]
  },
  {
   "cell_type": "markdown",
   "id": "77032e0a-63ac-4f31-8835-d178e37cb392",
   "metadata": {
    "slideshow": {
     "slide_type": "subslide"
    }
   },
   "source": [
    "fit_predict to fit model and obtain cluster labels"
   ]
  },
  {
   "cell_type": "code",
   "execution_count": 66,
   "id": "8d9ebed4-60ff-4840-852d-01003af7b869",
   "metadata": {
    "slideshow": {
     "slide_type": "fragment"
    }
   },
   "outputs": [],
   "source": [
    "clusters = model.fit_predict(X_scaled)"
   ]
  },
  {
   "cell_type": "code",
   "execution_count": 67,
   "id": "e9d674d6-f3fc-4be8-a1a0-e99648317655",
   "metadata": {
    "scrolled": true,
    "slideshow": {
     "slide_type": "fragment"
    }
   },
   "outputs": [
    {
     "data": {
      "text/plain": [
       "array([0, 2, 2, 0, 2, 0, 0, 0, 0, 0, 6, 6, 6, 6, 6, 6, 0, 6, 6, 5, 0, 2,\n",
       "       6, 2, 2, 2, 5, 2, 6, 0, 6, 2, 6, 6, 2, 2, 2, 2, 2, 0, 5, 5, 5, 5,\n",
       "       5, 0, 0, 0, 0, 6, 2, 6, 0, 6, 5, 5, 0, 2, 5, 4, 4, 4, 6, 4, 8, 4,\n",
       "       2, 4, 2, 8, 1, 6, 5, 2, 1, 8, 2, 1, 4, 4, 8, 4, 8, 5, 1, 4, 8, 8,\n",
       "       1, 4, 4, 4, 4, 4, 8, 4, 1, 4, 4, 8, 8, 4, 3, 1, 4, 1, 4, 3, 1, 1,\n",
       "       1, 1, 8, 1, 1, 8, 1, 4, 3, 1, 1, 1, 1, 3, 1, 1, 3, 1, 1, 1, 3, 3,\n",
       "       3, 3, 3, 3, 3, 3, 5, 5, 3, 7, 5, 5, 3, 7, 7, 3, 7, 7, 7, 3, 7, 7,\n",
       "       3, 7, 7, 3, 7, 7, 3, 5, 5, 3, 7, 5, 5, 3, 7, 7, 3, 3, 7, 7, 7, 7,\n",
       "       7, 7], dtype=int32)"
      ]
     },
     "execution_count": 67,
     "metadata": {},
     "output_type": "execute_result"
    }
   ],
   "source": [
    "clusters"
   ]
  },
  {
   "cell_type": "markdown",
   "id": "94f94e89-d4ba-437f-8180-8bdd5f4ec2cc",
   "metadata": {
    "slideshow": {
     "slide_type": "subslide"
    }
   },
   "source": [
    "Adding the labels to the dataset"
   ]
  },
  {
   "cell_type": "code",
   "execution_count": 68,
   "id": "b0139fe8-1c56-487a-957d-37aed1ec99af",
   "metadata": {
    "slideshow": {
     "slide_type": "fragment"
    }
   },
   "outputs": [],
   "source": [
    "dataset['cluster_id'] = clusters"
   ]
  },
  {
   "cell_type": "code",
   "execution_count": 69,
   "id": "8895250c-79d1-4167-9aab-581fd79c7f3d",
   "metadata": {
    "slideshow": {
     "slide_type": "fragment"
    }
   },
   "outputs": [
    {
     "data": {
      "text/html": [
       "<div>\n",
       "<style scoped>\n",
       "    .dataframe tbody tr th:only-of-type {\n",
       "        vertical-align: middle;\n",
       "    }\n",
       "\n",
       "    .dataframe tbody tr th {\n",
       "        vertical-align: top;\n",
       "    }\n",
       "\n",
       "    .dataframe thead th {\n",
       "        text-align: right;\n",
       "    }\n",
       "</style>\n",
       "<table border=\"1\" class=\"dataframe\">\n",
       "  <thead>\n",
       "    <tr style=\"text-align: right;\">\n",
       "      <th></th>\n",
       "      <th>cluster_id</th>\n",
       "      <th>Variety</th>\n",
       "    </tr>\n",
       "  </thead>\n",
       "  <tbody>\n",
       "    <tr>\n",
       "      <th>0</th>\n",
       "      <td>0</td>\n",
       "      <td>17</td>\n",
       "    </tr>\n",
       "    <tr>\n",
       "      <th>1</th>\n",
       "      <td>1</td>\n",
       "      <td>24</td>\n",
       "    </tr>\n",
       "    <tr>\n",
       "      <th>2</th>\n",
       "      <td>2</td>\n",
       "      <td>20</td>\n",
       "    </tr>\n",
       "    <tr>\n",
       "      <th>3</th>\n",
       "      <td>3</td>\n",
       "      <td>24</td>\n",
       "    </tr>\n",
       "    <tr>\n",
       "      <th>4</th>\n",
       "      <td>4</td>\n",
       "      <td>22</td>\n",
       "    </tr>\n",
       "    <tr>\n",
       "      <th>5</th>\n",
       "      <td>5</td>\n",
       "      <td>20</td>\n",
       "    </tr>\n",
       "    <tr>\n",
       "      <th>6</th>\n",
       "      <td>6</td>\n",
       "      <td>18</td>\n",
       "    </tr>\n",
       "    <tr>\n",
       "      <th>7</th>\n",
       "      <td>7</td>\n",
       "      <td>21</td>\n",
       "    </tr>\n",
       "    <tr>\n",
       "      <th>8</th>\n",
       "      <td>8</td>\n",
       "      <td>12</td>\n",
       "    </tr>\n",
       "  </tbody>\n",
       "</table>\n",
       "</div>"
      ],
      "text/plain": [
       "   cluster_id  Variety\n",
       "0           0       17\n",
       "1           1       24\n",
       "2           2       20\n",
       "3           3       24\n",
       "4           4       22\n",
       "5           5       20\n",
       "6           6       18\n",
       "7           7       21\n",
       "8           8       12"
      ]
     },
     "execution_count": 69,
     "metadata": {},
     "output_type": "execute_result"
    }
   ],
   "source": [
    "dataset.groupby('cluster_id').count()['Variety'].reset_index()"
   ]
  },
  {
   "cell_type": "code",
   "execution_count": 70,
   "id": "d16bf21f-ba05-4be0-8368-98134317a2e2",
   "metadata": {},
   "outputs": [
    {
     "data": {
      "text/html": [
       "<div>\n",
       "<style scoped>\n",
       "    .dataframe tbody tr th:only-of-type {\n",
       "        vertical-align: middle;\n",
       "    }\n",
       "\n",
       "    .dataframe tbody tr th {\n",
       "        vertical-align: top;\n",
       "    }\n",
       "\n",
       "    .dataframe thead th {\n",
       "        text-align: right;\n",
       "    }\n",
       "</style>\n",
       "<table border=\"1\" class=\"dataframe\">\n",
       "  <thead>\n",
       "    <tr style=\"text-align: right;\">\n",
       "      <th></th>\n",
       "      <th>Variety</th>\n",
       "      <th>Variety name</th>\n",
       "      <th>Alcohol</th>\n",
       "      <th>Malic acid</th>\n",
       "      <th>Ash</th>\n",
       "      <th>Alcalinity of ash</th>\n",
       "      <th>Magnesium</th>\n",
       "      <th>Total phenols</th>\n",
       "      <th>Flavanoids</th>\n",
       "      <th>Nonflavanoid phenols</th>\n",
       "      <th>Proanthocyanins</th>\n",
       "      <th>Color intensity</th>\n",
       "      <th>Hue</th>\n",
       "      <th>OD280/OD315 of diluted wines</th>\n",
       "      <th>Proline</th>\n",
       "      <th>cluster_id</th>\n",
       "    </tr>\n",
       "  </thead>\n",
       "  <tbody>\n",
       "    <tr>\n",
       "      <th>0</th>\n",
       "      <td>1</td>\n",
       "      <td>Babera</td>\n",
       "      <td>14.23</td>\n",
       "      <td>1.71</td>\n",
       "      <td>2.43</td>\n",
       "      <td>15.6</td>\n",
       "      <td>127</td>\n",
       "      <td>2.80</td>\n",
       "      <td>3.06</td>\n",
       "      <td>0.28</td>\n",
       "      <td>2.29</td>\n",
       "      <td>5.64</td>\n",
       "      <td>1.04</td>\n",
       "      <td>3.92</td>\n",
       "      <td>1065</td>\n",
       "      <td>0</td>\n",
       "    </tr>\n",
       "    <tr>\n",
       "      <th>1</th>\n",
       "      <td>1</td>\n",
       "      <td>Babera</td>\n",
       "      <td>13.20</td>\n",
       "      <td>1.78</td>\n",
       "      <td>2.14</td>\n",
       "      <td>11.2</td>\n",
       "      <td>100</td>\n",
       "      <td>2.65</td>\n",
       "      <td>2.76</td>\n",
       "      <td>0.26</td>\n",
       "      <td>1.28</td>\n",
       "      <td>4.38</td>\n",
       "      <td>1.05</td>\n",
       "      <td>3.40</td>\n",
       "      <td>1050</td>\n",
       "      <td>2</td>\n",
       "    </tr>\n",
       "    <tr>\n",
       "      <th>2</th>\n",
       "      <td>1</td>\n",
       "      <td>Babera</td>\n",
       "      <td>13.16</td>\n",
       "      <td>2.36</td>\n",
       "      <td>2.67</td>\n",
       "      <td>18.6</td>\n",
       "      <td>101</td>\n",
       "      <td>2.80</td>\n",
       "      <td>3.24</td>\n",
       "      <td>0.30</td>\n",
       "      <td>2.81</td>\n",
       "      <td>5.68</td>\n",
       "      <td>1.03</td>\n",
       "      <td>3.17</td>\n",
       "      <td>1185</td>\n",
       "      <td>2</td>\n",
       "    </tr>\n",
       "    <tr>\n",
       "      <th>3</th>\n",
       "      <td>1</td>\n",
       "      <td>Babera</td>\n",
       "      <td>14.37</td>\n",
       "      <td>1.95</td>\n",
       "      <td>2.50</td>\n",
       "      <td>16.8</td>\n",
       "      <td>113</td>\n",
       "      <td>3.85</td>\n",
       "      <td>3.49</td>\n",
       "      <td>0.24</td>\n",
       "      <td>2.18</td>\n",
       "      <td>7.8</td>\n",
       "      <td>0.86</td>\n",
       "      <td>3.45</td>\n",
       "      <td>1480</td>\n",
       "      <td>0</td>\n",
       "    </tr>\n",
       "    <tr>\n",
       "      <th>4</th>\n",
       "      <td>1</td>\n",
       "      <td>Babera</td>\n",
       "      <td>13.24</td>\n",
       "      <td>2.59</td>\n",
       "      <td>2.87</td>\n",
       "      <td>21.0</td>\n",
       "      <td>118</td>\n",
       "      <td>2.80</td>\n",
       "      <td>2.69</td>\n",
       "      <td>0.39</td>\n",
       "      <td>1.82</td>\n",
       "      <td>4.32</td>\n",
       "      <td>1.04</td>\n",
       "      <td>2.93</td>\n",
       "      <td>735</td>\n",
       "      <td>2</td>\n",
       "    </tr>\n",
       "    <tr>\n",
       "      <th>...</th>\n",
       "      <td>...</td>\n",
       "      <td>...</td>\n",
       "      <td>...</td>\n",
       "      <td>...</td>\n",
       "      <td>...</td>\n",
       "      <td>...</td>\n",
       "      <td>...</td>\n",
       "      <td>...</td>\n",
       "      <td>...</td>\n",
       "      <td>...</td>\n",
       "      <td>...</td>\n",
       "      <td>...</td>\n",
       "      <td>...</td>\n",
       "      <td>...</td>\n",
       "      <td>...</td>\n",
       "      <td>...</td>\n",
       "    </tr>\n",
       "    <tr>\n",
       "      <th>173</th>\n",
       "      <td>3</td>\n",
       "      <td>Grignolino</td>\n",
       "      <td>13.71</td>\n",
       "      <td>5.65</td>\n",
       "      <td>2.45</td>\n",
       "      <td>20.5</td>\n",
       "      <td>95</td>\n",
       "      <td>1.68</td>\n",
       "      <td>0.61</td>\n",
       "      <td>0.52</td>\n",
       "      <td>1.06</td>\n",
       "      <td>7.7</td>\n",
       "      <td>0.64</td>\n",
       "      <td>1.74</td>\n",
       "      <td>740</td>\n",
       "      <td>7</td>\n",
       "    </tr>\n",
       "    <tr>\n",
       "      <th>174</th>\n",
       "      <td>3</td>\n",
       "      <td>Grignolino</td>\n",
       "      <td>13.40</td>\n",
       "      <td>3.91</td>\n",
       "      <td>2.48</td>\n",
       "      <td>23.0</td>\n",
       "      <td>102</td>\n",
       "      <td>1.80</td>\n",
       "      <td>0.75</td>\n",
       "      <td>0.43</td>\n",
       "      <td>1.41</td>\n",
       "      <td>7.3</td>\n",
       "      <td>0.70</td>\n",
       "      <td>1.56</td>\n",
       "      <td>750</td>\n",
       "      <td>7</td>\n",
       "    </tr>\n",
       "    <tr>\n",
       "      <th>175</th>\n",
       "      <td>3</td>\n",
       "      <td>Grignolino</td>\n",
       "      <td>13.27</td>\n",
       "      <td>4.28</td>\n",
       "      <td>2.26</td>\n",
       "      <td>20.0</td>\n",
       "      <td>120</td>\n",
       "      <td>1.59</td>\n",
       "      <td>0.69</td>\n",
       "      <td>0.43</td>\n",
       "      <td>1.35</td>\n",
       "      <td>10.2</td>\n",
       "      <td>0.59</td>\n",
       "      <td>1.56</td>\n",
       "      <td>835</td>\n",
       "      <td>7</td>\n",
       "    </tr>\n",
       "    <tr>\n",
       "      <th>176</th>\n",
       "      <td>3</td>\n",
       "      <td>Grignolino</td>\n",
       "      <td>13.17</td>\n",
       "      <td>2.59</td>\n",
       "      <td>2.37</td>\n",
       "      <td>20.0</td>\n",
       "      <td>120</td>\n",
       "      <td>1.65</td>\n",
       "      <td>0.68</td>\n",
       "      <td>0.53</td>\n",
       "      <td>1.46</td>\n",
       "      <td>9.3</td>\n",
       "      <td>0.60</td>\n",
       "      <td>1.62</td>\n",
       "      <td>840</td>\n",
       "      <td>7</td>\n",
       "    </tr>\n",
       "    <tr>\n",
       "      <th>177</th>\n",
       "      <td>3</td>\n",
       "      <td>Grignolino</td>\n",
       "      <td>14.13</td>\n",
       "      <td>4.10</td>\n",
       "      <td>2.74</td>\n",
       "      <td>24.5</td>\n",
       "      <td>96</td>\n",
       "      <td>2.05</td>\n",
       "      <td>0.76</td>\n",
       "      <td>0.56</td>\n",
       "      <td>1.35</td>\n",
       "      <td>9.2</td>\n",
       "      <td>0.61</td>\n",
       "      <td>1.60</td>\n",
       "      <td>560</td>\n",
       "      <td>7</td>\n",
       "    </tr>\n",
       "  </tbody>\n",
       "</table>\n",
       "<p>178 rows × 16 columns</p>\n",
       "</div>"
      ],
      "text/plain": [
       "     Variety Variety name  Alcohol  Malic acid   Ash  Alcalinity of ash  \\\n",
       "0          1       Babera    14.23        1.71  2.43               15.6   \n",
       "1          1       Babera    13.20        1.78  2.14               11.2   \n",
       "2          1       Babera    13.16        2.36  2.67               18.6   \n",
       "3          1       Babera    14.37        1.95  2.50               16.8   \n",
       "4          1       Babera    13.24        2.59  2.87               21.0   \n",
       "..       ...          ...      ...         ...   ...                ...   \n",
       "173        3   Grignolino    13.71        5.65  2.45               20.5   \n",
       "174        3   Grignolino    13.40        3.91  2.48               23.0   \n",
       "175        3   Grignolino    13.27        4.28  2.26               20.0   \n",
       "176        3   Grignolino    13.17        2.59  2.37               20.0   \n",
       "177        3   Grignolino    14.13        4.10  2.74               24.5   \n",
       "\n",
       "     Magnesium  Total phenols  Flavanoids  Nonflavanoid phenols  \\\n",
       "0          127           2.80        3.06                  0.28   \n",
       "1          100           2.65        2.76                  0.26   \n",
       "2          101           2.80        3.24                  0.30   \n",
       "3          113           3.85        3.49                  0.24   \n",
       "4          118           2.80        2.69                  0.39   \n",
       "..         ...            ...         ...                   ...   \n",
       "173         95           1.68        0.61                  0.52   \n",
       "174        102           1.80        0.75                  0.43   \n",
       "175        120           1.59        0.69                  0.43   \n",
       "176        120           1.65        0.68                  0.53   \n",
       "177         96           2.05        0.76                  0.56   \n",
       "\n",
       "     Proanthocyanins Color intensity   Hue  OD280/OD315 of diluted wines  \\\n",
       "0               2.29            5.64  1.04                          3.92   \n",
       "1               1.28            4.38  1.05                          3.40   \n",
       "2               2.81            5.68  1.03                          3.17   \n",
       "3               2.18             7.8  0.86                          3.45   \n",
       "4               1.82            4.32  1.04                          2.93   \n",
       "..               ...             ...   ...                           ...   \n",
       "173             1.06             7.7  0.64                          1.74   \n",
       "174             1.41             7.3  0.70                          1.56   \n",
       "175             1.35            10.2  0.59                          1.56   \n",
       "176             1.46             9.3  0.60                          1.62   \n",
       "177             1.35             9.2  0.61                          1.60   \n",
       "\n",
       "     Proline  cluster_id  \n",
       "0       1065           0  \n",
       "1       1050           2  \n",
       "2       1185           2  \n",
       "3       1480           0  \n",
       "4        735           2  \n",
       "..       ...         ...  \n",
       "173      740           7  \n",
       "174      750           7  \n",
       "175      835           7  \n",
       "176      840           7  \n",
       "177      560           7  \n",
       "\n",
       "[178 rows x 16 columns]"
      ]
     },
     "execution_count": 70,
     "metadata": {},
     "output_type": "execute_result"
    }
   ],
   "source": [
    "dataset"
   ]
  },
  {
   "cell_type": "code",
   "execution_count": 71,
   "id": "93b84cfe-901c-4f2d-a57a-d750c3ea56ad",
   "metadata": {
    "slideshow": {
     "slide_type": "subslide"
    }
   },
   "outputs": [
    {
     "data": {
      "text/plain": [
       "<matplotlib.collections.PathCollection at 0x7fd8fcf85dc0>"
      ]
     },
     "execution_count": 71,
     "metadata": {},
     "output_type": "execute_result"
    },
    {
     "data": {
      "image/png": "[encoded data removed]",
      "text/plain": [
       "<Figure size 432x288 with 1 Axes>"
      ]
     },
     "metadata": {},
     "output_type": "display_data"
    }
   ],
   "source": [
    "plt.scatter(dataset['Alcohol'], dataset['Hue'], c=dataset['cluster_id'])"
   ]
  },
  {
   "cell_type": "markdown",
   "id": "d7dbf052-8aa1-46b0-9307-7b02235f1cc5",
   "metadata": {
    "slideshow": {
     "slide_type": "subslide"
    }
   },
   "source": [
    "**Making groups**"
   ]
  },
  {
   "cell_type": "code",
   "execution_count": 72,
   "id": "97614a65-19b1-4071-ae0f-a5811e51a02b",
   "metadata": {
    "slideshow": {
     "slide_type": "fragment"
    }
   },
   "outputs": [],
   "source": [
    "groups = dataset.groupby(['cluster_id','Variety']).count()['Variety name'].reset_index()\n",
    "groups.columns = ['cluster_id','Variety','count']"
   ]
  },
  {
   "cell_type": "code",
   "execution_count": 73,
   "id": "714bffc3-b821-41a9-905a-43426988c4d4",
   "metadata": {
    "slideshow": {
     "slide_type": "fragment"
    }
   },
   "outputs": [
    {
     "data": {
      "text/html": [
       "<div>\n",
       "<style scoped>\n",
       "    .dataframe tbody tr th:only-of-type {\n",
       "        vertical-align: middle;\n",
       "    }\n",
       "\n",
       "    .dataframe tbody tr th {\n",
       "        vertical-align: top;\n",
       "    }\n",
       "\n",
       "    .dataframe thead th {\n",
       "        text-align: right;\n",
       "    }\n",
       "</style>\n",
       "<table border=\"1\" class=\"dataframe\">\n",
       "  <thead>\n",
       "    <tr style=\"text-align: right;\">\n",
       "      <th></th>\n",
       "      <th>cluster_id</th>\n",
       "      <th>Variety</th>\n",
       "      <th>count</th>\n",
       "    </tr>\n",
       "  </thead>\n",
       "  <tbody>\n",
       "    <tr>\n",
       "      <th>0</th>\n",
       "      <td>0</td>\n",
       "      <td>1</td>\n",
       "      <td>17</td>\n",
       "    </tr>\n",
       "    <tr>\n",
       "      <th>1</th>\n",
       "      <td>1</td>\n",
       "      <td>2</td>\n",
       "      <td>24</td>\n",
       "    </tr>\n",
       "    <tr>\n",
       "      <th>2</th>\n",
       "      <td>2</td>\n",
       "      <td>1</td>\n",
       "      <td>16</td>\n",
       "    </tr>\n",
       "    <tr>\n",
       "      <th>3</th>\n",
       "      <td>2</td>\n",
       "      <td>2</td>\n",
       "      <td>4</td>\n",
       "    </tr>\n",
       "    <tr>\n",
       "      <th>4</th>\n",
       "      <td>3</td>\n",
       "      <td>2</td>\n",
       "      <td>5</td>\n",
       "    </tr>\n",
       "  </tbody>\n",
       "</table>\n",
       "</div>"
      ],
      "text/plain": [
       "   cluster_id  Variety  count\n",
       "0           0        1     17\n",
       "1           1        2     24\n",
       "2           2        1     16\n",
       "3           2        2      4\n",
       "4           3        2      5"
      ]
     },
     "execution_count": 73,
     "metadata": {},
     "output_type": "execute_result"
    }
   ],
   "source": [
    "groups.head()"
   ]
  },
  {
   "cell_type": "code",
   "execution_count": 74,
   "id": "0ebac7d2-6bd4-409e-b523-620f08c33425",
   "metadata": {
    "slideshow": {
     "slide_type": "fragment"
    }
   },
   "outputs": [],
   "source": [
    "anomalies = groups[groups['count'] == 1]"
   ]
  },
  {
   "cell_type": "code",
   "execution_count": 75,
   "id": "55c611f2-b036-4c96-be40-1bcfb920cb43",
   "metadata": {
    "slideshow": {
     "slide_type": "subslide"
    }
   },
   "outputs": [
    {
     "data": {
      "text/html": [
       "<div>\n",
       "<style scoped>\n",
       "    .dataframe tbody tr th:only-of-type {\n",
       "        vertical-align: middle;\n",
       "    }\n",
       "\n",
       "    .dataframe tbody tr th {\n",
       "        vertical-align: top;\n",
       "    }\n",
       "\n",
       "    .dataframe thead th {\n",
       "        text-align: right;\n",
       "    }\n",
       "</style>\n",
       "<table border=\"1\" class=\"dataframe\">\n",
       "  <thead>\n",
       "    <tr style=\"text-align: right;\">\n",
       "      <th></th>\n",
       "      <th>cluster_id</th>\n",
       "      <th>Variety</th>\n",
       "      <th>count</th>\n",
       "    </tr>\n",
       "  </thead>\n",
       "  <tbody>\n",
       "  </tbody>\n",
       "</table>\n",
       "</div>"
      ],
      "text/plain": [
       "Empty DataFrame\n",
       "Columns: [cluster_id, Variety, count]\n",
       "Index: []"
      ]
     },
     "execution_count": 75,
     "metadata": {},
     "output_type": "execute_result"
    }
   ],
   "source": [
    "anomalies"
   ]
  },
  {
   "cell_type": "code",
   "execution_count": 76,
   "id": "2880d236-3ebd-4b60-bde0-e83096524852",
   "metadata": {},
   "outputs": [
    {
     "data": {
      "text/plain": [
       "array([1, 2, 3])"
      ]
     },
     "execution_count": 76,
     "metadata": {},
     "output_type": "execute_result"
    }
   ],
   "source": [
    "dataset['Variety'].unique()"
   ]
  },
  {
   "cell_type": "code",
   "execution_count": 77,
   "id": "74cee941-bae3-4155-b817-40930d5e2eed",
   "metadata": {
    "slideshow": {
     "slide_type": "subslide"
    }
   },
   "outputs": [],
   "source": [
    "g1 = anomalies.iloc[:,0].values\n",
    "g2 = anomalies.iloc[:,1].values"
   ]
  },
  {
   "cell_type": "code",
   "execution_count": 78,
   "id": "d0e07943-24dc-499a-96d2-05b8acd1a675",
   "metadata": {
    "slideshow": {
     "slide_type": "fragment"
    }
   },
   "outputs": [],
   "source": [
    "anomalies_df = pd.DataFrame()\n",
    "for i, j in zip(g1, g2):\n",
    "    anomalies_df = anomalies_df.append(dataset[\n",
    "        (dataset['cluster_id'] == i) & (dataset['Variety'] == j)])"
   ]
  },
  {
   "cell_type": "code",
   "execution_count": 79,
   "id": "f19a9870-8ea3-485f-9899-28a8d33e71d8",
   "metadata": {
    "slideshow": {
     "slide_type": "subslide"
    }
   },
   "outputs": [
    {
     "data": {
      "text/html": [
       "<div>\n",
       "<style scoped>\n",
       "    .dataframe tbody tr th:only-of-type {\n",
       "        vertical-align: middle;\n",
       "    }\n",
       "\n",
       "    .dataframe tbody tr th {\n",
       "        vertical-align: top;\n",
       "    }\n",
       "\n",
       "    .dataframe thead th {\n",
       "        text-align: right;\n",
       "    }\n",
       "</style>\n",
       "<table border=\"1\" class=\"dataframe\">\n",
       "  <thead>\n",
       "    <tr style=\"text-align: right;\">\n",
       "      <th></th>\n",
       "    </tr>\n",
       "  </thead>\n",
       "  <tbody>\n",
       "  </tbody>\n",
       "</table>\n",
       "</div>"
      ],
      "text/plain": [
       "Empty DataFrame\n",
       "Columns: []\n",
       "Index: []"
      ]
     },
     "execution_count": 79,
     "metadata": {},
     "output_type": "execute_result"
    }
   ],
   "source": [
    "anomalies_df"
   ]
  },
  {
   "cell_type": "code",
   "execution_count": 80,
   "id": "83f7e4b5-aa37-4067-ae1b-30a2e77a7961",
   "metadata": {
    "slideshow": {
     "slide_type": "fragment"
    }
   },
   "outputs": [],
   "source": [
    "dataset['anomaly'] = [1 if i in anomalies_df.index else 0 for i in dataset.index]   "
   ]
  },
  {
   "cell_type": "code",
   "execution_count": 81,
   "id": "58189c26-3a86-4ea4-9cbb-9e263aa72a46",
   "metadata": {
    "slideshow": {
     "slide_type": "subslide"
    }
   },
   "outputs": [
    {
     "data": {
      "text/plain": [
       "<matplotlib.collections.PathCollection at 0x7fd8fcff4580>"
      ]
     },
     "execution_count": 81,
     "metadata": {},
     "output_type": "execute_result"
    },
    {
     "data": {
      "image/png": "[encoded data removed]",
      "text/plain": [
       "<Figure size 432x288 with 1 Axes>"
      ]
     },
     "metadata": {},
     "output_type": "display_data"
    }
   ],
   "source": [
    "plt.scatter(dataset['Alcohol'], dataset['Hue'], c=dataset['anomaly'])"
   ]
  },
  {
   "cell_type": "markdown",
   "id": "17c5f7db-1e8d-48a3-97af-48cb175bdba2",
   "metadata": {
    "slideshow": {
     "slide_type": "slide"
    }
   },
   "source": [
    "### 2.2 Silhoutte Distance"
   ]
  },
  {
   "cell_type": "markdown",
   "id": "08476c54-fe0b-4c09-a36f-5d17487c27cd",
   "metadata": {
    "slideshow": {
     "slide_type": "fragment"
    }
   },
   "source": [
    "Silhoutte Distance is used to study the separation between clusters. It can be used to evaluate and select the number of clusters. The formula is given by:\n",
    "\n",
    "$$ s\\left(i\\right)=\\frac{b\\left(i\\right)-a\\left(i\\right)}{\\max\\left(a\\left(i\\right),b\\left(i\\right)\\right)} $$\n",
    "\n",
    "Where, \n",
    "1. $a(i)$ = average distance of point $i$ with other members of same cluster. \n",
    "2. $b(i)$ = lowest of average distance of point $i$ with member of clusters other than the one it is currently present in. \n",
    "\n",
    "The value of $s(i)$ ranges from:\n",
    "\n",
    "$$-1\\le s\\left(i\\right)\\le1$$"
   ]
  },
  {
   "cell_type": "markdown",
   "id": "2130992f-72f0-40e6-93c0-51dcacd4e7f7",
   "metadata": {
    "slideshow": {
     "slide_type": "subslide"
    }
   },
   "source": [
    "The value will be close to 1 when $b(i) >> a(i)$. That is when the nearest neighbor of point $i$ is very far & the members of clusters that $i$ is a part of aren't very far apart. This is the case when the clustering has worked well. \n",
    "\n",
    "The opposite case is when the value is close to -1. This happens when $a(i) >> b(i)$. That is when the the average distance of point within cluster is more than that of the neighboring one, then this indicates that the current point would do better if it is assigned to the neighboring one. "
   ]
  },
  {
   "cell_type": "code",
   "execution_count": 82,
   "id": "56d9f7de-7ff2-4463-9c8f-c30257824e9b",
   "metadata": {
    "slideshow": {
     "slide_type": "subslide"
    }
   },
   "outputs": [],
   "source": [
    "from sklearn.metrics import silhouette_score"
   ]
  },
  {
   "cell_type": "code",
   "execution_count": 83,
   "id": "03173c0a-4338-42c5-9da2-b2c23e23cb07",
   "metadata": {
    "slideshow": {
     "slide_type": "fragment"
    }
   },
   "outputs": [],
   "source": [
    "scores = []\n",
    "for K in range(2, 30):\n",
    "    model = KMeans(n_clusters = K)\n",
    "    labels = model.fit_predict(X_scaled)\n",
    "    score = silhouette_score(X_scaled, labels)\n",
    "    scores.append(score)"
   ]
  },
  {
   "cell_type": "code",
   "execution_count": 84,
   "id": "17add4f0-3518-47d3-877b-25def5c2d1c6",
   "metadata": {
    "slideshow": {
     "slide_type": "subslide"
    }
   },
   "outputs": [
    {
     "data": {
      "image/png": "[encoded data removed]",
      "text/plain": [
       "<Figure size 432x288 with 1 Axes>"
      ]
     },
     "metadata": {},
     "output_type": "display_data"
    }
   ],
   "source": [
    "plt.plot(range(2, 30), scores)\n",
    "plt.title('The Elbow Method')\n",
    "plt.xlabel('Number of clusters')\n",
    "plt.ylabel('Silhouette Score')\n",
    "plt.show()"
   ]
  },
  {
   "cell_type": "markdown",
   "id": "621e5541-7d31-4bdb-af05-3892816c4142",
   "metadata": {
    "slideshow": {
     "slide_type": "slide"
    }
   },
   "source": [
    "---\n",
    "### 2.3 DBSCAN "
   ]
  },
  {
   "cell_type": "markdown",
   "id": "bb01277d-8e2a-472a-9612-7b78cf20c06c",
   "metadata": {
    "slideshow": {
     "slide_type": "fragment"
    }
   },
   "source": [
    "Short for Density-Based Spatial Clustering of Applications with Noise, it is the most popular density-based clustering method. We attempt to capture our intuition that a cluster is a region of the data space where there are lots of points, surrounded by an area with few points.\n",
    "\n",
    "The goal is to identify dense regions, which can be measured by the number of objects close to a given point.\n",
    "\n",
    "Parameters:  \n",
    "**Epsilon (ε):** Is the radius of the neighbourhood around a point x. It is called the ε − a neighbourhood of x.  \n",
    "**Minimum points (MinPts):** Is the minimum number of neighbours within ε radius.\n",
    "\n",
    "Any point x in the dataset, with a neighbour count greater than or equal to MinPts, is marked as a core point. We say that x is a border point if the number of its neighbours is less than MinPts, but it belongs to the\n",
    "ε − neighbourhood of some core point xi. Finally, if a point is neither a core nor a border point, it is called a noise point or anomalous."
   ]
  },
  {
   "cell_type": "markdown",
   "id": "8284315b-3be5-49fd-a08a-f521d808e2b9",
   "metadata": {
    "slideshow": {
     "slide_type": "subslide"
    }
   },
   "source": [
    "![](../img/ad10.png)"
   ]
  },
  {
   "cell_type": "markdown",
   "id": "10336c1d-7f20-45ba-8cd5-b48411d46add",
   "metadata": {
    "slideshow": {
     "slide_type": "subslide"
    }
   },
   "source": [
    "- The number of clusters does not need to be known a priori.\n",
    "- Recovers much more flexible cluster shapes than K-means, which can\n",
    "only find spherical clusters.\n",
    "- Intrinsically finds and labels outliers as such, making it a great solution for anomaly detection.\n",
    "- It works with any distance function. (e.g. \"euclidean\", \"manhattan\", \"jaccard\", etc )"
   ]
  },
  {
   "cell_type": "markdown",
   "id": "2452fc44-4081-4dd6-8f0c-ecb4bdf1ef2c",
   "metadata": {
    "slideshow": {
     "slide_type": "slide"
    }
   },
   "source": [
    "#### Comparison of methods"
   ]
  },
  {
   "cell_type": "code",
   "execution_count": 85,
   "id": "269f4e52-eca7-4a2c-b77d-6bc3d08946ae",
   "metadata": {
    "slideshow": {
     "slide_type": "fragment"
    }
   },
   "outputs": [],
   "source": [
    "import matplotlib.pyplot as plt\n",
    "plt.style.use('fivethirtyeight')"
   ]
  },
  {
   "cell_type": "code",
   "execution_count": 86,
   "id": "053339c4-77fd-446d-a6f5-9fc2f1e54ef9",
   "metadata": {
    "slideshow": {
     "slide_type": "subslide"
    }
   },
   "outputs": [],
   "source": [
    "from sklearn.datasets import make_moons\n",
    "X, y = make_moons(n_samples=1000, noise=0.05, random_state=42)"
   ]
  },
  {
   "cell_type": "code",
   "execution_count": 87,
   "id": "4cf4fd1d-0b91-4f54-a5bd-2a80c5fdfdca",
   "metadata": {
    "slideshow": {
     "slide_type": "fragment"
    }
   },
   "outputs": [
    {
     "data": {
      "text/plain": [
       "<matplotlib.collections.PathCollection at 0x7fd8fe9aac40>"
      ]
     },
     "execution_count": 87,
     "metadata": {},
     "output_type": "execute_result"
    },
    {
     "data": {
      "image/png": "[encoded data removed]",
      "text/plain": [
       "<Figure size 576x432 with 1 Axes>"
      ]
     },
     "metadata": {},
     "output_type": "display_data"
    }
   ],
   "source": [
    "plt.figure(figsize=[8, 6])\n",
    "plt.scatter(X[:, 0], X[:, 1], s=30, alpha=0.9)"
   ]
  },
  {
   "cell_type": "markdown",
   "id": "fe3f0b1d-80d9-4014-ad1c-1d2f130c4cc8",
   "metadata": {
    "slideshow": {
     "slide_type": "subslide"
    }
   },
   "source": [
    "How would it work with K-means?"
   ]
  },
  {
   "cell_type": "code",
   "execution_count": 88,
   "id": "9eab8877-39df-49ea-b293-c96466c065e1",
   "metadata": {
    "slideshow": {
     "slide_type": "fragment"
    }
   },
   "outputs": [],
   "source": [
    "from sklearn.preprocessing import StandardScaler\n",
    "scaler = StandardScaler()\n",
    "X_scaled = scaler.fit_transform(X)"
   ]
  },
  {
   "cell_type": "code",
   "execution_count": 89,
   "id": "56ad7014-b07d-486e-9047-f3e04560dccb",
   "metadata": {
    "slideshow": {
     "slide_type": "fragment"
    }
   },
   "outputs": [],
   "source": [
    "from sklearn.cluster import KMeans\n",
    "model = KMeans(n_clusters = 2)\n",
    "clusters = model.fit_predict(X_scaled)"
   ]
  },
  {
   "cell_type": "code",
   "execution_count": 90,
   "id": "bf8e2236-e1ef-472a-9827-511c6f546bd7",
   "metadata": {
    "slideshow": {
     "slide_type": "subslide"
    }
   },
   "outputs": [
    {
     "data": {
      "text/plain": [
       "<matplotlib.collections.PathCollection at 0x7fd8fb5f5b50>"
      ]
     },
     "execution_count": 90,
     "metadata": {},
     "output_type": "execute_result"
    },
    {
     "data": {
      "image/png": "[encoded data removed]",
      "text/plain": [
       "<Figure size 576x432 with 1 Axes>"
      ]
     },
     "metadata": {},
     "output_type": "display_data"
    }
   ],
   "source": [
    "plt.figure(figsize=[8, 6])\n",
    "plt.scatter(X_scaled[:, 0], X_scaled[:, 1], s=30, alpha=0.9, c=clusters)"
   ]
  },
  {
   "cell_type": "markdown",
   "id": "9c45ac6a-df0b-47c1-9b85-0190dc0ba329",
   "metadata": {
    "slideshow": {
     "slide_type": "subslide"
    }
   },
   "source": [
    "#### Now let's see with DBSCAN"
   ]
  },
  {
   "cell_type": "code",
   "execution_count": 91,
   "id": "5b0887c1-e77e-4f69-b08d-26b12287f03c",
   "metadata": {
    "slideshow": {
     "slide_type": "fragment"
    }
   },
   "outputs": [],
   "source": [
    "from sklearn.cluster import DBSCAN\n",
    "dbscan = DBSCAN(eps=0.2, min_samples=4) #radius and min_core_neighbors"
   ]
  },
  {
   "cell_type": "code",
   "execution_count": 92,
   "id": "f9326d5c-2d55-450a-9302-60167d66a604",
   "metadata": {
    "slideshow": {
     "slide_type": "subslide"
    }
   },
   "outputs": [],
   "source": [
    "clusters = dbscan.fit_predict(X_scaled)"
   ]
  },
  {
   "cell_type": "code",
   "execution_count": 93,
   "id": "566a9fb5-f4fd-4b77-ab68-bc7a41bbab82",
   "metadata": {
    "slideshow": {
     "slide_type": "fragment"
    }
   },
   "outputs": [
    {
     "data": {
      "text/plain": [
       "{0, 1}"
      ]
     },
     "execution_count": 93,
     "metadata": {},
     "output_type": "execute_result"
    }
   ],
   "source": [
    "set(clusters)"
   ]
  },
  {
   "cell_type": "markdown",
   "id": "4832a104-02ac-4bc7-9e6a-8a59700570d9",
   "metadata": {
    "slideshow": {
     "slide_type": "subslide"
    }
   },
   "source": [
    "To compute DBSCAN, we’ll go point by point and check if it is a core point or not. If it is a core point, we will create a new cluster and search through all of its neighbours. We’ll add the neighbourhoods of all these points to the cluster. If one of the points is a core point, its vicinity will be added to our search. This will continue until we cannot reach any more points. Then we’ll move on to the next point we haven’t visited/labelled."
   ]
  },
  {
   "cell_type": "code",
   "execution_count": 94,
   "id": "c3f7a856-8fe3-4079-9cc5-d802eb1a4526",
   "metadata": {
    "slideshow": {
     "slide_type": "subslide"
    }
   },
   "outputs": [
    {
     "data": {
      "text/plain": [
       "<matplotlib.collections.PathCollection at 0x7fd8fb6635b0>"
      ]
     },
     "execution_count": 94,
     "metadata": {},
     "output_type": "execute_result"
    },
    {
     "data": {
      "image/png": "[encoded data removed]",
      "text/plain": [
       "<Figure size 576x432 with 1 Axes>"
      ]
     },
     "metadata": {},
     "output_type": "display_data"
    }
   ],
   "source": [
    "plt.figure(figsize=[8, 6])\n",
    "plt.scatter(X_scaled[:, 0], X_scaled[:, 1], s=30, alpha=0.9, c=clusters)"
   ]
  }
 ],
 "metadata": {
  "kernelspec": {
   "display_name": "Python 3 (ipykernel)",
   "language": "python",
   "name": "python3"
  },
  "language_info": {
   "codemirror_mode": {
    "name": "ipython",
    "version": 3
   },
   "file_extension": ".py",
   "mimetype": "text/x-python",
   "name": "python",
   "nbconvert_exporter": "python",
   "pygments_lexer": "ipython3",
   "version": "3.9.12"
  }
 },
 "nbformat": 4,
 "nbformat_minor": 5
}
